{
 "cells": [
  {
   "cell_type": "code",
   "execution_count": 84,
   "id": "b76253ed",
   "metadata": {},
   "outputs": [
    {
     "name": "stdout",
     "output_type": "stream",
     "text": [
      "Requirement already satisfied: selenium in c:\\users\\garbi\\anaconda3\\lib\\site-packages (4.12.0)\n",
      "Requirement already satisfied: trio~=0.17 in c:\\users\\garbi\\anaconda3\\lib\\site-packages (from selenium) (0.22.2)\n",
      "Requirement already satisfied: urllib3[socks]<3,>=1.26 in c:\\users\\garbi\\anaconda3\\lib\\site-packages (from selenium) (1.26.14)\n",
      "Requirement already satisfied: trio-websocket~=0.9 in c:\\users\\garbi\\anaconda3\\lib\\site-packages (from selenium) (0.10.4)\n",
      "Requirement already satisfied: certifi>=2021.10.8 in c:\\users\\garbi\\anaconda3\\lib\\site-packages (from selenium) (2022.12.7)\n",
      "Requirement already satisfied: idna in c:\\users\\garbi\\anaconda3\\lib\\site-packages (from trio~=0.17->selenium) (3.4)\n",
      "Requirement already satisfied: cffi>=1.14 in c:\\users\\garbi\\anaconda3\\lib\\site-packages (from trio~=0.17->selenium) (1.15.1)\n",
      "Requirement already satisfied: sortedcontainers in c:\\users\\garbi\\anaconda3\\lib\\site-packages (from trio~=0.17->selenium) (2.4.0)\n",
      "Requirement already satisfied: exceptiongroup>=1.0.0rc9 in c:\\users\\garbi\\anaconda3\\lib\\site-packages (from trio~=0.17->selenium) (1.1.3)\n",
      "Requirement already satisfied: attrs>=20.1.0 in c:\\users\\garbi\\anaconda3\\lib\\site-packages (from trio~=0.17->selenium) (22.1.0)\n",
      "Requirement already satisfied: outcome in c:\\users\\garbi\\anaconda3\\lib\\site-packages (from trio~=0.17->selenium) (1.2.0)\n",
      "Requirement already satisfied: sniffio in c:\\users\\garbi\\anaconda3\\lib\\site-packages (from trio~=0.17->selenium) (1.2.0)\n",
      "Requirement already satisfied: wsproto>=0.14 in c:\\users\\garbi\\anaconda3\\lib\\site-packages (from trio-websocket~=0.9->selenium) (1.2.0)\n",
      "Requirement already satisfied: PySocks!=1.5.7,<2.0,>=1.5.6 in c:\\users\\garbi\\anaconda3\\lib\\site-packages (from urllib3[socks]<3,>=1.26->selenium) (1.7.1)\n",
      "Requirement already satisfied: pycparser in c:\\users\\garbi\\anaconda3\\lib\\site-packages (from cffi>=1.14->trio~=0.17->selenium) (2.21)\n",
      "Requirement already satisfied: h11<1,>=0.9.0 in c:\\users\\garbi\\anaconda3\\lib\\site-packages (from wsproto>=0.14->trio-websocket~=0.9->selenium) (0.14.0)\n"
     ]
    }
   ],
   "source": [
    "!pip install --upgrade selenium"
   ]
  },
  {
   "cell_type": "code",
   "execution_count": 2,
   "id": "6efc88fb",
   "metadata": {},
   "outputs": [],
   "source": [
    "import selenium"
   ]
  },
  {
   "cell_type": "code",
   "execution_count": 3,
   "id": "a2e04144",
   "metadata": {},
   "outputs": [],
   "source": [
    "import pandas as pd"
   ]
  },
  {
   "cell_type": "code",
   "execution_count": 4,
   "id": "8a4a4a28",
   "metadata": {},
   "outputs": [],
   "source": [
    "from selenium import webdriver"
   ]
  },
  {
   "cell_type": "code",
   "execution_count": 5,
   "id": "014a1ea1",
   "metadata": {},
   "outputs": [],
   "source": [
    "import warnings \n",
    "warnings.filterwarnings('ignore')"
   ]
  },
  {
   "cell_type": "code",
   "execution_count": 6,
   "id": "46853118",
   "metadata": {},
   "outputs": [],
   "source": [
    "from selenium.webdriver.common.by import By"
   ]
  },
  {
   "cell_type": "code",
   "execution_count": 7,
   "id": "f45242da",
   "metadata": {},
   "outputs": [],
   "source": [
    "import time"
   ]
  },
  {
   "cell_type": "markdown",
   "id": "941c8a2e",
   "metadata": {},
   "source": [
    "#### Q1: Write a python program to scrape data for “Data Analyst” Job position in “Bangalore” location. You\n",
    "#### have to scrape the job-title, job-location, company_name, experience_required. You have to scrape first 10\n",
    "#### jobs data.\n",
    "#### This task will be done in following steps:\n",
    "#### 1. First get the webpage https://www.shine.com/\n",
    "#### 2. Enter “Data Analyst” in “Job title, Skills” field and enter “Bangalore” in “enter the location” field.\n",
    "#### 3. Then click the searchbutton.\n",
    "#### 4. Then scrape the data for the first 10 jobs results you get.\n",
    "#### 5. Finally create a dataframe of the scraped data.\n",
    "#### Note: All of the above steps have to be done in code. No step is to be done manually."
   ]
  },
  {
   "cell_type": "code",
   "execution_count": 52,
   "id": "2e98e9c0",
   "metadata": {},
   "outputs": [],
   "source": [
    "driver=webdriver.Chrome()"
   ]
  },
  {
   "cell_type": "code",
   "execution_count": 11,
   "id": "433ca548",
   "metadata": {},
   "outputs": [],
   "source": [
    "driver.get(' https://www.shine.com/')"
   ]
  },
  {
   "cell_type": "code",
   "execution_count": 19,
   "id": "ab803509",
   "metadata": {},
   "outputs": [],
   "source": [
    "post=driver.find_element(By.XPATH,'/html/body/div[1]/div[4]/div/div[2]/div[2]/div/form/div/div[1]/ul/li[1]/div/input')\n",
    "post.send_keys('Data Analyst')"
   ]
  },
  {
   "cell_type": "code",
   "execution_count": 16,
   "id": "c80a6bd0",
   "metadata": {},
   "outputs": [],
   "source": [
    "location=driver.find_element(By.XPATH,'/html/body/div[1]/div[4]/div/div[2]/div[2]/div/form/div/div[1]/ul/li[2]/div/input')\n",
    "location.send_keys('Bangalore')"
   ]
  },
  {
   "cell_type": "code",
   "execution_count": 17,
   "id": "a4bca09d",
   "metadata": {},
   "outputs": [],
   "source": [
    "exp=driver.find_element(By.XPATH,'/html/body/div[1]/div[4]/div/div[2]/div[2]/div/form/div/div[1]/ul/li[3]/div/input[1]')\n",
    "exp.send_keys('1 Yrs')"
   ]
  },
  {
   "cell_type": "code",
   "execution_count": 32,
   "id": "2b356560",
   "metadata": {},
   "outputs": [],
   "source": [
    "serch=driver.find_element(By.XPATH,'/html/body/div[1]/div[4]/div/div[2]/div[2]/div/form/div/div[2]/div/button')\n",
    "serch.click()"
   ]
  },
  {
   "cell_type": "code",
   "execution_count": 44,
   "id": "a5783e81",
   "metadata": {},
   "outputs": [],
   "source": [
    "job_title=[]"
   ]
  },
  {
   "cell_type": "code",
   "execution_count": 35,
   "id": "e39a4e64",
   "metadata": {},
   "outputs": [],
   "source": [
    "company_name=[]"
   ]
  },
  {
   "cell_type": "code",
   "execution_count": 37,
   "id": "a6e9c7e3",
   "metadata": {},
   "outputs": [],
   "source": [
    "job_location=[]"
   ]
  },
  {
   "cell_type": "code",
   "execution_count": 38,
   "id": "4a5d8b1f",
   "metadata": {},
   "outputs": [],
   "source": [
    "experience_required=[]"
   ]
  },
  {
   "cell_type": "code",
   "execution_count": 41,
   "id": "ab7dea90",
   "metadata": {},
   "outputs": [],
   "source": [
    "job_t=driver.find_elements(By.XPATH,'//h2[@itemprop=\"name\"]')"
   ]
  },
  {
   "cell_type": "code",
   "execution_count": 45,
   "id": "4628cd25",
   "metadata": {},
   "outputs": [],
   "source": [
    "for i in job_t[0:10]:\n",
    "    a=i.text\n",
    "    job_title.append(a)"
   ]
  },
  {
   "cell_type": "code",
   "execution_count": null,
   "id": "0ba7f735",
   "metadata": {},
   "outputs": [],
   "source": []
  },
  {
   "cell_type": "code",
   "execution_count": 47,
   "id": "bd291c80",
   "metadata": {},
   "outputs": [],
   "source": [
    "company=driver.find_elements(By.XPATH,'//div[@class=\"jobCard_jobCard_cName__mYnow\"]')"
   ]
  },
  {
   "cell_type": "code",
   "execution_count": 48,
   "id": "6acca507",
   "metadata": {},
   "outputs": [],
   "source": [
    "for i in company[0:10]:\n",
    "    b=i.text\n",
    "    company_name.append(b)"
   ]
  },
  {
   "cell_type": "code",
   "execution_count": null,
   "id": "9a84005b",
   "metadata": {},
   "outputs": [],
   "source": []
  },
  {
   "cell_type": "code",
   "execution_count": 51,
   "id": "f4ce46a6",
   "metadata": {},
   "outputs": [],
   "source": [
    "experience=driver.find_elements(By.XPATH,'//div[@class=\" jobCard_jobCard_lists_item__YxRkV jobCard_jobIcon__3FB1t\"]')"
   ]
  },
  {
   "cell_type": "code",
   "execution_count": 53,
   "id": "77cad98b",
   "metadata": {},
   "outputs": [],
   "source": [
    "for i in experience[0:10]:\n",
    "    c=i.text\n",
    "    experience_required.append(c)"
   ]
  },
  {
   "cell_type": "code",
   "execution_count": null,
   "id": "3253b37e",
   "metadata": {},
   "outputs": [],
   "source": []
  },
  {
   "cell_type": "code",
   "execution_count": 55,
   "id": "f4b7852f",
   "metadata": {},
   "outputs": [],
   "source": [
    "gps=driver.find_elements(By.XPATH,'//div[@class=\" jobCard_jobCard_lists_item__YxRkV jobCard_locationIcon__zrWt2\"]')"
   ]
  },
  {
   "cell_type": "code",
   "execution_count": 56,
   "id": "b27e3ee8",
   "metadata": {},
   "outputs": [],
   "source": [
    "for i in gps[0:10]:\n",
    "    d=i.text\n",
    "    job_location.append(d)"
   ]
  },
  {
   "cell_type": "code",
   "execution_count": 59,
   "id": "553746d4",
   "metadata": {},
   "outputs": [],
   "source": [
    "jobs_of_data_anlyst=pd.DataFrame({'job_title':job_title,'company_name':company_name,'experience_required':experience_required,'job_location':job_location})"
   ]
  },
  {
   "cell_type": "code",
   "execution_count": 60,
   "id": "7477ab9d",
   "metadata": {},
   "outputs": [
    {
     "data": {
      "text/html": [
       "<div>\n",
       "<style scoped>\n",
       "    .dataframe tbody tr th:only-of-type {\n",
       "        vertical-align: middle;\n",
       "    }\n",
       "\n",
       "    .dataframe tbody tr th {\n",
       "        vertical-align: top;\n",
       "    }\n",
       "\n",
       "    .dataframe thead th {\n",
       "        text-align: right;\n",
       "    }\n",
       "</style>\n",
       "<table border=\"1\" class=\"dataframe\">\n",
       "  <thead>\n",
       "    <tr style=\"text-align: right;\">\n",
       "      <th></th>\n",
       "      <th>job_title</th>\n",
       "      <th>company_name</th>\n",
       "      <th>experience_required</th>\n",
       "      <th>job_location</th>\n",
       "    </tr>\n",
       "  </thead>\n",
       "  <tbody>\n",
       "    <tr>\n",
       "      <th>0</th>\n",
       "      <td>Senior Data Analyst</td>\n",
       "      <td>harjai computers private limited</td>\n",
       "      <td>0 to 2 Yrs</td>\n",
       "      <td>Bangalore\\n+8</td>\n",
       "    </tr>\n",
       "    <tr>\n",
       "      <th>1</th>\n",
       "      <td>Hiring For Data Analyst</td>\n",
       "      <td>harjai computers private limited</td>\n",
       "      <td>2 to 5 Yrs</td>\n",
       "      <td>Bangalore\\n+8</td>\n",
       "    </tr>\n",
       "    <tr>\n",
       "      <th>2</th>\n",
       "      <td>Data Analyst</td>\n",
       "      <td>true caller</td>\n",
       "      <td>3 to 5 Yrs</td>\n",
       "      <td>Bangalore</td>\n",
       "    </tr>\n",
       "    <tr>\n",
       "      <th>3</th>\n",
       "      <td>Clinical Data Analyst</td>\n",
       "      <td>quiscon biotech</td>\n",
       "      <td>0 to 2 Yrs</td>\n",
       "      <td>Bangalore\\n+4</td>\n",
       "    </tr>\n",
       "    <tr>\n",
       "      <th>4</th>\n",
       "      <td>Mobility Data Analyst - IN/MKR</td>\n",
       "      <td>bosch group</td>\n",
       "      <td>4 to 6 Yrs</td>\n",
       "      <td>Bangalore</td>\n",
       "    </tr>\n",
       "    <tr>\n",
       "      <th>5</th>\n",
       "      <td>Senior Data Analyst</td>\n",
       "      <td>true caller</td>\n",
       "      <td>5 to 7 Yrs</td>\n",
       "      <td>Bangalore</td>\n",
       "    </tr>\n",
       "    <tr>\n",
       "      <th>6</th>\n",
       "      <td>Data Analyst</td>\n",
       "      <td>rama technical consultants</td>\n",
       "      <td>11 to 21 Yrs</td>\n",
       "      <td>Bangalore\\n+13</td>\n",
       "    </tr>\n",
       "    <tr>\n",
       "      <th>7</th>\n",
       "      <td>Data Analyst - Java/Python</td>\n",
       "      <td>boyen haddin consulting and technol...</td>\n",
       "      <td>3 to 6 Yrs</td>\n",
       "      <td>Bangalore</td>\n",
       "    </tr>\n",
       "    <tr>\n",
       "      <th>8</th>\n",
       "      <td>Business Data Analyst, GlowRoad</td>\n",
       "      <td>amazon</td>\n",
       "      <td>1 to 3 Yrs</td>\n",
       "      <td>Bangalore</td>\n",
       "    </tr>\n",
       "    <tr>\n",
       "      <th>9</th>\n",
       "      <td>Project Coordinator (Data Analyst)</td>\n",
       "      <td>futures and careers</td>\n",
       "      <td>2 to 4 Yrs</td>\n",
       "      <td>Bangalore</td>\n",
       "    </tr>\n",
       "  </tbody>\n",
       "</table>\n",
       "</div>"
      ],
      "text/plain": [
       "                            job_title                            company_name  \\\n",
       "0                 Senior Data Analyst        harjai computers private limited   \n",
       "1             Hiring For Data Analyst        harjai computers private limited   \n",
       "2                        Data Analyst                             true caller   \n",
       "3               Clinical Data Analyst                         quiscon biotech   \n",
       "4      Mobility Data Analyst - IN/MKR                             bosch group   \n",
       "5                 Senior Data Analyst                             true caller   \n",
       "6                        Data Analyst              rama technical consultants   \n",
       "7          Data Analyst - Java/Python  boyen haddin consulting and technol...   \n",
       "8     Business Data Analyst, GlowRoad                                  amazon   \n",
       "9  Project Coordinator (Data Analyst)                     futures and careers   \n",
       "\n",
       "  experience_required    job_location  \n",
       "0          0 to 2 Yrs   Bangalore\\n+8  \n",
       "1          2 to 5 Yrs   Bangalore\\n+8  \n",
       "2          3 to 5 Yrs       Bangalore  \n",
       "3          0 to 2 Yrs   Bangalore\\n+4  \n",
       "4          4 to 6 Yrs       Bangalore  \n",
       "5          5 to 7 Yrs       Bangalore  \n",
       "6        11 to 21 Yrs  Bangalore\\n+13  \n",
       "7          3 to 6 Yrs       Bangalore  \n",
       "8          1 to 3 Yrs       Bangalore  \n",
       "9          2 to 4 Yrs       Bangalore  "
      ]
     },
     "execution_count": 60,
     "metadata": {},
     "output_type": "execute_result"
    }
   ],
   "source": [
    "jobs_of_data_anlyst"
   ]
  },
  {
   "cell_type": "markdown",
   "id": "949e6c70",
   "metadata": {},
   "source": []
  },
  {
   "cell_type": "markdown",
   "id": "57ef4dff",
   "metadata": {},
   "source": [
    "#### Q2:Write a python program to scrape data for “Data Scientist” Job position in“Bangalore” location. You\n",
    "#### ave to scrape the job-title, job-location, company_name. You have to scrape first 10 jobs data.\n",
    "#### his task will be done in following steps:\n",
    "#### 1. First get the webpage https://www.shine.com/\n",
    "#### 2. Enter “Data Scientist” in “Job title, Skills” field and enter “Bangalore” in “enter thelocation” field.\n",
    "#### 3. Then click the search button.\n",
    "#### 4. Then scrape the data for the first 10 jobs results you get.\n",
    "#### 5. Finally create a dataframe of the scraped data.\n",
    "#### Note: All of the above steps have to be done in code. No step is to be done manually.\n"
   ]
  },
  {
   "cell_type": "code",
   "execution_count": 25,
   "id": "9dc832c3",
   "metadata": {},
   "outputs": [],
   "source": [
    "driver.get(' https://www.shine.com/')"
   ]
  },
  {
   "cell_type": "code",
   "execution_count": 29,
   "id": "967b2c57",
   "metadata": {},
   "outputs": [],
   "source": [
    "dpost=driver.find_element(By.XPATH,'/html/body/div[1]/div[4]/div/div[2]/div[2]/div/form/div/div[1]/ul/li[1]/div/input')\n",
    "dpost.send_keys('Data Scientist')"
   ]
  },
  {
   "cell_type": "code",
   "execution_count": 30,
   "id": "8ca06ca7",
   "metadata": {},
   "outputs": [],
   "source": [
    "dlocation=driver.find_element(By.XPATH,'/html/body/div[1]/div[4]/div/div[2]/div[2]/div/form/div/div[1]/ul/li[2]/div/input')\n",
    "dlocation.send_keys('Bangalore')"
   ]
  },
  {
   "cell_type": "code",
   "execution_count": 31,
   "id": "c6bec090",
   "metadata": {},
   "outputs": [],
   "source": [
    "dserch=driver.find_element(By.XPATH,'/html/body/div[1]/div[4]/div/div[2]/div[2]/div/form/div/div[2]/div/button')\n",
    "dserch.click()"
   ]
  },
  {
   "cell_type": "code",
   "execution_count": null,
   "id": "614291b0",
   "metadata": {},
   "outputs": [],
   "source": []
  },
  {
   "cell_type": "code",
   "execution_count": 33,
   "id": "b3eb9812",
   "metadata": {},
   "outputs": [],
   "source": [
    " job_title1=[]"
   ]
  },
  {
   "cell_type": "code",
   "execution_count": 34,
   "id": "1685b2bc",
   "metadata": {},
   "outputs": [],
   "source": [
    "company_name1=[]"
   ]
  },
  {
   "cell_type": "code",
   "execution_count": 49,
   "id": "14185bc3",
   "metadata": {},
   "outputs": [],
   "source": [
    "job_location1=[]"
   ]
  },
  {
   "cell_type": "code",
   "execution_count": 36,
   "id": "368c419b",
   "metadata": {},
   "outputs": [],
   "source": [
    "experience_required1=[]"
   ]
  },
  {
   "cell_type": "code",
   "execution_count": null,
   "id": "abbab94c",
   "metadata": {},
   "outputs": [],
   "source": []
  },
  {
   "cell_type": "code",
   "execution_count": 37,
   "id": "b9f8361f",
   "metadata": {},
   "outputs": [],
   "source": [
    "job_post_1=driver.find_elements(By.XPATH,'//h2[@itemprop=\"name\"]')"
   ]
  },
  {
   "cell_type": "code",
   "execution_count": 38,
   "id": "224dabe1",
   "metadata": {},
   "outputs": [],
   "source": [
    "for i in job_post_1[0:10]:\n",
    "    e=i.text\n",
    "    job_title1.append(e)"
   ]
  },
  {
   "cell_type": "code",
   "execution_count": 40,
   "id": "b8268224",
   "metadata": {},
   "outputs": [],
   "source": [
    "com=driver.find_elements(By.XPATH,'//div[@class=\"jobCard_jobCard_cName__mYnow\"]')"
   ]
  },
  {
   "cell_type": "code",
   "execution_count": 41,
   "id": "e088ffde",
   "metadata": {},
   "outputs": [],
   "source": [
    "for i in com[0:10]:\n",
    "    f=i.text\n",
    "    company_name1.append(f)"
   ]
  },
  {
   "cell_type": "code",
   "execution_count": 51,
   "id": "2349e25a",
   "metadata": {},
   "outputs": [],
   "source": [
    "location=driver.find_elements(By.XPATH,'//div[@class=\" jobCard_jobCard_lists_item__YxRkV jobCard_locationIcon__zrWt2\"]')"
   ]
  },
  {
   "cell_type": "code",
   "execution_count": 52,
   "id": "36c62df8",
   "metadata": {},
   "outputs": [],
   "source": [
    "for i in location[0:10]:\n",
    "    g=i.text\n",
    "    job_location1.append(g)"
   ]
  },
  {
   "cell_type": "code",
   "execution_count": 58,
   "id": "43cb0d66",
   "metadata": {},
   "outputs": [],
   "source": [
    "expre=driver.find_elements(By.XPATH,'//div[@class=\" jobCard_jobCard_lists_item__YxRkV jobCard_jobIcon__3FB1t\"]')"
   ]
  },
  {
   "cell_type": "code",
   "execution_count": 59,
   "id": "9f69cd73",
   "metadata": {},
   "outputs": [],
   "source": [
    "for i in expre[0:10]:\n",
    "    h=i.text\n",
    "    experience_required1.append(h)"
   ]
  },
  {
   "cell_type": "code",
   "execution_count": null,
   "id": "dceb8a3f",
   "metadata": {},
   "outputs": [],
   "source": []
  },
  {
   "cell_type": "code",
   "execution_count": 63,
   "id": "955279db",
   "metadata": {},
   "outputs": [],
   "source": [
    "job_for_Data_Scientist=pd.DataFrame({'job_title1':job_title1,'company_name1':company_name1,'job_location1':job_location1,'experience_required1':experience_required1})"
   ]
  },
  {
   "cell_type": "code",
   "execution_count": 64,
   "id": "6f880e96",
   "metadata": {},
   "outputs": [
    {
     "data": {
      "text/html": [
       "<div>\n",
       "<style scoped>\n",
       "    .dataframe tbody tr th:only-of-type {\n",
       "        vertical-align: middle;\n",
       "    }\n",
       "\n",
       "    .dataframe tbody tr th {\n",
       "        vertical-align: top;\n",
       "    }\n",
       "\n",
       "    .dataframe thead th {\n",
       "        text-align: right;\n",
       "    }\n",
       "</style>\n",
       "<table border=\"1\" class=\"dataframe\">\n",
       "  <thead>\n",
       "    <tr style=\"text-align: right;\">\n",
       "      <th></th>\n",
       "      <th>job_title1</th>\n",
       "      <th>company_name1</th>\n",
       "      <th>job_location1</th>\n",
       "      <th>experience_required1</th>\n",
       "    </tr>\n",
       "  </thead>\n",
       "  <tbody>\n",
       "    <tr>\n",
       "      <th>0</th>\n",
       "      <td>Data Scientist</td>\n",
       "      <td>the fashion cosmo</td>\n",
       "      <td>Bangalore</td>\n",
       "      <td>0 to 4 Yrs</td>\n",
       "    </tr>\n",
       "    <tr>\n",
       "      <th>1</th>\n",
       "      <td>SR. DATA SCIENTIST</td>\n",
       "      <td>te connectivity india pvt ltd</td>\n",
       "      <td>Bangalore</td>\n",
       "      <td>5 to 7 Yrs</td>\n",
       "    </tr>\n",
       "    <tr>\n",
       "      <th>2</th>\n",
       "      <td>Senior Data Scientist- ML Engineer</td>\n",
       "      <td>sap india pvt ltd</td>\n",
       "      <td>Bangalore</td>\n",
       "      <td>5 to 7 Yrs</td>\n",
       "    </tr>\n",
       "    <tr>\n",
       "      <th>3</th>\n",
       "      <td>Data Scientist Hiring Fresher and Experience</td>\n",
       "      <td>kavya staffing solutions</td>\n",
       "      <td>Bangalore\\n+17</td>\n",
       "      <td>0 to 4 Yrs</td>\n",
       "    </tr>\n",
       "    <tr>\n",
       "      <th>4</th>\n",
       "      <td>Data Scientist III</td>\n",
       "      <td>inmobi</td>\n",
       "      <td>Bangalore</td>\n",
       "      <td>7 to 9 Yrs</td>\n",
       "    </tr>\n",
       "    <tr>\n",
       "      <th>5</th>\n",
       "      <td>Data Scientist</td>\n",
       "      <td>quiscon biotech</td>\n",
       "      <td>Bangalore\\n+6</td>\n",
       "      <td>0 to 1 Yr</td>\n",
       "    </tr>\n",
       "    <tr>\n",
       "      <th>6</th>\n",
       "      <td>Senior Data Scientist, AWS</td>\n",
       "      <td>amazon</td>\n",
       "      <td>Bangalore</td>\n",
       "      <td>10 to 12 Yrs</td>\n",
       "    </tr>\n",
       "    <tr>\n",
       "      <th>7</th>\n",
       "      <td>Data Scientist Recruitment</td>\n",
       "      <td>kavya staffing solutions</td>\n",
       "      <td>Bangalore\\n+17</td>\n",
       "      <td>0 to 4 Yrs</td>\n",
       "    </tr>\n",
       "    <tr>\n",
       "      <th>8</th>\n",
       "      <td>Hiring For Data Scientist</td>\n",
       "      <td>kavya staffing solutions</td>\n",
       "      <td>Bangalore\\n+17</td>\n",
       "      <td>0 to 4 Yrs</td>\n",
       "    </tr>\n",
       "    <tr>\n",
       "      <th>9</th>\n",
       "      <td>Hiring For Data Scientist</td>\n",
       "      <td>kavya staffing solutions</td>\n",
       "      <td>Bangalore\\n+17</td>\n",
       "      <td>0 to 4 Yrs</td>\n",
       "    </tr>\n",
       "  </tbody>\n",
       "</table>\n",
       "</div>"
      ],
      "text/plain": [
       "                                     job_title1  \\\n",
       "0                                Data Scientist   \n",
       "1                            SR. DATA SCIENTIST   \n",
       "2            Senior Data Scientist- ML Engineer   \n",
       "3  Data Scientist Hiring Fresher and Experience   \n",
       "4                            Data Scientist III   \n",
       "5                                Data Scientist   \n",
       "6                    Senior Data Scientist, AWS   \n",
       "7                    Data Scientist Recruitment   \n",
       "8                     Hiring For Data Scientist   \n",
       "9                     Hiring For Data Scientist   \n",
       "\n",
       "                   company_name1   job_location1 experience_required1  \n",
       "0              the fashion cosmo       Bangalore           0 to 4 Yrs  \n",
       "1  te connectivity india pvt ltd       Bangalore           5 to 7 Yrs  \n",
       "2              sap india pvt ltd       Bangalore           5 to 7 Yrs  \n",
       "3       kavya staffing solutions  Bangalore\\n+17           0 to 4 Yrs  \n",
       "4                         inmobi       Bangalore           7 to 9 Yrs  \n",
       "5                quiscon biotech   Bangalore\\n+6            0 to 1 Yr  \n",
       "6                         amazon       Bangalore         10 to 12 Yrs  \n",
       "7       kavya staffing solutions  Bangalore\\n+17           0 to 4 Yrs  \n",
       "8       kavya staffing solutions  Bangalore\\n+17           0 to 4 Yrs  \n",
       "9       kavya staffing solutions  Bangalore\\n+17           0 to 4 Yrs  "
      ]
     },
     "execution_count": 64,
     "metadata": {},
     "output_type": "execute_result"
    }
   ],
   "source": [
    "job_for_Data_Scientist"
   ]
  },
  {
   "cell_type": "code",
   "execution_count": null,
   "id": "a2d93a88",
   "metadata": {},
   "outputs": [],
   "source": []
  },
  {
   "cell_type": "markdown",
   "id": "6fa05ed6",
   "metadata": {},
   "source": [
    "#### Q3: In this question you have to scrape data using the filters available on the webpage \n",
    " #### You have to use the location and salary filter.\n",
    "#### You have to scrape data for “Data Scientist” designation for first 10 job results.\n",
    "#### ou have to scrape the job-title, job-location, company name, experience required.\n",
    "#### The location filter to be used is “Delhi/NCR”. The salary filter to be used is “3-6” lakhs\n",
    "#### The task will be done as shown in the below steps:\n",
    "#### 1. first get the web page https://www.shine.com/\n",
    "#### 2. Enter “Data Scientist” in “Skill, Designations, and Companies” field.\n",
    "#### 3. Then click the search button.\n",
    "#### 4. Then apply the location filter and salary filter by checking the respective boxes\n",
    "#### 5. Then scrape the data for the first 10 jobs results you get.\n",
    "#### 6. Finally create a dataframe of the scrapeddata.\n",
    "#### Note: All of the above steps have to be done in code. No step is to be done manually.\n"
   ]
  },
  {
   "cell_type": "code",
   "execution_count": null,
   "id": "3997eeb8",
   "metadata": {},
   "outputs": [],
   "source": []
  },
  {
   "cell_type": "code",
   "execution_count": 20,
   "id": "74e3f741",
   "metadata": {},
   "outputs": [],
   "source": [
    "driver.get(' https://www.shine.com/')"
   ]
  },
  {
   "cell_type": "code",
   "execution_count": 22,
   "id": "25956c20",
   "metadata": {},
   "outputs": [],
   "source": [
    "dpost=driver.find_element(By.XPATH,'/html/body/div[1]/div[4]/div/div[2]/div[2]/div/form/div/div[1]/ul/li[1]/div/input')\n",
    "dpost.send_keys('Data Scientist')"
   ]
  },
  {
   "cell_type": "code",
   "execution_count": 25,
   "id": "e677479a",
   "metadata": {},
   "outputs": [],
   "source": [
    "dserch=driver.find_element(By.XPATH,'/html/body/div[1]/div[4]/div/div[2]/div[2]/div/form/div/div[2]/div/button')\n",
    "dserch.click()"
   ]
  },
  {
   "cell_type": "code",
   "execution_count": 29,
   "id": "8bd7fb24",
   "metadata": {},
   "outputs": [],
   "source": [
    "job_location=driver.find_element(By.XPATH,'/html/body/div[1]/div[1]/div[4]/div/div[1]/div/div[2]/div[2]/div/div/div/div[3]/div/div/div/ul/li[1]/input')\n",
    "job_location.send_keys('Delhi')"
   ]
  },
  {
   "cell_type": "code",
   "execution_count": 95,
   "id": "aafeff4f",
   "metadata": {},
   "outputs": [],
   "source": [
    "locatin_click=driver.find_element(By.XPATH,'/html/body/div[1]/div[1]/div[4]/div/div[1]/div/div[2]/div[2]/div/div/div/div[4]/button[2]')\n",
    "locatin_click.click()"
   ]
  },
  {
   "cell_type": "code",
   "execution_count": 30,
   "id": "ab78cf07",
   "metadata": {},
   "outputs": [],
   "source": [
    "filter_click=driver.find_element(By.XPATH,'/html/body/div[1]/div[1]/div[4]/div/div[1]/div/div[2]/div[2]/div/div/div/div[3]/div/div/div/ul/li[2]')\n",
    "filter_click.click()"
   ]
  },
  {
   "cell_type": "code",
   "execution_count": 33,
   "id": "68fcc127",
   "metadata": {},
   "outputs": [],
   "source": [
    "show_result=driver.find_element(By.XPATH,'/html/body/div[1]/div[1]/div[4]/div/div[1]/div/div[2]/div[2]/div/div/div/div[4]/button[2]')\n",
    "show_result.click()"
   ]
  },
  {
   "cell_type": "code",
   "execution_count": 34,
   "id": "dc6c530d",
   "metadata": {},
   "outputs": [],
   "source": [
    "sallary_filter=driver.find_element(By.XPATH,'/html/body/div[1]/div[1]/div[4]/div/div[1]/div/div[2]/div[2]/div/div/div/div[3]/div/div/div/ul/li[1]/input')\n",
    "sallary_filter.send_keys('3 to 5 lakh')"
   ]
  },
  {
   "cell_type": "code",
   "execution_count": 35,
   "id": "11f5307a",
   "metadata": {},
   "outputs": [],
   "source": [
    "filter_clicks=driver.find_element(By.XPATH,'/html/body/div[1]/div[1]/div[4]/div/div[1]/div/div[2]/div[2]/div/div/div/div[3]/div/div/div/ul/li[2]/span/label')\n",
    "filter_clicks.click()"
   ]
  },
  {
   "cell_type": "code",
   "execution_count": 36,
   "id": "69f3eeb3",
   "metadata": {},
   "outputs": [],
   "source": [
    "show_result=driver.find_element(By.XPATH,'/html/body/div[1]/div[1]/div[4]/div/div[1]/div/div[2]/div[2]/div/div/div/div[4]/button[2]')\n",
    "show_result.click()"
   ]
  },
  {
   "cell_type": "code",
   "execution_count": 37,
   "id": "617bedd8",
   "metadata": {},
   "outputs": [],
   "source": [
    " job_title2=[]"
   ]
  },
  {
   "cell_type": "code",
   "execution_count": 38,
   "id": "52b74853",
   "metadata": {},
   "outputs": [],
   "source": [
    "company_name2=[]"
   ]
  },
  {
   "cell_type": "code",
   "execution_count": 39,
   "id": "47461336",
   "metadata": {},
   "outputs": [],
   "source": [
    "job_location2=[]"
   ]
  },
  {
   "cell_type": "code",
   "execution_count": 40,
   "id": "49f095d2",
   "metadata": {},
   "outputs": [],
   "source": [
    "experience_required2=[]"
   ]
  },
  {
   "cell_type": "code",
   "execution_count": null,
   "id": "0910791d",
   "metadata": {},
   "outputs": [],
   "source": []
  },
  {
   "cell_type": "code",
   "execution_count": 41,
   "id": "11dd909a",
   "metadata": {},
   "outputs": [],
   "source": [
    "job_post_2=driver.find_elements(By.XPATH,'//h2[@itemprop=\"name\"]')"
   ]
  },
  {
   "cell_type": "code",
   "execution_count": 42,
   "id": "c6505467",
   "metadata": {},
   "outputs": [],
   "source": [
    "for i in job_post_2[0:10]:\n",
    "    j=i.text\n",
    "    job_title2.append(j)"
   ]
  },
  {
   "cell_type": "code",
   "execution_count": 43,
   "id": "1391cbae",
   "metadata": {},
   "outputs": [],
   "source": [
    "comm=driver.find_elements(By.XPATH,'//div[@class=\"jobCard_jobCard_cName__mYnow\"]')"
   ]
  },
  {
   "cell_type": "code",
   "execution_count": 44,
   "id": "61517d3b",
   "metadata": {},
   "outputs": [],
   "source": [
    "for i in comm[0:10]:\n",
    "    k=i.text\n",
    "    company_name2.append(k)"
   ]
  },
  {
   "cell_type": "code",
   "execution_count": 45,
   "id": "ad89982f",
   "metadata": {},
   "outputs": [],
   "source": [
    "locasion=driver.find_elements(By.XPATH,'//div[@class=\" jobCard_jobCard_lists_item__YxRkV jobCard_locationIcon__zrWt2\"]')"
   ]
  },
  {
   "cell_type": "code",
   "execution_count": 46,
   "id": "5c30a1c6",
   "metadata": {},
   "outputs": [],
   "source": [
    "for i in locasion[0:10]:\n",
    "    l=i.text\n",
    "    job_location2.append(l)"
   ]
  },
  {
   "cell_type": "code",
   "execution_count": 47,
   "id": "79d27714",
   "metadata": {},
   "outputs": [],
   "source": [
    "expreq=driver.find_elements(By.XPATH,'//div[@class=\" jobCard_jobCard_lists_item__YxRkV jobCard_jobIcon__3FB1t\"]')"
   ]
  },
  {
   "cell_type": "code",
   "execution_count": 48,
   "id": "be8bd3db",
   "metadata": {},
   "outputs": [],
   "source": [
    "for i in expreq[0:10]:\n",
    "    m=i.text\n",
    "    experience_required2.append(m)"
   ]
  },
  {
   "cell_type": "code",
   "execution_count": null,
   "id": "021579d6",
   "metadata": {},
   "outputs": [],
   "source": []
  },
  {
   "cell_type": "code",
   "execution_count": 49,
   "id": "dd944e7b",
   "metadata": {},
   "outputs": [],
   "source": [
    "job_Data_Scientist_filter=pd.DataFrame({'job_title2':job_title2,'company_name2':company_name2,'job_location2':job_location2,\n",
    "                                        'experience_required2':experience_required2})"
   ]
  },
  {
   "cell_type": "markdown",
   "id": "7563eb67",
   "metadata": {},
   "source": []
  },
  {
   "cell_type": "code",
   "execution_count": 50,
   "id": "08c18cbf",
   "metadata": {},
   "outputs": [
    {
     "data": {
      "text/html": [
       "<div>\n",
       "<style scoped>\n",
       "    .dataframe tbody tr th:only-of-type {\n",
       "        vertical-align: middle;\n",
       "    }\n",
       "\n",
       "    .dataframe tbody tr th {\n",
       "        vertical-align: top;\n",
       "    }\n",
       "\n",
       "    .dataframe thead th {\n",
       "        text-align: right;\n",
       "    }\n",
       "</style>\n",
       "<table border=\"1\" class=\"dataframe\">\n",
       "  <thead>\n",
       "    <tr style=\"text-align: right;\">\n",
       "      <th></th>\n",
       "      <th>job_title2</th>\n",
       "      <th>company_name2</th>\n",
       "      <th>job_location2</th>\n",
       "      <th>experience_required2</th>\n",
       "    </tr>\n",
       "  </thead>\n",
       "  <tbody>\n",
       "    <tr>\n",
       "      <th>0</th>\n",
       "      <td>Data Scientist</td>\n",
       "      <td>quiscon biotech</td>\n",
       "      <td>Delhi\\n+6</td>\n",
       "      <td>0 to 1 Yr</td>\n",
       "    </tr>\n",
       "    <tr>\n",
       "      <th>1</th>\n",
       "      <td>DATA SCIENTIST DELHI</td>\n",
       "      <td>skyleaf consultants</td>\n",
       "      <td>Delhi</td>\n",
       "      <td>3 to 6 Yrs</td>\n",
       "    </tr>\n",
       "    <tr>\n",
       "      <th>2</th>\n",
       "      <td>Data Scientist</td>\n",
       "      <td>quiscon biotech</td>\n",
       "      <td>Delhi\\n+6</td>\n",
       "      <td>0 to 3 Yrs</td>\n",
       "    </tr>\n",
       "    <tr>\n",
       "      <th>3</th>\n",
       "      <td>DATA SCIENTIST DELHI</td>\n",
       "      <td>skyleaf consultants</td>\n",
       "      <td>Delhi</td>\n",
       "      <td>3 to 6 Yrs</td>\n",
       "    </tr>\n",
       "    <tr>\n",
       "      <th>4</th>\n",
       "      <td>Technical Data Analyst</td>\n",
       "      <td>krishna consultancy.. hiring for co...</td>\n",
       "      <td>Delhi\\n+9</td>\n",
       "      <td>4 to 9 Yrs</td>\n",
       "    </tr>\n",
       "    <tr>\n",
       "      <th>5</th>\n",
       "      <td>DATA SCIENTIST DELHI</td>\n",
       "      <td>skyleaf consultants</td>\n",
       "      <td>Delhi</td>\n",
       "      <td>3 to 6 Yrs</td>\n",
       "    </tr>\n",
       "    <tr>\n",
       "      <th>6</th>\n",
       "      <td>Senior Data Engineer</td>\n",
       "      <td>corporate steps..</td>\n",
       "      <td>Delhi\\n+6</td>\n",
       "      <td>2 to 4 Yrs</td>\n",
       "    </tr>\n",
       "    <tr>\n",
       "      <th>7</th>\n",
       "      <td>Hiring For Data Analyst</td>\n",
       "      <td>harjai computers private limited</td>\n",
       "      <td>Delhi\\n+8</td>\n",
       "      <td>2 to 5 Yrs</td>\n",
       "    </tr>\n",
       "    <tr>\n",
       "      <th>8</th>\n",
       "      <td>Senior Data Analyst</td>\n",
       "      <td>harjai computers private limited</td>\n",
       "      <td>Delhi\\n+8</td>\n",
       "      <td>0 to 2 Yrs</td>\n",
       "    </tr>\n",
       "    <tr>\n",
       "      <th>9</th>\n",
       "      <td>for _GCP Data Engineer/Lead/Architect- Delhi</td>\n",
       "      <td>nina s hr consultancy</td>\n",
       "      <td>Delhi</td>\n",
       "      <td>2 to 3 Yrs</td>\n",
       "    </tr>\n",
       "  </tbody>\n",
       "</table>\n",
       "</div>"
      ],
      "text/plain": [
       "                                     job_title2  \\\n",
       "0                                Data Scientist   \n",
       "1                          DATA SCIENTIST DELHI   \n",
       "2                                Data Scientist   \n",
       "3                          DATA SCIENTIST DELHI   \n",
       "4                        Technical Data Analyst   \n",
       "5                          DATA SCIENTIST DELHI   \n",
       "6                          Senior Data Engineer   \n",
       "7                       Hiring For Data Analyst   \n",
       "8                           Senior Data Analyst   \n",
       "9  for _GCP Data Engineer/Lead/Architect- Delhi   \n",
       "\n",
       "                            company_name2 job_location2 experience_required2  \n",
       "0                         quiscon biotech     Delhi\\n+6            0 to 1 Yr  \n",
       "1                     skyleaf consultants         Delhi           3 to 6 Yrs  \n",
       "2                         quiscon biotech     Delhi\\n+6           0 to 3 Yrs  \n",
       "3                     skyleaf consultants         Delhi           3 to 6 Yrs  \n",
       "4  krishna consultancy.. hiring for co...     Delhi\\n+9           4 to 9 Yrs  \n",
       "5                     skyleaf consultants         Delhi           3 to 6 Yrs  \n",
       "6                       corporate steps..     Delhi\\n+6           2 to 4 Yrs  \n",
       "7        harjai computers private limited     Delhi\\n+8           2 to 5 Yrs  \n",
       "8        harjai computers private limited     Delhi\\n+8           0 to 2 Yrs  \n",
       "9                   nina s hr consultancy         Delhi           2 to 3 Yrs  "
      ]
     },
     "execution_count": 50,
     "metadata": {},
     "output_type": "execute_result"
    }
   ],
   "source": [
    "job_Data_Scientist_filter"
   ]
  },
  {
   "cell_type": "markdown",
   "id": "85a2326b",
   "metadata": {},
   "source": [
    "#### Q4: Scrape data of first 100 sunglasses listings on flipkart.com. You have to scrape four attributes:\n",
    "#### 6. Brand\n",
    "#### 7. ProductDescription\n",
    "#### 8. Price\n",
    "#### The attributes which you have to scrape is ticked marked in the below image.\n",
    "#### To scrape the data you have to go through following steps:\n",
    "#### 1. Go to Flipkart webpage by url :https://www.flipkart.com/\n",
    "#### 2. Enter “sunglasses” in the search fieldwhere “search for products, brands and more” is written and\n",
    "#### click the search icon\n",
    "#### 3. After that you will reach to the page having a lot of sunglasses. From this page you can scrap the\n",
    "#### required data as usual.\n"
   ]
  },
  {
   "cell_type": "code",
   "execution_count": null,
   "id": "2e9b1528",
   "metadata": {},
   "outputs": [],
   "source": [
    " "
   ]
  },
  {
   "cell_type": "code",
   "execution_count": 57,
   "id": "dbba7d79",
   "metadata": {},
   "outputs": [],
   "source": [
    "driver.get('https://www.flipkart.com/')"
   ]
  },
  {
   "cell_type": "code",
   "execution_count": 59,
   "id": "2f062b51",
   "metadata": {},
   "outputs": [],
   "source": [
    "serch=driver.find_element(By.XPATH,'/html/body/div[1]/div/div[1]/div/div/div/div/div[1]/div/div[1]/div/div[1]/header/div[1]/div[2]/form/div/div/input')\n",
    "serch.send_keys('sunglasses')"
   ]
  },
  {
   "cell_type": "code",
   "execution_count": 70,
   "id": "9b76d3ad",
   "metadata": {},
   "outputs": [],
   "source": [
    "serchclick=driver.find_element(By.XPATH,'/html/body/div[1]/div/div[1]/div/div/div/div/div[1]/div/div[1]/div/div[1]/header/div[1]/div[2]/form/div/button')\n",
    "serchclick.click()"
   ]
  },
  {
   "cell_type": "code",
   "execution_count": null,
   "id": "11d56a34",
   "metadata": {},
   "outputs": [],
   "source": []
  },
  {
   "cell_type": "code",
   "execution_count": 98,
   "id": "b5962104",
   "metadata": {},
   "outputs": [],
   "source": [
    " Brand=[]"
   ]
  },
  {
   "cell_type": "code",
   "execution_count": 72,
   "id": "9d1a4c8d",
   "metadata": {},
   "outputs": [],
   "source": [
    "ProductDescription=[]"
   ]
  },
  {
   "cell_type": "code",
   "execution_count": 73,
   "id": "62e66531",
   "metadata": {},
   "outputs": [],
   "source": [
    "Price=[]"
   ]
  },
  {
   "cell_type": "code",
   "execution_count": 137,
   "id": "427ffe6e",
   "metadata": {},
   "outputs": [],
   "source": [
    "Brandname=driver.find_elements(By.XPATH,'//div[@class=\"_2WkVRV\"]')"
   ]
  },
  {
   "cell_type": "code",
   "execution_count": 138,
   "id": "faff80d4",
   "metadata": {},
   "outputs": [],
   "source": [
    "for i in Brandname[0:20]:\n",
    "    o=i.text\n",
    "    Brand.append(o)"
   ]
  },
  {
   "cell_type": "code",
   "execution_count": null,
   "id": "af0e4827",
   "metadata": {},
   "outputs": [],
   "source": []
  },
  {
   "cell_type": "code",
   "execution_count": 139,
   "id": "326cde0a",
   "metadata": {},
   "outputs": [
    {
     "data": {
      "text/plain": [
       "100"
      ]
     },
     "execution_count": 139,
     "metadata": {},
     "output_type": "execute_result"
    }
   ],
   "source": [
    "len(Brand)                                   # first page 40 # second page 80 # third page 100"
   ]
  },
  {
   "cell_type": "code",
   "execution_count": 140,
   "id": "06da7cbc",
   "metadata": {},
   "outputs": [],
   "source": [
    " ProductDsc=driver.find_elements(By.XPATH,'//a[@class=\"IRpwTa\"]')"
   ]
  },
  {
   "cell_type": "code",
   "execution_count": 141,
   "id": "5e62928d",
   "metadata": {},
   "outputs": [],
   "source": [
    "for i in ProductDsc[0:20]:\n",
    "    p=i.text\n",
    "    ProductDescription.append(p)"
   ]
  },
  {
   "cell_type": "code",
   "execution_count": 142,
   "id": "2db00f4f",
   "metadata": {},
   "outputs": [
    {
     "data": {
      "text/plain": [
       "98"
      ]
     },
     "execution_count": 142,
     "metadata": {},
     "output_type": "execute_result"
    }
   ],
   "source": [
    "len(ProductDescription)                        #  first page 38  # second page 78     # third page 98           "
   ]
  },
  {
   "cell_type": "code",
   "execution_count": 143,
   "id": "5fb58d6a",
   "metadata": {},
   "outputs": [],
   "source": [
    "PricE=driver.find_elements(By.XPATH,'//div[@class=\"_30jeq3\"]')"
   ]
  },
  {
   "cell_type": "code",
   "execution_count": 144,
   "id": "d3094b99",
   "metadata": {},
   "outputs": [],
   "source": [
    "for i in PricE[0:20]:\n",
    "    q=i.text\n",
    "    Price.append(q)"
   ]
  },
  {
   "cell_type": "code",
   "execution_count": 145,
   "id": "8fc216a9",
   "metadata": {},
   "outputs": [
    {
     "data": {
      "text/plain": [
       "100"
      ]
     },
     "execution_count": 145,
     "metadata": {},
     "output_type": "execute_result"
    }
   ],
   "source": [
    "len(Price)                           #  first page 40  # second page 80   # third page 100"
   ]
  },
  {
   "cell_type": "code",
   "execution_count": 128,
   "id": "85815cdd",
   "metadata": {},
   "outputs": [],
   "source": [
    "discount=[]"
   ]
  },
  {
   "cell_type": "code",
   "execution_count": 146,
   "id": "5dd2fca2",
   "metadata": {},
   "outputs": [],
   "source": [
    "offer=driver.find_elements(By.XPATH,'//div[@class=\"_3Ay6Sb\"]')"
   ]
  },
  {
   "cell_type": "code",
   "execution_count": 147,
   "id": "0fbaa51a",
   "metadata": {},
   "outputs": [],
   "source": [
    "for i in offer[0:20]:\n",
    "    r=i.text\n",
    "    discount.append(r)"
   ]
  },
  {
   "cell_type": "code",
   "execution_count": 148,
   "id": "82ae087c",
   "metadata": {},
   "outputs": [
    {
     "data": {
      "text/plain": [
       "100"
      ]
     },
     "execution_count": 148,
     "metadata": {},
     "output_type": "execute_result"
    }
   ],
   "source": [
    "len(discount)                           #  first page 40  # second page 80  # third page 100"
   ]
  },
  {
   "cell_type": "code",
   "execution_count": 135,
   "id": "a4a9df9e",
   "metadata": {},
   "outputs": [],
   "source": [
    "next_p=driver.find_element(By.XPATH,'/html/body/div/div/div[3]/div[1]/div[2]/div[12]/div/div/nav/a[11]')\n",
    "next_p.click()"
   ]
  },
  {
   "cell_type": "code",
   "execution_count": null,
   "id": "ca87bc11",
   "metadata": {},
   "outputs": [],
   "source": []
  },
  {
   "cell_type": "markdown",
   "id": "887b9240",
   "metadata": {},
   "source": [
    "# not taking ProductDescription becose it have some missing value"
   ]
  },
  {
   "cell_type": "code",
   "execution_count": 151,
   "id": "2475d166",
   "metadata": {},
   "outputs": [],
   "source": [
    "_sunglass=pd.DataFrame({'Brand':Brand,'Price':Price,'discount':discount})"
   ]
  },
  {
   "cell_type": "code",
   "execution_count": 152,
   "id": "dd5cc772",
   "metadata": {},
   "outputs": [
    {
     "data": {
      "text/html": [
       "<div>\n",
       "<style scoped>\n",
       "    .dataframe tbody tr th:only-of-type {\n",
       "        vertical-align: middle;\n",
       "    }\n",
       "\n",
       "    .dataframe tbody tr th {\n",
       "        vertical-align: top;\n",
       "    }\n",
       "\n",
       "    .dataframe thead th {\n",
       "        text-align: right;\n",
       "    }\n",
       "</style>\n",
       "<table border=\"1\" class=\"dataframe\">\n",
       "  <thead>\n",
       "    <tr style=\"text-align: right;\">\n",
       "      <th></th>\n",
       "      <th>Brand</th>\n",
       "      <th>Price</th>\n",
       "      <th>discount</th>\n",
       "    </tr>\n",
       "  </thead>\n",
       "  <tbody>\n",
       "    <tr>\n",
       "      <th>0</th>\n",
       "      <td>VINCENT CHASE</td>\n",
       "      <td>₹549</td>\n",
       "      <td>57% off</td>\n",
       "    </tr>\n",
       "    <tr>\n",
       "      <th>1</th>\n",
       "      <td>ROYAL SON</td>\n",
       "      <td>₹474</td>\n",
       "      <td>72% off</td>\n",
       "    </tr>\n",
       "    <tr>\n",
       "      <th>2</th>\n",
       "      <td>Fastrack</td>\n",
       "      <td>₹649</td>\n",
       "      <td>66% off</td>\n",
       "    </tr>\n",
       "    <tr>\n",
       "      <th>3</th>\n",
       "      <td>Fastrack</td>\n",
       "      <td>₹799</td>\n",
       "      <td>84% off</td>\n",
       "    </tr>\n",
       "    <tr>\n",
       "      <th>4</th>\n",
       "      <td>Fastrack</td>\n",
       "      <td>₹499</td>\n",
       "      <td>40% off</td>\n",
       "    </tr>\n",
       "    <tr>\n",
       "      <th>...</th>\n",
       "      <td>...</td>\n",
       "      <td>...</td>\n",
       "      <td>...</td>\n",
       "    </tr>\n",
       "    <tr>\n",
       "      <th>95</th>\n",
       "      <td>FOSSIL</td>\n",
       "      <td>₹2,749</td>\n",
       "      <td>74% off</td>\n",
       "    </tr>\n",
       "    <tr>\n",
       "      <th>96</th>\n",
       "      <td>GUESS</td>\n",
       "      <td>₹5,334</td>\n",
       "      <td>40% off</td>\n",
       "    </tr>\n",
       "    <tr>\n",
       "      <th>97</th>\n",
       "      <td>GUESS</td>\n",
       "      <td>₹5,334</td>\n",
       "      <td>40% off</td>\n",
       "    </tr>\n",
       "    <tr>\n",
       "      <th>98</th>\n",
       "      <td>ROYAL SON</td>\n",
       "      <td>₹449</td>\n",
       "      <td>70% off</td>\n",
       "    </tr>\n",
       "    <tr>\n",
       "      <th>99</th>\n",
       "      <td>ROYAL SON</td>\n",
       "      <td>₹474</td>\n",
       "      <td>68% off</td>\n",
       "    </tr>\n",
       "  </tbody>\n",
       "</table>\n",
       "<p>100 rows × 3 columns</p>\n",
       "</div>"
      ],
      "text/plain": [
       "            Brand   Price discount\n",
       "0   VINCENT CHASE    ₹549  57% off\n",
       "1       ROYAL SON    ₹474  72% off\n",
       "2        Fastrack    ₹649  66% off\n",
       "3        Fastrack    ₹799  84% off\n",
       "4        Fastrack    ₹499  40% off\n",
       "..            ...     ...      ...\n",
       "95         FOSSIL  ₹2,749  74% off\n",
       "96          GUESS  ₹5,334  40% off\n",
       "97          GUESS  ₹5,334  40% off\n",
       "98      ROYAL SON    ₹449  70% off\n",
       "99      ROYAL SON    ₹474  68% off\n",
       "\n",
       "[100 rows x 3 columns]"
      ]
     },
     "execution_count": 152,
     "metadata": {},
     "output_type": "execute_result"
    }
   ],
   "source": [
    "_sunglass"
   ]
  },
  {
   "cell_type": "code",
   "execution_count": null,
   "id": "95df789d",
   "metadata": {},
   "outputs": [],
   "source": []
  },
  {
   "cell_type": "markdown",
   "id": "70ca1eae",
   "metadata": {},
   "source": [
    "#### Q5: Scrape 100 reviews data from flipkart.com for iphone11 phone. You have to go the link:\n",
    "#### https://www.flipkart.com/apple-iphone-11-black-64-gb/product\u0002reviews/itm4e5041ba101fd?pid=MOBFWQ6BXGJCEYNY&lid=LSTMOBFWQ6BXGJCEYNYZXSHRJ&market\n",
    "#### place=FLIPKART\n",
    "#### As shown in the above page you have to scrape the tick marked attributes. These are:\n",
    "#### 1. Rating\n",
    "#### 2. Review summary\n",
    "#### 3. Full review\n",
    "#### 4. You have to scrape this data for first 100reviews.\n",
    "#### Note: All the steps required during scraping should be done through code only and not manually."
   ]
  },
  {
   "cell_type": "code",
   "execution_count": 153,
   "id": "148327a3",
   "metadata": {},
   "outputs": [],
   "source": [
    "driver=webdriver.Chrome()"
   ]
  },
  {
   "cell_type": "code",
   "execution_count": 159,
   "id": "c32a001e",
   "metadata": {},
   "outputs": [],
   "source": [
    "driver.get('https://www.flipkart.com/apple-iphone-11-black-64-gb/product-reviews/itm4e5041ba101fd?pid=MOBFWQ6BXGJCEYNY&lid=LSTMOBFWQ6BXGJCEYNYZXSHRJ&market')"
   ]
  },
  {
   "cell_type": "code",
   "execution_count": 155,
   "id": "574f9622",
   "metadata": {},
   "outputs": [],
   "source": [
    "Rating=[]"
   ]
  },
  {
   "cell_type": "code",
   "execution_count": 168,
   "id": "dac17c30",
   "metadata": {},
   "outputs": [],
   "source": [
    "Review_summary=[]"
   ]
  },
  {
   "cell_type": "code",
   "execution_count": 158,
   "id": "2b2f973e",
   "metadata": {},
   "outputs": [],
   "source": [
    "Full_review=[]"
   ]
  },
  {
   "cell_type": "code",
   "execution_count": 275,
   "id": "70c8d188",
   "metadata": {},
   "outputs": [],
   "source": [
    "star=driver.find_elements(By.XPATH,'//div[@class=\"_3LWZlK _1BLPMq\"]')"
   ]
  },
  {
   "cell_type": "code",
   "execution_count": 276,
   "id": "7cba1342",
   "metadata": {},
   "outputs": [],
   "source": [
    "for i in star:\n",
    "    ab=i.text\n",
    "    Rating.append(ab)"
   ]
  },
  {
   "cell_type": "code",
   "execution_count": 286,
   "id": "78690ec8",
   "metadata": {},
   "outputs": [
    {
     "data": {
      "text/plain": [
       "100"
      ]
     },
     "execution_count": 286,
     "metadata": {},
     "output_type": "execute_result"
    }
   ],
   "source": [
    "len(Rating)            # repiting it 10 times to get 100count"
   ]
  },
  {
   "cell_type": "code",
   "execution_count": null,
   "id": "94c256d4",
   "metadata": {},
   "outputs": [],
   "source": []
  },
  {
   "cell_type": "code",
   "execution_count": 278,
   "id": "276ece20",
   "metadata": {},
   "outputs": [],
   "source": [
    "summary=driver.find_elements(By.XPATH,'//p[@class=\"_2-N8zT\"]')"
   ]
  },
  {
   "cell_type": "code",
   "execution_count": 279,
   "id": "a56677ee",
   "metadata": {},
   "outputs": [],
   "source": [
    "for i in summary:\n",
    "    ac=i.text\n",
    "    Review_summary.append(ac)"
   ]
  },
  {
   "cell_type": "code",
   "execution_count": 280,
   "id": "cdcad62a",
   "metadata": {},
   "outputs": [
    {
     "data": {
      "text/plain": [
       "100"
      ]
     },
     "execution_count": 280,
     "metadata": {},
     "output_type": "execute_result"
    }
   ],
   "source": [
    "len(Review_summary)                 # repiting it 10 times to get 100count"
   ]
  },
  {
   "cell_type": "code",
   "execution_count": 281,
   "id": "956aa356",
   "metadata": {},
   "outputs": [],
   "source": [
    "review= driver.find_elements(By.XPATH,'//div[@class=\"t-ZTKy\"]')"
   ]
  },
  {
   "cell_type": "code",
   "execution_count": 282,
   "id": "d5e3c80b",
   "metadata": {},
   "outputs": [],
   "source": [
    "for i in review:\n",
    "    ad=i.text\n",
    "    Full_review.append(ad)"
   ]
  },
  {
   "cell_type": "code",
   "execution_count": 283,
   "id": "003577c6",
   "metadata": {},
   "outputs": [
    {
     "data": {
      "text/plain": [
       "100"
      ]
     },
     "execution_count": 283,
     "metadata": {},
     "output_type": "execute_result"
    }
   ],
   "source": [
    "len(Full_review)                        # repiting it 10 times to get 100count"
   ]
  },
  {
   "cell_type": "code",
   "execution_count": 274,
   "id": "b196fff4",
   "metadata": {},
   "outputs": [],
   "source": [
    "nextpp=driver.find_element(By.XPATH,'/html/body/div/div/div[3]/div/div/div[2]/div[13]/div/div/nav/a[11]')\n",
    "nextpp.click()"
   ]
  },
  {
   "cell_type": "code",
   "execution_count": null,
   "id": "1a7eee6c",
   "metadata": {},
   "outputs": [],
   "source": []
  },
  {
   "cell_type": "code",
   "execution_count": 287,
   "id": "2a31b300",
   "metadata": {},
   "outputs": [],
   "source": [
    "rewevews=pd.DataFrame({'Rating':Rating,'Review_summary':Review_summary,'Full_review':Full_review})"
   ]
  },
  {
   "cell_type": "code",
   "execution_count": 288,
   "id": "935b2cf3",
   "metadata": {},
   "outputs": [
    {
     "data": {
      "text/html": [
       "<div>\n",
       "<style scoped>\n",
       "    .dataframe tbody tr th:only-of-type {\n",
       "        vertical-align: middle;\n",
       "    }\n",
       "\n",
       "    .dataframe tbody tr th {\n",
       "        vertical-align: top;\n",
       "    }\n",
       "\n",
       "    .dataframe thead th {\n",
       "        text-align: right;\n",
       "    }\n",
       "</style>\n",
       "<table border=\"1\" class=\"dataframe\">\n",
       "  <thead>\n",
       "    <tr style=\"text-align: right;\">\n",
       "      <th></th>\n",
       "      <th>Rating</th>\n",
       "      <th>Review_summary</th>\n",
       "      <th>Full_review</th>\n",
       "    </tr>\n",
       "  </thead>\n",
       "  <tbody>\n",
       "    <tr>\n",
       "      <th>0</th>\n",
       "      <td>5</td>\n",
       "      <td>Terrific</td>\n",
       "      <td>Very very good</td>\n",
       "    </tr>\n",
       "    <tr>\n",
       "      <th>1</th>\n",
       "      <td>5</td>\n",
       "      <td>Classy product</td>\n",
       "      <td>Camera is awesome\\nBest battery backup\\nA perf...</td>\n",
       "    </tr>\n",
       "    <tr>\n",
       "      <th>2</th>\n",
       "      <td>5</td>\n",
       "      <td>Best in the market!</td>\n",
       "      <td>Good Camera</td>\n",
       "    </tr>\n",
       "    <tr>\n",
       "      <th>3</th>\n",
       "      <td>5</td>\n",
       "      <td>Wonderful</td>\n",
       "      <td>This is amazing at all</td>\n",
       "    </tr>\n",
       "    <tr>\n",
       "      <th>4</th>\n",
       "      <td>5</td>\n",
       "      <td>Worth every penny</td>\n",
       "      <td>Feeling awesome after getting the delivery of ...</td>\n",
       "    </tr>\n",
       "    <tr>\n",
       "      <th>...</th>\n",
       "      <td>...</td>\n",
       "      <td>...</td>\n",
       "      <td>...</td>\n",
       "    </tr>\n",
       "    <tr>\n",
       "      <th>95</th>\n",
       "      <td>5</td>\n",
       "      <td>Awesome</td>\n",
       "      <td>Best iphone ever.. best value for money phone....</td>\n",
       "    </tr>\n",
       "    <tr>\n",
       "      <th>96</th>\n",
       "      <td>5</td>\n",
       "      <td>Really Nice</td>\n",
       "      <td>The products is good and but apple should give...</td>\n",
       "    </tr>\n",
       "    <tr>\n",
       "      <th>97</th>\n",
       "      <td>5</td>\n",
       "      <td>Mind-blowing purchase</td>\n",
       "      <td>This will help you more. See if you are planni...</td>\n",
       "    </tr>\n",
       "    <tr>\n",
       "      <th>98</th>\n",
       "      <td>5</td>\n",
       "      <td>Fabulous!</td>\n",
       "      <td>The phone camera is ultimate even in night,\\nB...</td>\n",
       "    </tr>\n",
       "    <tr>\n",
       "      <th>99</th>\n",
       "      <td>5</td>\n",
       "      <td>Mind-blowing purchase</td>\n",
       "      <td>2nd iPhone after iPhone 6 and upgrade from Goo...</td>\n",
       "    </tr>\n",
       "  </tbody>\n",
       "</table>\n",
       "<p>100 rows × 3 columns</p>\n",
       "</div>"
      ],
      "text/plain": [
       "   Rating         Review_summary  \\\n",
       "0       5               Terrific   \n",
       "1       5         Classy product   \n",
       "2       5    Best in the market!   \n",
       "3       5              Wonderful   \n",
       "4       5      Worth every penny   \n",
       "..    ...                    ...   \n",
       "95      5                Awesome   \n",
       "96      5            Really Nice   \n",
       "97      5  Mind-blowing purchase   \n",
       "98      5              Fabulous!   \n",
       "99      5  Mind-blowing purchase   \n",
       "\n",
       "                                          Full_review  \n",
       "0                                      Very very good  \n",
       "1   Camera is awesome\\nBest battery backup\\nA perf...  \n",
       "2                                         Good Camera  \n",
       "3                              This is amazing at all  \n",
       "4   Feeling awesome after getting the delivery of ...  \n",
       "..                                                ...  \n",
       "95  Best iphone ever.. best value for money phone....  \n",
       "96  The products is good and but apple should give...  \n",
       "97  This will help you more. See if you are planni...  \n",
       "98  The phone camera is ultimate even in night,\\nB...  \n",
       "99  2nd iPhone after iPhone 6 and upgrade from Goo...  \n",
       "\n",
       "[100 rows x 3 columns]"
      ]
     },
     "execution_count": 288,
     "metadata": {},
     "output_type": "execute_result"
    }
   ],
   "source": [
    "rewevews"
   ]
  },
  {
   "cell_type": "code",
   "execution_count": null,
   "id": "a3e57227",
   "metadata": {},
   "outputs": [],
   "source": []
  },
  {
   "cell_type": "markdown",
   "id": "bf476ded",
   "metadata": {},
   "source": [
    "#### Q6: Scrape data forfirst 100 sneakers you find whenyou visit flipkart.com and search for “sneakers” inthe\n",
    "#### search field.\n",
    "#### You have to scrape 3 attributes of each sneaker:\n",
    "#### 1. Brand\n",
    "#### 2. ProductDescription\n",
    "#### 3. Price\n",
    "#### As shown in the below image, you have to scrape the above attributes."
   ]
  },
  {
   "cell_type": "code",
   "execution_count": 9,
   "id": "b67c7a87",
   "metadata": {},
   "outputs": [],
   "source": [
    "driver=webdriver.Chrome()"
   ]
  },
  {
   "cell_type": "code",
   "execution_count": 10,
   "id": "cffe996b",
   "metadata": {},
   "outputs": [],
   "source": [
    "driver.get('https://www.flipkart.com/')"
   ]
  },
  {
   "cell_type": "code",
   "execution_count": 11,
   "id": "4c4a667e",
   "metadata": {},
   "outputs": [],
   "source": [
    "serch=driver.find_element(By.XPATH,'/html/body/div[1]/div/div[1]/div/div/div/div/div[1]/div/div[1]/div/div[1]/header/div[1]/div[2]/form/div/div/input')\n",
    "serch.send_keys('sneakers')"
   ]
  },
  {
   "cell_type": "code",
   "execution_count": 12,
   "id": "d77ff03c",
   "metadata": {},
   "outputs": [],
   "source": [
    "serchclick=driver.find_element(By.XPATH,'/html/body/div[1]/div/div[1]/div/div/div/div/div[1]/div/div[1]/div/div[1]/header/div[1]/div[2]/form/div/button')\n",
    "serchclick.click()"
   ]
  },
  {
   "cell_type": "code",
   "execution_count": 13,
   "id": "98928859",
   "metadata": {},
   "outputs": [],
   "source": [
    "assured_box=driver.find_element(By.XPATH,'/html/body/div/div/div[3]/div[1]/div[1]/div/div/div/section[3]/label/div[1]')\n",
    "assured_box.click()"
   ]
  },
  {
   "cell_type": "code",
   "execution_count": 15,
   "id": "a914cdb7",
   "metadata": {},
   "outputs": [],
   "source": [
    "snekar_Brand=[]"
   ]
  },
  {
   "cell_type": "code",
   "execution_count": 18,
   "id": "759575e4",
   "metadata": {},
   "outputs": [],
   "source": [
    "snekar_price=[]"
   ]
  },
  {
   "cell_type": "code",
   "execution_count": 17,
   "id": "41e8204d",
   "metadata": {},
   "outputs": [],
   "source": [
    "snekar_ProductDescription=[]"
   ]
  },
  {
   "cell_type": "code",
   "execution_count": null,
   "id": "dda3a3cb",
   "metadata": {},
   "outputs": [],
   "source": []
  },
  {
   "cell_type": "code",
   "execution_count": 51,
   "id": "b51ff851",
   "metadata": {},
   "outputs": [],
   "source": [
    "snekar_B=driver.find_elements(By.XPATH,'//div[@class=\"_2WkVRV\"]')"
   ]
  },
  {
   "cell_type": "code",
   "execution_count": 52,
   "id": "a3ec9047",
   "metadata": {},
   "outputs": [],
   "source": [
    "for i in snekar_B[0:20]:\n",
    "    ba=i.text\n",
    "    snekar_Brand.append(ba)"
   ]
  },
  {
   "cell_type": "code",
   "execution_count": 53,
   "id": "a7cd382f",
   "metadata": {},
   "outputs": [
    {
     "data": {
      "text/plain": [
       "100"
      ]
     },
     "execution_count": 53,
     "metadata": {},
     "output_type": "execute_result"
    }
   ],
   "source": [
    "len(snekar_Brand)                                           # first page 40 # second page 80 # third page 100"
   ]
  },
  {
   "cell_type": "code",
   "execution_count": 54,
   "id": "bba14864",
   "metadata": {},
   "outputs": [],
   "source": [
    "snekar_p=driver.find_elements(By.XPATH,'//div[@class=\"_30jeq3\"]')"
   ]
  },
  {
   "cell_type": "code",
   "execution_count": 55,
   "id": "989b68a1",
   "metadata": {},
   "outputs": [],
   "source": [
    "for i in snekar_p[0:20]:\n",
    "    bb=i.text\n",
    "    snekar_price.append(bb)"
   ]
  },
  {
   "cell_type": "code",
   "execution_count": 56,
   "id": "8418b0b1",
   "metadata": {},
   "outputs": [
    {
     "data": {
      "text/plain": [
       "100"
      ]
     },
     "execution_count": 56,
     "metadata": {},
     "output_type": "execute_result"
    }
   ],
   "source": [
    "len(snekar_price)                                             # first page 40 # second page 80 # third page 100"
   ]
  },
  {
   "cell_type": "code",
   "execution_count": 57,
   "id": "266ddc2a",
   "metadata": {},
   "outputs": [],
   "source": [
    "snekar_Pd=driver.find_elements(By.XPATH,'//a[@class=\"IRpwTa\"]')"
   ]
  },
  {
   "cell_type": "code",
   "execution_count": 58,
   "id": "4463a371",
   "metadata": {},
   "outputs": [],
   "source": [
    "for i in snekar_Pd[0:20]:\n",
    "    bc=i.text\n",
    "    snekar_ProductDescription.append(bc)"
   ]
  },
  {
   "cell_type": "code",
   "execution_count": 62,
   "id": "f225bc56",
   "metadata": {},
   "outputs": [
    {
     "data": {
      "text/plain": [
       "100"
      ]
     },
     "execution_count": 62,
     "metadata": {},
     "output_type": "execute_result"
    }
   ],
   "source": [
    "len(snekar_ProductDescription)                              # first page 40 # second page 80 # third page 100"
   ]
  },
  {
   "cell_type": "code",
   "execution_count": 40,
   "id": "1958e671",
   "metadata": {},
   "outputs": [],
   "source": [
    "s_next_page=driver.find_element(By.XPATH,'/html/body/div/div/div[3]/div/div[2]/div[12]/div/div/nav/a[2]')\n",
    "s_next_page.click()"
   ]
  },
  {
   "cell_type": "code",
   "execution_count": 50,
   "id": "43d2ab1b",
   "metadata": {},
   "outputs": [],
   "source": [
    "s_next_page=driver.find_element(By.XPATH,'/html/body/div/div/div[3]/div/div[2]/div[12]/div/div/nav/a[4]')\n",
    "s_next_page.click()"
   ]
  },
  {
   "cell_type": "code",
   "execution_count": null,
   "id": "3992ca53",
   "metadata": {},
   "outputs": [],
   "source": []
  },
  {
   "cell_type": "code",
   "execution_count": 63,
   "id": "ffeb4a25",
   "metadata": {},
   "outputs": [],
   "source": [
    "snekars=pd.DataFrame({'snekar_Brand':snekar_Brand,'snekar_ProductDescription':snekar_ProductDescription,'snekar_price':snekar_price})"
   ]
  },
  {
   "cell_type": "code",
   "execution_count": 64,
   "id": "f670d49a",
   "metadata": {},
   "outputs": [
    {
     "data": {
      "text/html": [
       "<div>\n",
       "<style scoped>\n",
       "    .dataframe tbody tr th:only-of-type {\n",
       "        vertical-align: middle;\n",
       "    }\n",
       "\n",
       "    .dataframe tbody tr th {\n",
       "        vertical-align: top;\n",
       "    }\n",
       "\n",
       "    .dataframe thead th {\n",
       "        text-align: right;\n",
       "    }\n",
       "</style>\n",
       "<table border=\"1\" class=\"dataframe\">\n",
       "  <thead>\n",
       "    <tr style=\"text-align: right;\">\n",
       "      <th></th>\n",
       "      <th>snekar_Brand</th>\n",
       "      <th>snekar_ProductDescription</th>\n",
       "      <th>snekar_price</th>\n",
       "    </tr>\n",
       "  </thead>\n",
       "  <tbody>\n",
       "    <tr>\n",
       "      <th>0</th>\n",
       "      <td>HOTSTYLE</td>\n",
       "      <td>Sneakers For Men</td>\n",
       "      <td>₹296</td>\n",
       "    </tr>\n",
       "    <tr>\n",
       "      <th>1</th>\n",
       "      <td>HOTSTYLE</td>\n",
       "      <td>Sneakers For Men</td>\n",
       "      <td>₹398</td>\n",
       "    </tr>\n",
       "    <tr>\n",
       "      <th>2</th>\n",
       "      <td>asian</td>\n",
       "      <td>Sneakers For Men</td>\n",
       "      <td>₹822</td>\n",
       "    </tr>\n",
       "    <tr>\n",
       "      <th>3</th>\n",
       "      <td>Deals4you</td>\n",
       "      <td>Sneakers For Women</td>\n",
       "      <td>₹365</td>\n",
       "    </tr>\n",
       "    <tr>\n",
       "      <th>4</th>\n",
       "      <td>Sparx</td>\n",
       "      <td>SM-671 Sneakers For Men</td>\n",
       "      <td>₹658</td>\n",
       "    </tr>\n",
       "    <tr>\n",
       "      <th>...</th>\n",
       "      <td>...</td>\n",
       "      <td>...</td>\n",
       "      <td>...</td>\n",
       "    </tr>\n",
       "    <tr>\n",
       "      <th>95</th>\n",
       "      <td>CLYMB</td>\n",
       "      <td>Multi Print Sneakers For Men</td>\n",
       "      <td>₹499</td>\n",
       "    </tr>\n",
       "    <tr>\n",
       "      <th>96</th>\n",
       "      <td>ATOM</td>\n",
       "      <td>Grey Casual Sneakers Shoes for Mens (A9912) Sn...</td>\n",
       "      <td>₹1,485</td>\n",
       "    </tr>\n",
       "    <tr>\n",
       "      <th>97</th>\n",
       "      <td>Averatto</td>\n",
       "      <td>Sneakers For Men</td>\n",
       "      <td>₹791</td>\n",
       "    </tr>\n",
       "    <tr>\n",
       "      <th>98</th>\n",
       "      <td>EZDEZARIO</td>\n",
       "      <td>SM-322 Sneakers For Men</td>\n",
       "      <td>₹494</td>\n",
       "    </tr>\n",
       "    <tr>\n",
       "      <th>99</th>\n",
       "      <td>Sparx</td>\n",
       "      <td>none</td>\n",
       "      <td>₹959</td>\n",
       "    </tr>\n",
       "  </tbody>\n",
       "</table>\n",
       "<p>100 rows × 3 columns</p>\n",
       "</div>"
      ],
      "text/plain": [
       "   snekar_Brand                          snekar_ProductDescription  \\\n",
       "0      HOTSTYLE                                   Sneakers For Men   \n",
       "1      HOTSTYLE                                   Sneakers For Men   \n",
       "2         asian                                   Sneakers For Men   \n",
       "3     Deals4you                                 Sneakers For Women   \n",
       "4         Sparx                            SM-671 Sneakers For Men   \n",
       "..          ...                                                ...   \n",
       "95        CLYMB                       Multi Print Sneakers For Men   \n",
       "96         ATOM  Grey Casual Sneakers Shoes for Mens (A9912) Sn...   \n",
       "97     Averatto                                   Sneakers For Men   \n",
       "98    EZDEZARIO                            SM-322 Sneakers For Men   \n",
       "99        Sparx                                               none   \n",
       "\n",
       "   snekar_price  \n",
       "0          ₹296  \n",
       "1          ₹398  \n",
       "2          ₹822  \n",
       "3          ₹365  \n",
       "4          ₹658  \n",
       "..          ...  \n",
       "95         ₹499  \n",
       "96       ₹1,485  \n",
       "97         ₹791  \n",
       "98         ₹494  \n",
       "99         ₹959  \n",
       "\n",
       "[100 rows x 3 columns]"
      ]
     },
     "execution_count": 64,
     "metadata": {},
     "output_type": "execute_result"
    }
   ],
   "source": [
    "snekars"
   ]
  },
  {
   "cell_type": "code",
   "execution_count": null,
   "id": "7ebedf05",
   "metadata": {},
   "outputs": [],
   "source": []
  },
  {
   "cell_type": "markdown",
   "id": "d2e788c8",
   "metadata": {},
   "source": [
    "#### Q7: Go to webpage https://www.amazon.in/ Enter “Laptop” in the search field and then click the search icon. Then\n",
    "#### set CPU Type filter to “Intel Core i7” as shown in the below image\n",
    "#### After setting the filters scrape first 10 laptops data. You have to scrape 3 attributes for each laptop:\n",
    "#### 1. Title\n",
    "#### 2. Ratings\n",
    "#### 3. Price"
   ]
  },
  {
   "cell_type": "code",
   "execution_count": 7,
   "id": "d4130d2a",
   "metadata": {},
   "outputs": [],
   "source": [
    "driver=webdriver.Chrome()"
   ]
  },
  {
   "cell_type": "code",
   "execution_count": 8,
   "id": "77515804",
   "metadata": {},
   "outputs": [],
   "source": [
    "driver.get('https://www.amazon.in/')"
   ]
  },
  {
   "cell_type": "code",
   "execution_count": 10,
   "id": "4c14a61b",
   "metadata": {},
   "outputs": [],
   "source": [
    "serchl=driver.find_element(By.XPATH,'/html/body/div[1]/header/div/div[1]/div[2]/div/form/div[2]/div[1]/input')\n",
    "serchl.send_keys('leptop')"
   ]
  },
  {
   "cell_type": "code",
   "execution_count": 11,
   "id": "6d009b02",
   "metadata": {},
   "outputs": [],
   "source": [
    "ok=driver.find_element(By.XPATH,'/html/body/div[1]/header/div/div[1]/div[2]/div/form/div[3]/div/span/input')\n",
    "ok.click()"
   ]
  },
  {
   "cell_type": "code",
   "execution_count": 12,
   "id": "51075ba3",
   "metadata": {},
   "outputs": [],
   "source": [
    "i7=driver.find_element(By.XPATH,'/html/body/div[1]/div[2]/div[1]/div[2]/div/div[3]/span/div[1]/div/div/div[8]/ul[7]/span[12]/li/span/a/div/label/i')\n",
    "i7.click()"
   ]
  },
  {
   "cell_type": "code",
   "execution_count": 13,
   "id": "18c64e36",
   "metadata": {},
   "outputs": [],
   "source": [
    "laptop_Title=[]"
   ]
  },
  {
   "cell_type": "code",
   "execution_count": 14,
   "id": "bae5ab11",
   "metadata": {},
   "outputs": [],
   "source": [
    "laptop_Ratings=[]"
   ]
  },
  {
   "cell_type": "code",
   "execution_count": 15,
   "id": "94bc46aa",
   "metadata": {},
   "outputs": [],
   "source": [
    "laptop_Price=[]"
   ]
  },
  {
   "cell_type": "code",
   "execution_count": 16,
   "id": "80cb9264",
   "metadata": {},
   "outputs": [],
   "source": [
    "laptop_T=driver.find_elements(By.XPATH,'//h2[@class=\"a-size-mini a-spacing-none a-color-base s-line-clamp-2\"]')"
   ]
  },
  {
   "cell_type": "code",
   "execution_count": 17,
   "id": "5bf6c077",
   "metadata": {},
   "outputs": [],
   "source": [
    "for i in laptop_T[0:10]:\n",
    "    bd=i.text\n",
    "    laptop_Title.append(bd)"
   ]
  },
  {
   "cell_type": "code",
   "execution_count": 19,
   "id": "32839931",
   "metadata": {},
   "outputs": [
    {
     "data": {
      "text/plain": [
       "10"
      ]
     },
     "execution_count": 19,
     "metadata": {},
     "output_type": "execute_result"
    }
   ],
   "source": [
    "len(laptop_Title)"
   ]
  },
  {
   "cell_type": "code",
   "execution_count": 20,
   "id": "2a2e36c1",
   "metadata": {},
   "outputs": [],
   "source": [
    "laptop_R=driver.find_elements(By.XPATH,'//span[@class=\"a-size-base puis-normal-weight-text\"]')"
   ]
  },
  {
   "cell_type": "code",
   "execution_count": 22,
   "id": "992f746b",
   "metadata": {},
   "outputs": [],
   "source": [
    "for i in laptop_R[0:10]:\n",
    "    be=i.text\n",
    "    laptop_Ratings.append(be)"
   ]
  },
  {
   "cell_type": "code",
   "execution_count": 24,
   "id": "1902e3ff",
   "metadata": {},
   "outputs": [
    {
     "data": {
      "text/plain": [
       "10"
      ]
     },
     "execution_count": 24,
     "metadata": {},
     "output_type": "execute_result"
    }
   ],
   "source": [
    "len(laptop_Ratings)"
   ]
  },
  {
   "cell_type": "code",
   "execution_count": 25,
   "id": "1f068876",
   "metadata": {},
   "outputs": [],
   "source": [
    "laptop_P=driver.find_elements(By.XPATH,'//span[@class=\"a-price-whole\"]')"
   ]
  },
  {
   "cell_type": "code",
   "execution_count": 28,
   "id": "3f668578",
   "metadata": {},
   "outputs": [],
   "source": [
    "for i in laptop_P[0:10]:\n",
    "    bf=i.text\n",
    "    laptop_Price.append(bf)"
   ]
  },
  {
   "cell_type": "code",
   "execution_count": 30,
   "id": "00219b10",
   "metadata": {},
   "outputs": [
    {
     "data": {
      "text/plain": [
       "10"
      ]
     },
     "execution_count": 30,
     "metadata": {},
     "output_type": "execute_result"
    }
   ],
   "source": [
    "len(laptop_Price)"
   ]
  },
  {
   "cell_type": "code",
   "execution_count": 32,
   "id": "01273e32",
   "metadata": {},
   "outputs": [],
   "source": [
    "laptops=pd.DataFrame({'laptop_Title':laptop_Title,'laptop_Ratings':laptop_Ratings,'laptop_Price':laptop_Price})"
   ]
  },
  {
   "cell_type": "code",
   "execution_count": 33,
   "id": "e0f03a38",
   "metadata": {},
   "outputs": [
    {
     "data": {
      "text/html": [
       "<div>\n",
       "<style scoped>\n",
       "    .dataframe tbody tr th:only-of-type {\n",
       "        vertical-align: middle;\n",
       "    }\n",
       "\n",
       "    .dataframe tbody tr th {\n",
       "        vertical-align: top;\n",
       "    }\n",
       "\n",
       "    .dataframe thead th {\n",
       "        text-align: right;\n",
       "    }\n",
       "</style>\n",
       "<table border=\"1\" class=\"dataframe\">\n",
       "  <thead>\n",
       "    <tr style=\"text-align: right;\">\n",
       "      <th></th>\n",
       "      <th>laptop_Title</th>\n",
       "      <th>laptop_Ratings</th>\n",
       "      <th>laptop_Price</th>\n",
       "    </tr>\n",
       "  </thead>\n",
       "  <tbody>\n",
       "    <tr>\n",
       "      <th>0</th>\n",
       "      <td>MSI GF63 Thin, Intel Core i7-11800H, 40CM FHD ...</td>\n",
       "      <td>4.3</td>\n",
       "      <td>66,990</td>\n",
       "    </tr>\n",
       "    <tr>\n",
       "      <th>1</th>\n",
       "      <td>ASUS Vivobook 15, Intel Core i7-12650H 12th Ge...</td>\n",
       "      <td>4.0</td>\n",
       "      <td>64,990</td>\n",
       "    </tr>\n",
       "    <tr>\n",
       "      <th>2</th>\n",
       "      <td>Dell Inspiron 5430 Laptop, Intel Core i7-1360P...</td>\n",
       "      <td>3.3</td>\n",
       "      <td>86,490</td>\n",
       "    </tr>\n",
       "    <tr>\n",
       "      <th>3</th>\n",
       "      <td>MSI GF63 Thin, Intel Core i7-11800H, 40CM FHD ...</td>\n",
       "      <td>4.2</td>\n",
       "      <td>68,829</td>\n",
       "    </tr>\n",
       "    <tr>\n",
       "      <th>4</th>\n",
       "      <td>ASUS TUF Gaming F15 (2023) 90WHr Battery, Inte...</td>\n",
       "      <td>4.4</td>\n",
       "      <td>1,15,990</td>\n",
       "    </tr>\n",
       "    <tr>\n",
       "      <th>5</th>\n",
       "      <td>ASUS Creator Series Vivobook 14X OLED (2023), ...</td>\n",
       "      <td>4.6</td>\n",
       "      <td>89,990</td>\n",
       "    </tr>\n",
       "    <tr>\n",
       "      <th>6</th>\n",
       "      <td>ASUS TUF Gaming F15, 15.6-inch (39.62 cms) FHD...</td>\n",
       "      <td>4.0</td>\n",
       "      <td>1,03,625</td>\n",
       "    </tr>\n",
       "    <tr>\n",
       "      <th>7</th>\n",
       "      <td>MSI Modern 14, Intel 12th Gen. i7-1255U, 36CM ...</td>\n",
       "      <td>4.4</td>\n",
       "      <td>54,990</td>\n",
       "    </tr>\n",
       "    <tr>\n",
       "      <th>8</th>\n",
       "      <td>HP Laptop 15s, 12th Gen Intel Core i7-1255U, 1...</td>\n",
       "      <td>3.5</td>\n",
       "      <td>68,990</td>\n",
       "    </tr>\n",
       "    <tr>\n",
       "      <th>9</th>\n",
       "      <td>HP Pavilion 15, 13th Gen Intel Core i7-1360P, ...</td>\n",
       "      <td>3.8</td>\n",
       "      <td>88,490</td>\n",
       "    </tr>\n",
       "  </tbody>\n",
       "</table>\n",
       "</div>"
      ],
      "text/plain": [
       "                                        laptop_Title laptop_Ratings  \\\n",
       "0  MSI GF63 Thin, Intel Core i7-11800H, 40CM FHD ...            4.3   \n",
       "1  ASUS Vivobook 15, Intel Core i7-12650H 12th Ge...            4.0   \n",
       "2  Dell Inspiron 5430 Laptop, Intel Core i7-1360P...            3.3   \n",
       "3  MSI GF63 Thin, Intel Core i7-11800H, 40CM FHD ...            4.2   \n",
       "4  ASUS TUF Gaming F15 (2023) 90WHr Battery, Inte...            4.4   \n",
       "5  ASUS Creator Series Vivobook 14X OLED (2023), ...            4.6   \n",
       "6  ASUS TUF Gaming F15, 15.6-inch (39.62 cms) FHD...            4.0   \n",
       "7  MSI Modern 14, Intel 12th Gen. i7-1255U, 36CM ...            4.4   \n",
       "8  HP Laptop 15s, 12th Gen Intel Core i7-1255U, 1...            3.5   \n",
       "9  HP Pavilion 15, 13th Gen Intel Core i7-1360P, ...            3.8   \n",
       "\n",
       "  laptop_Price  \n",
       "0       66,990  \n",
       "1       64,990  \n",
       "2       86,490  \n",
       "3       68,829  \n",
       "4     1,15,990  \n",
       "5       89,990  \n",
       "6     1,03,625  \n",
       "7       54,990  \n",
       "8       68,990  \n",
       "9       88,490  "
      ]
     },
     "execution_count": 33,
     "metadata": {},
     "output_type": "execute_result"
    }
   ],
   "source": [
    "laptops"
   ]
  },
  {
   "cell_type": "code",
   "execution_count": null,
   "id": "5628e809",
   "metadata": {},
   "outputs": [],
   "source": []
  },
  {
   "cell_type": "markdown",
   "id": "12e68f33",
   "metadata": {},
   "source": [
    " #### Q8: Write a python program to scrape data for Top 1000 Quotes of All Time.\n",
    "#### The above task will be done in following steps:\n",
    "#### 1. First get the webpagehttps://www.azquotes.com/\n",
    "#### 2. Click on TopQuotes\n",
    "#### 3. Than scrap \n",
    "#### a) Quote \n",
    "#### b) Author \n",
    "#### c) Type Of Quotes"
   ]
  },
  {
   "cell_type": "code",
   "execution_count": 34,
   "id": "984387c4",
   "metadata": {},
   "outputs": [],
   "source": [
    "driver=webdriver.Chrome()"
   ]
  },
  {
   "cell_type": "code",
   "execution_count": 35,
   "id": "2feca89f",
   "metadata": {},
   "outputs": [],
   "source": [
    "driver.get('https://www.azquotes.com/')"
   ]
  },
  {
   "cell_type": "code",
   "execution_count": 36,
   "id": "2cffe72b",
   "metadata": {},
   "outputs": [],
   "source": [
    "top_quotes=driver.find_element(By.XPATH,'/html/body/div[1]/div[1]/div[1]/div/div[3]/ul/li[5]/a')\n",
    "top_quotes.click()"
   ]
  },
  {
   "cell_type": "code",
   "execution_count": 37,
   "id": "44b1f9a6",
   "metadata": {},
   "outputs": [],
   "source": [
    "Quote=[]"
   ]
  },
  {
   "cell_type": "code",
   "execution_count": 38,
   "id": "2d9e3f57",
   "metadata": {},
   "outputs": [],
   "source": [
    "Author=[]"
   ]
  },
  {
   "cell_type": "code",
   "execution_count": 39,
   "id": "b9b1b1f5",
   "metadata": {},
   "outputs": [],
   "source": [
    "type_Of_Quotes=[]"
   ]
  },
  {
   "cell_type": "code",
   "execution_count": null,
   "id": "9fa7a895",
   "metadata": {},
   "outputs": [],
   "source": []
  },
  {
   "cell_type": "code",
   "execution_count": 147,
   "id": "3d6f42a7",
   "metadata": {},
   "outputs": [],
   "source": [
    "Quotes=driver.find_elements(By.XPATH,'//a[@class=\"title\"]')"
   ]
  },
  {
   "cell_type": "code",
   "execution_count": 148,
   "id": "ccb6f9a7",
   "metadata": {},
   "outputs": [],
   "source": [
    "for i in Quotes:\n",
    "    bg=i.text\n",
    "    Quote.append(bg)"
   ]
  },
  {
   "cell_type": "code",
   "execution_count": 149,
   "id": "1d900138",
   "metadata": {},
   "outputs": [
    {
     "data": {
      "text/plain": [
       "1000"
      ]
     },
     "execution_count": 149,
     "metadata": {},
     "output_type": "execute_result"
    }
   ],
   "source": [
    "len(Quote)                  # repited after evrey page"
   ]
  },
  {
   "cell_type": "code",
   "execution_count": 150,
   "id": "55ce43cd",
   "metadata": {},
   "outputs": [],
   "source": [
    "Authors=driver.find_elements(By.XPATH,'//div[@class=\"author\"]')"
   ]
  },
  {
   "cell_type": "code",
   "execution_count": 151,
   "id": "fc48c4e8",
   "metadata": {},
   "outputs": [],
   "source": [
    "for i in Authors:\n",
    "    bh=i.text\n",
    "    Author.append(bh)"
   ]
  },
  {
   "cell_type": "code",
   "execution_count": 152,
   "id": "700facb0",
   "metadata": {},
   "outputs": [
    {
     "data": {
      "text/plain": [
       "1000"
      ]
     },
     "execution_count": 152,
     "metadata": {},
     "output_type": "execute_result"
    }
   ],
   "source": [
    "len(Author)                     # repited after evrey page"
   ]
  },
  {
   "cell_type": "code",
   "execution_count": 153,
   "id": "f140992a",
   "metadata": {},
   "outputs": [],
   "source": [
    "toq=driver.find_elements(By.XPATH,'//div[@class=\"tags\"]')"
   ]
  },
  {
   "cell_type": "code",
   "execution_count": 154,
   "id": "f790d076",
   "metadata": {},
   "outputs": [],
   "source": [
    "for i in toq:\n",
    "    bi=i.text\n",
    "    type_Of_Quotes.append(bi)"
   ]
  },
  {
   "cell_type": "code",
   "execution_count": 155,
   "id": "1b3720a8",
   "metadata": {},
   "outputs": [
    {
     "data": {
      "text/plain": [
       "1000"
      ]
     },
     "execution_count": 155,
     "metadata": {},
     "output_type": "execute_result"
    }
   ],
   "source": [
    "len(type_Of_Quotes)                         # repited after evrey page"
   ]
  },
  {
   "cell_type": "code",
   "execution_count": 66,
   "id": "5324569d",
   "metadata": {},
   "outputs": [],
   "source": [
    "next_apage=driver.find_element(By.XPATH,'/html/body/div[1]/div[2]/div/div/div/div[1]/div/div[4]/li[3]/a')\n",
    "next_apage.click()            #page2"
   ]
  },
  {
   "cell_type": "code",
   "execution_count": 76,
   "id": "f25767ad",
   "metadata": {},
   "outputs": [],
   "source": [
    "next_apage=driver.find_element(By.XPATH,'/html/body/div[1]/div[2]/div/div/div/div[1]/div/div[3]/li[5]/a')\n",
    "next_apage.click()         #page3"
   ]
  },
  {
   "cell_type": "code",
   "execution_count": 86,
   "id": "04d928e2",
   "metadata": {},
   "outputs": [],
   "source": [
    "next_apage=driver.find_element(By.XPATH,'/html/body/div[1]/div[2]/div/div/div/div[1]/div/div[3]/li[6]/a')\n",
    "next_apage.click()         #page4"
   ]
  },
  {
   "cell_type": "code",
   "execution_count": 96,
   "id": "ca31f379",
   "metadata": {},
   "outputs": [],
   "source": [
    "next_apage=driver.find_element(By.XPATH,'/html/body/div[1]/div[2]/div/div/div/div[1]/div/div[3]/li[7]/a')\n",
    "next_apage.click()         #page5"
   ]
  },
  {
   "cell_type": "code",
   "execution_count": 106,
   "id": "e914c048",
   "metadata": {},
   "outputs": [],
   "source": [
    "next_apage=driver.find_element(By.XPATH,'/html/body/div[1]/div[2]/div/div/div/div[1]/div/div[3]/li[8]/a')\n",
    "next_apage.click()         #page6"
   ]
  },
  {
   "cell_type": "code",
   "execution_count": 116,
   "id": "083c1d07",
   "metadata": {},
   "outputs": [],
   "source": [
    "next_apage=driver.find_element(By.XPATH,'/html/body/div[1]/div[2]/div/div/div/div[1]/div/div[3]/li[9]/a')\n",
    "next_apage.click()         #page7"
   ]
  },
  {
   "cell_type": "code",
   "execution_count": 126,
   "id": "ea6ae23f",
   "metadata": {},
   "outputs": [],
   "source": [
    "next_apage=driver.find_element(By.XPATH,'/html/body/div[1]/div[2]/div/div/div/div[1]/div/div[3]/li[10]/a')\n",
    "next_apage.click()         #page8"
   ]
  },
  {
   "cell_type": "code",
   "execution_count": 136,
   "id": "0128b2a6",
   "metadata": {},
   "outputs": [],
   "source": [
    "next_apage=driver.find_element(By.XPATH,'/html/body/div[1]/div[2]/div/div/div/div[1]/div/div[3]/li[11]/a')\n",
    "next_apage.click()         #page9"
   ]
  },
  {
   "cell_type": "code",
   "execution_count": 146,
   "id": "fbb0ba86",
   "metadata": {},
   "outputs": [],
   "source": [
    "next_apage=driver.find_element(By.XPATH,'/html/body/div[1]/div[2]/div/div/div/div[1]/div/div[3]/li[12]/a')\n",
    "next_apage.click()         #page10"
   ]
  },
  {
   "cell_type": "code",
   "execution_count": null,
   "id": "a461aa8b",
   "metadata": {},
   "outputs": [],
   "source": []
  },
  {
   "cell_type": "code",
   "execution_count": 156,
   "id": "8859a849",
   "metadata": {},
   "outputs": [],
   "source": [
    "Quotes_of_All_Time=pd.DataFrame({'Quote':Quote,'Author':Author,'type_Of_Quotes':type_Of_Quotes})"
   ]
  },
  {
   "cell_type": "code",
   "execution_count": 157,
   "id": "53699400",
   "metadata": {},
   "outputs": [
    {
     "data": {
      "text/html": [
       "<div>\n",
       "<style scoped>\n",
       "    .dataframe tbody tr th:only-of-type {\n",
       "        vertical-align: middle;\n",
       "    }\n",
       "\n",
       "    .dataframe tbody tr th {\n",
       "        vertical-align: top;\n",
       "    }\n",
       "\n",
       "    .dataframe thead th {\n",
       "        text-align: right;\n",
       "    }\n",
       "</style>\n",
       "<table border=\"1\" class=\"dataframe\">\n",
       "  <thead>\n",
       "    <tr style=\"text-align: right;\">\n",
       "      <th></th>\n",
       "      <th>Quote</th>\n",
       "      <th>Author</th>\n",
       "      <th>type_Of_Quotes</th>\n",
       "    </tr>\n",
       "  </thead>\n",
       "  <tbody>\n",
       "    <tr>\n",
       "      <th>0</th>\n",
       "      <td>The essence of strategy is choosing what not t...</td>\n",
       "      <td>Michael Porter</td>\n",
       "      <td>deeep thought</td>\n",
       "    </tr>\n",
       "    <tr>\n",
       "      <th>1</th>\n",
       "      <td>One cannot and must not try to erase the past ...</td>\n",
       "      <td>Golda Meir</td>\n",
       "      <td>Inspiration, Past, Trying</td>\n",
       "    </tr>\n",
       "    <tr>\n",
       "      <th>2</th>\n",
       "      <td>Patriotism means to stand by the country. It d...</td>\n",
       "      <td>Theodore Roosevelt</td>\n",
       "      <td>Country, Peace, War</td>\n",
       "    </tr>\n",
       "    <tr>\n",
       "      <th>3</th>\n",
       "      <td>Death is something inevitable. When a man has ...</td>\n",
       "      <td>Nelson Mandela</td>\n",
       "      <td>Inspirational, Motivational, Death</td>\n",
       "    </tr>\n",
       "    <tr>\n",
       "      <th>4</th>\n",
       "      <td>You have to love a nation that celebrates its ...</td>\n",
       "      <td>Erma Bombeck</td>\n",
       "      <td>4th Of July, Food, Patriotic</td>\n",
       "    </tr>\n",
       "    <tr>\n",
       "      <th>...</th>\n",
       "      <td>...</td>\n",
       "      <td>...</td>\n",
       "      <td>...</td>\n",
       "    </tr>\n",
       "    <tr>\n",
       "      <th>995</th>\n",
       "      <td>Regret for the things we did can be tempered b...</td>\n",
       "      <td>Sydney J. Harris</td>\n",
       "      <td>Love, Inspirational, Motivational</td>\n",
       "    </tr>\n",
       "    <tr>\n",
       "      <th>996</th>\n",
       "      <td>America... just a nation of two hundred millio...</td>\n",
       "      <td>Hunter S. Thompson</td>\n",
       "      <td>Gun, Two, Qualms About</td>\n",
       "    </tr>\n",
       "    <tr>\n",
       "      <th>997</th>\n",
       "      <td>For every disciplined effort there is a multip...</td>\n",
       "      <td>Jim Rohn</td>\n",
       "      <td>Inspirational, Greatness, Best Effort</td>\n",
       "    </tr>\n",
       "    <tr>\n",
       "      <th>998</th>\n",
       "      <td>The spiritual journey is individual, highly pe...</td>\n",
       "      <td>Ram Dass</td>\n",
       "      <td>Spiritual, Truth, Yoga</td>\n",
       "    </tr>\n",
       "    <tr>\n",
       "      <th>999</th>\n",
       "      <td>The mind is not a vessel to be filled but a fi...</td>\n",
       "      <td>Plutarch</td>\n",
       "      <td>Inspirational, Leadership, Education</td>\n",
       "    </tr>\n",
       "  </tbody>\n",
       "</table>\n",
       "<p>1000 rows × 3 columns</p>\n",
       "</div>"
      ],
      "text/plain": [
       "                                                 Quote              Author  \\\n",
       "0    The essence of strategy is choosing what not t...      Michael Porter   \n",
       "1    One cannot and must not try to erase the past ...          Golda Meir   \n",
       "2    Patriotism means to stand by the country. It d...  Theodore Roosevelt   \n",
       "3    Death is something inevitable. When a man has ...      Nelson Mandela   \n",
       "4    You have to love a nation that celebrates its ...        Erma Bombeck   \n",
       "..                                                 ...                 ...   \n",
       "995  Regret for the things we did can be tempered b...    Sydney J. Harris   \n",
       "996  America... just a nation of two hundred millio...  Hunter S. Thompson   \n",
       "997  For every disciplined effort there is a multip...            Jim Rohn   \n",
       "998  The spiritual journey is individual, highly pe...            Ram Dass   \n",
       "999  The mind is not a vessel to be filled but a fi...            Plutarch   \n",
       "\n",
       "                            type_Of_Quotes  \n",
       "0                            deeep thought  \n",
       "1                Inspiration, Past, Trying  \n",
       "2                      Country, Peace, War  \n",
       "3       Inspirational, Motivational, Death  \n",
       "4             4th Of July, Food, Patriotic  \n",
       "..                                     ...  \n",
       "995      Love, Inspirational, Motivational  \n",
       "996                 Gun, Two, Qualms About  \n",
       "997  Inspirational, Greatness, Best Effort  \n",
       "998                 Spiritual, Truth, Yoga  \n",
       "999   Inspirational, Leadership, Education  \n",
       "\n",
       "[1000 rows x 3 columns]"
      ]
     },
     "execution_count": 157,
     "metadata": {},
     "output_type": "execute_result"
    }
   ],
   "source": [
    "Quotes_of_All_Time"
   ]
  },
  {
   "cell_type": "code",
   "execution_count": null,
   "id": "90d3c652",
   "metadata": {},
   "outputs": [],
   "source": []
  },
  {
   "cell_type": "markdown",
   "id": "ad9753c3",
   "metadata": {},
   "source": [
    "#### Q9: Write a python program to display list of respected former Prime Ministers of India(i.e. Name, Born-Dead,\n",
    "#### Term of office, Remarks) from https://www.jagranjosh.com/.\n",
    "#### This task will be done in following steps:\n",
    "#### 1. First get the webpagehttps://www.jagranjosh.com/\n",
    "#### 2. Then You have to click on the GK option\n",
    "#### 3. Then click on the List of all Prime Ministers of India\n",
    "#### 4. Then scrap the mentioned data and make theDataFrame.\n"
   ]
  },
  {
   "cell_type": "code",
   "execution_count": 8,
   "id": "c2d09498",
   "metadata": {},
   "outputs": [],
   "source": [
    "driver=webdriver.Chrome()"
   ]
  },
  {
   "cell_type": "code",
   "execution_count": 10,
   "id": "7425f066",
   "metadata": {},
   "outputs": [],
   "source": [
    "driver.get('https://www.jagranjosh.com/')"
   ]
  },
  {
   "cell_type": "code",
   "execution_count": 11,
   "id": "eb0f2e40",
   "metadata": {},
   "outputs": [],
   "source": [
    "GK=driver.find_element(By.XPATH,'/html/body/div[1]/header/nav/div/div/div[3]/ul/li[3]/a')\n",
    "GK.click()"
   ]
  },
  {
   "cell_type": "code",
   "execution_count": 13,
   "id": "b3dc71f4",
   "metadata": {},
   "outputs": [],
   "source": [
    "GKPM=driver.find_element(By.XPATH,'/html/body/div[1]/div/div/div[2]/div/div[10]/div/div/ul/li[5]/a')\n",
    "GKPM.click()"
   ]
  },
  {
   "cell_type": "code",
   "execution_count": 16,
   "id": "20e5bc59",
   "metadata": {},
   "outputs": [],
   "source": [
    "presedent_name=[]"
   ]
  },
  {
   "cell_type": "code",
   "execution_count": 55,
   "id": "ddcaabd1",
   "metadata": {},
   "outputs": [],
   "source": [
    " term_of_office=[]"
   ]
  },
  {
   "cell_type": "code",
   "execution_count": 18,
   "id": "3416de78",
   "metadata": {},
   "outputs": [],
   "source": [
    "psd=driver.find_elements(By.XPATH,'//td[@align=\"left\"]')"
   ]
  },
  {
   "cell_type": "code",
   "execution_count": 19,
   "id": "15e27ec3",
   "metadata": {},
   "outputs": [],
   "source": [
    "for i in psd:\n",
    "    ca=i.text\n",
    "    presedent_name.append(ca)\n",
    "    "
   ]
  },
  {
   "cell_type": "code",
   "execution_count": 21,
   "id": "2d1d89fe",
   "metadata": {},
   "outputs": [
    {
     "data": {
      "text/plain": [
       "17"
      ]
     },
     "execution_count": 21,
     "metadata": {},
     "output_type": "execute_result"
    }
   ],
   "source": [
    "len(presedent_name)"
   ]
  },
  {
   "cell_type": "code",
   "execution_count": 67,
   "id": "2461f8ac",
   "metadata": {},
   "outputs": [],
   "source": [
    "presedent=pd.DataFrame({'presedent_name':presedent_name})"
   ]
  },
  {
   "cell_type": "code",
   "execution_count": 68,
   "id": "a0276e3c",
   "metadata": {},
   "outputs": [
    {
     "data": {
      "text/html": [
       "<div>\n",
       "<style scoped>\n",
       "    .dataframe tbody tr th:only-of-type {\n",
       "        vertical-align: middle;\n",
       "    }\n",
       "\n",
       "    .dataframe tbody tr th {\n",
       "        vertical-align: top;\n",
       "    }\n",
       "\n",
       "    .dataframe thead th {\n",
       "        text-align: right;\n",
       "    }\n",
       "</style>\n",
       "<table border=\"1\" class=\"dataframe\">\n",
       "  <thead>\n",
       "    <tr style=\"text-align: right;\">\n",
       "      <th></th>\n",
       "      <th>presedent_name</th>\n",
       "    </tr>\n",
       "  </thead>\n",
       "  <tbody>\n",
       "    <tr>\n",
       "      <th>0</th>\n",
       "      <td>Rajendra Prasad</td>\n",
       "    </tr>\n",
       "    <tr>\n",
       "      <th>1</th>\n",
       "      <td>Sarvepalli Radhakrishnan</td>\n",
       "    </tr>\n",
       "    <tr>\n",
       "      <th>2</th>\n",
       "      <td>Zakir Hussain</td>\n",
       "    </tr>\n",
       "    <tr>\n",
       "      <th>3</th>\n",
       "      <td>VV Giri (Acting President)</td>\n",
       "    </tr>\n",
       "    <tr>\n",
       "      <th>4</th>\n",
       "      <td>Mohammad Hidayatullah (Acting President)</td>\n",
       "    </tr>\n",
       "    <tr>\n",
       "      <th>5</th>\n",
       "      <td>V.V Giri</td>\n",
       "    </tr>\n",
       "    <tr>\n",
       "      <th>6</th>\n",
       "      <td>Fakhruddin Ali Ahmed</td>\n",
       "    </tr>\n",
       "    <tr>\n",
       "      <th>7</th>\n",
       "      <td>Basappa Danappa Jatti (Acting President)</td>\n",
       "    </tr>\n",
       "    <tr>\n",
       "      <th>8</th>\n",
       "      <td>Neelam Sanjiva Reddy</td>\n",
       "    </tr>\n",
       "    <tr>\n",
       "      <th>9</th>\n",
       "      <td>Giani Zail Singh</td>\n",
       "    </tr>\n",
       "    <tr>\n",
       "      <th>10</th>\n",
       "      <td>R Venkataraman</td>\n",
       "    </tr>\n",
       "    <tr>\n",
       "      <th>11</th>\n",
       "      <td>Shankar Dayal Sharma</td>\n",
       "    </tr>\n",
       "    <tr>\n",
       "      <th>12</th>\n",
       "      <td>K R Narayanan</td>\n",
       "    </tr>\n",
       "    <tr>\n",
       "      <th>13</th>\n",
       "      <td>APJ Abdul Kalam</td>\n",
       "    </tr>\n",
       "    <tr>\n",
       "      <th>14</th>\n",
       "      <td>Pratibha Patil</td>\n",
       "    </tr>\n",
       "    <tr>\n",
       "      <th>15</th>\n",
       "      <td>Pranab Mukherjee</td>\n",
       "    </tr>\n",
       "    <tr>\n",
       "      <th>16</th>\n",
       "      <td>Ram Nath Kovind</td>\n",
       "    </tr>\n",
       "  </tbody>\n",
       "</table>\n",
       "</div>"
      ],
      "text/plain": [
       "                              presedent_name\n",
       "0                            Rajendra Prasad\n",
       "1                   Sarvepalli Radhakrishnan\n",
       "2                              Zakir Hussain\n",
       "3                 VV Giri (Acting President)\n",
       "4   Mohammad Hidayatullah (Acting President)\n",
       "5                                   V.V Giri\n",
       "6                       Fakhruddin Ali Ahmed\n",
       "7   Basappa Danappa Jatti (Acting President)\n",
       "8                       Neelam Sanjiva Reddy\n",
       "9                           Giani Zail Singh\n",
       "10                            R Venkataraman\n",
       "11                      Shankar Dayal Sharma\n",
       "12                             K R Narayanan\n",
       "13                           APJ Abdul Kalam\n",
       "14                            Pratibha Patil\n",
       "15                          Pranab Mukherjee\n",
       "16                           Ram Nath Kovind"
      ]
     },
     "execution_count": 68,
     "metadata": {},
     "output_type": "execute_result"
    }
   ],
   "source": [
    "presedent"
   ]
  },
  {
   "cell_type": "code",
   "execution_count": null,
   "id": "f5d6d125",
   "metadata": {},
   "outputs": [],
   "source": []
  },
  {
   "cell_type": "markdown",
   "id": "92bd3827",
   "metadata": {},
   "source": [
    "#### Q10: Write a python program to display list of 50 Most expensive cars in the world (i.e.\n",
    "#### Car name and Price) from https://www.motor1.com/\n",
    "#### This task will be done in following steps:\n",
    "#### 1. First get the webpage https://www.motor1.com/\n",
    "#### 2. Then You have to type in the search bar ’50 most expensive cars’\n",
    "#### 3. Then click on 50 most expensive carsin the world..\n",
    "#### 4. Then scrap the mentioned data and make the dataframe"
   ]
  },
  {
   "cell_type": "code",
   "execution_count": 70,
   "id": "4194d263",
   "metadata": {},
   "outputs": [],
   "source": [
    "driver=webdriver.Chrome()"
   ]
  },
  {
   "cell_type": "code",
   "execution_count": 71,
   "id": "9200e52e",
   "metadata": {},
   "outputs": [],
   "source": [
    "driver.get('https://www.motor1.com/')"
   ]
  },
  {
   "cell_type": "code",
   "execution_count": 87,
   "id": "f20b6a89",
   "metadata": {},
   "outputs": [],
   "source": [
    "search_car=driver.find_element(By.XPATH,'/html/body/div[10]/div[2]/div/div/div[3]/div/div/div/form/input')\n",
    "search_car.send_keys('50 most expensive cars')"
   ]
  },
  {
   "cell_type": "code",
   "execution_count": 88,
   "id": "959f1f09",
   "metadata": {},
   "outputs": [],
   "source": [
    "submit1=driver.find_element(By.XPATH,'/html/body/div[10]/div[2]/div/div/div[3]/div/div/div/form/button[1]')\n",
    "submit1.click()"
   ]
  },
  {
   "cell_type": "code",
   "execution_count": 89,
   "id": "bf488178",
   "metadata": {},
   "outputs": [],
   "source": [
    "link_click=driver.find_element(By.XPATH,'/html/body/div[10]/div[9]/div/div[1]/div/div/div[2]/div/div[1]/h3/a')\n",
    "link_click.click()"
   ]
  },
  {
   "cell_type": "code",
   "execution_count": 90,
   "id": "1142c9b1",
   "metadata": {},
   "outputs": [],
   "source": [
    "CAR_NAME=[]"
   ]
  },
  {
   "cell_type": "code",
   "execution_count": 91,
   "id": "0115e84c",
   "metadata": {},
   "outputs": [],
   "source": [
    "CAR_PRICE=[]"
   ]
  },
  {
   "cell_type": "code",
   "execution_count": 92,
   "id": "4b40bba3",
   "metadata": {},
   "outputs": [],
   "source": [
    "CAR_N=driver.find_elements(By.XPATH,'//h3[@class=\"subheader\"]')"
   ]
  },
  {
   "cell_type": "code",
   "execution_count": 93,
   "id": "c80003de",
   "metadata": {},
   "outputs": [],
   "source": [
    "for i in CAR_N[0:50]:\n",
    "    cc=i.text\n",
    "    CAR_NAME.append(cc)"
   ]
  },
  {
   "cell_type": "code",
   "execution_count": 95,
   "id": "337f59b6",
   "metadata": {},
   "outputs": [
    {
     "data": {
      "text/plain": [
       "50"
      ]
     },
     "execution_count": 95,
     "metadata": {},
     "output_type": "execute_result"
    }
   ],
   "source": [
    "len(CAR_NAME)"
   ]
  },
  {
   "cell_type": "code",
   "execution_count": 103,
   "id": "d9cdc881",
   "metadata": {},
   "outputs": [],
   "source": [
    "CAR_P=driver.find_elements(By.XPATH,'not found ')"
   ]
  },
  {
   "cell_type": "code",
   "execution_count": 104,
   "id": "7b59fcb9",
   "metadata": {},
   "outputs": [],
   "source": [
    "for i in CAR_P:\n",
    "    cx=i.text\n",
    "    CAR_PRICE.append(cx)"
   ]
  },
  {
   "cell_type": "code",
   "execution_count": 105,
   "id": "f1aa96ee",
   "metadata": {},
   "outputs": [
    {
     "data": {
      "text/plain": [
       "[]"
      ]
     },
     "execution_count": 105,
     "metadata": {},
     "output_type": "execute_result"
    }
   ],
   "source": [
    "CAR_PRICE"
   ]
  },
  {
   "cell_type": "code",
   "execution_count": 106,
   "id": "22724303",
   "metadata": {},
   "outputs": [],
   "source": [
    "top50=pd.DataFrame({'CAR_NAME':CAR_NAME})"
   ]
  },
  {
   "cell_type": "code",
   "execution_count": 107,
   "id": "acaa4776",
   "metadata": {},
   "outputs": [
    {
     "data": {
      "text/html": [
       "<div>\n",
       "<style scoped>\n",
       "    .dataframe tbody tr th:only-of-type {\n",
       "        vertical-align: middle;\n",
       "    }\n",
       "\n",
       "    .dataframe tbody tr th {\n",
       "        vertical-align: top;\n",
       "    }\n",
       "\n",
       "    .dataframe thead th {\n",
       "        text-align: right;\n",
       "    }\n",
       "</style>\n",
       "<table border=\"1\" class=\"dataframe\">\n",
       "  <thead>\n",
       "    <tr style=\"text-align: right;\">\n",
       "      <th></th>\n",
       "      <th>CAR_NAME</th>\n",
       "    </tr>\n",
       "  </thead>\n",
       "  <tbody>\n",
       "    <tr>\n",
       "      <th>0</th>\n",
       "      <td>Aston Martin Valour</td>\n",
       "    </tr>\n",
       "    <tr>\n",
       "      <th>1</th>\n",
       "      <td>McLaren Elva</td>\n",
       "    </tr>\n",
       "    <tr>\n",
       "      <th>2</th>\n",
       "      <td>Czinger 21C</td>\n",
       "    </tr>\n",
       "    <tr>\n",
       "      <th>3</th>\n",
       "      <td>Ferrari Monza</td>\n",
       "    </tr>\n",
       "    <tr>\n",
       "      <th>4</th>\n",
       "      <td>Gordon Murray T.33</td>\n",
       "    </tr>\n",
       "    <tr>\n",
       "      <th>5</th>\n",
       "      <td>Koenigsegg Gemera</td>\n",
       "    </tr>\n",
       "    <tr>\n",
       "      <th>6</th>\n",
       "      <td>Zenvo TSR-S</td>\n",
       "    </tr>\n",
       "    <tr>\n",
       "      <th>7</th>\n",
       "      <td>Hennessey Venom F5</td>\n",
       "    </tr>\n",
       "    <tr>\n",
       "      <th>8</th>\n",
       "      <td>Bentley Bacalar</td>\n",
       "    </tr>\n",
       "    <tr>\n",
       "      <th>9</th>\n",
       "      <td>Hispano Suiza Carmen Boulogne</td>\n",
       "    </tr>\n",
       "    <tr>\n",
       "      <th>10</th>\n",
       "      <td>Bentley Mulliner Batur</td>\n",
       "    </tr>\n",
       "    <tr>\n",
       "      <th>11</th>\n",
       "      <td>Deus Vayanne</td>\n",
       "    </tr>\n",
       "    <tr>\n",
       "      <th>12</th>\n",
       "      <td>SSC Tuatara</td>\n",
       "    </tr>\n",
       "    <tr>\n",
       "      <th>13</th>\n",
       "      <td>Lotus Evija</td>\n",
       "    </tr>\n",
       "    <tr>\n",
       "      <th>14</th>\n",
       "      <td>Aston Martin Vulcan</td>\n",
       "    </tr>\n",
       "    <tr>\n",
       "      <th>15</th>\n",
       "      <td>Delage D12</td>\n",
       "    </tr>\n",
       "    <tr>\n",
       "      <th>16</th>\n",
       "      <td>Ferrari Daytona SP3</td>\n",
       "    </tr>\n",
       "    <tr>\n",
       "      <th>17</th>\n",
       "      <td>McLaren Speedtail</td>\n",
       "    </tr>\n",
       "    <tr>\n",
       "      <th>18</th>\n",
       "      <td>Rimac Nevera</td>\n",
       "    </tr>\n",
       "    <tr>\n",
       "      <th>19</th>\n",
       "      <td>Pagani Utopia</td>\n",
       "    </tr>\n",
       "    <tr>\n",
       "      <th>20</th>\n",
       "      <td>Pininfarina Battista</td>\n",
       "    </tr>\n",
       "    <tr>\n",
       "      <th>21</th>\n",
       "      <td>Gordon Murray T.50</td>\n",
       "    </tr>\n",
       "    <tr>\n",
       "      <th>22</th>\n",
       "      <td>Lamborghini Countach</td>\n",
       "    </tr>\n",
       "    <tr>\n",
       "      <th>23</th>\n",
       "      <td>Mercedes-AMG Project One</td>\n",
       "    </tr>\n",
       "    <tr>\n",
       "      <th>24</th>\n",
       "      <td>Zenvo Aurora</td>\n",
       "    </tr>\n",
       "    <tr>\n",
       "      <th>25</th>\n",
       "      <td>Aston Martin Victor</td>\n",
       "    </tr>\n",
       "    <tr>\n",
       "      <th>26</th>\n",
       "      <td>Hennessey Venom F5 Roadster</td>\n",
       "    </tr>\n",
       "    <tr>\n",
       "      <th>27</th>\n",
       "      <td>Koenigsegg Jesko</td>\n",
       "    </tr>\n",
       "    <tr>\n",
       "      <th>28</th>\n",
       "      <td>Aston Martin Valkyrie</td>\n",
       "    </tr>\n",
       "    <tr>\n",
       "      <th>29</th>\n",
       "      <td>W Motors Lykan Hypersport</td>\n",
       "    </tr>\n",
       "    <tr>\n",
       "      <th>30</th>\n",
       "      <td>McLaren Solus</td>\n",
       "    </tr>\n",
       "    <tr>\n",
       "      <th>31</th>\n",
       "      <td>Lamborghini Sian</td>\n",
       "    </tr>\n",
       "    <tr>\n",
       "      <th>32</th>\n",
       "      <td>Koenigsegg CC850</td>\n",
       "    </tr>\n",
       "    <tr>\n",
       "      <th>33</th>\n",
       "      <td>Bugatti Chiron Super Sport 300+</td>\n",
       "    </tr>\n",
       "    <tr>\n",
       "      <th>34</th>\n",
       "      <td>Lamborghini Veneno</td>\n",
       "    </tr>\n",
       "    <tr>\n",
       "      <th>35</th>\n",
       "      <td>Bugatti Bolide</td>\n",
       "    </tr>\n",
       "    <tr>\n",
       "      <th>36</th>\n",
       "      <td>Pininfarina B95 Speedster</td>\n",
       "    </tr>\n",
       "    <tr>\n",
       "      <th>37</th>\n",
       "      <td>Bugatti Mistral</td>\n",
       "    </tr>\n",
       "    <tr>\n",
       "      <th>38</th>\n",
       "      <td>Pagani Huayra Imola</td>\n",
       "    </tr>\n",
       "    <tr>\n",
       "      <th>39</th>\n",
       "      <td>Bugatti Divo</td>\n",
       "    </tr>\n",
       "    <tr>\n",
       "      <th>40</th>\n",
       "      <td>SP Automotive Chaos</td>\n",
       "    </tr>\n",
       "    <tr>\n",
       "      <th>41</th>\n",
       "      <td>Pagani Codalunga</td>\n",
       "    </tr>\n",
       "    <tr>\n",
       "      <th>42</th>\n",
       "      <td>777 Hypercar</td>\n",
       "    </tr>\n",
       "    <tr>\n",
       "      <th>43</th>\n",
       "      <td>Mercedes-Maybach Exelero</td>\n",
       "    </tr>\n",
       "    <tr>\n",
       "      <th>44</th>\n",
       "      <td>Bugatti Centodieci</td>\n",
       "    </tr>\n",
       "    <tr>\n",
       "      <th>45</th>\n",
       "      <td>Bugatti Chiron Profilée</td>\n",
       "    </tr>\n",
       "    <tr>\n",
       "      <th>46</th>\n",
       "      <td>Rolls-Royce Sweptail</td>\n",
       "    </tr>\n",
       "    <tr>\n",
       "      <th>47</th>\n",
       "      <td>Bugatti La Voiture Noire</td>\n",
       "    </tr>\n",
       "    <tr>\n",
       "      <th>48</th>\n",
       "      <td>Rolls-Royce Boat Tail*</td>\n",
       "    </tr>\n",
       "    <tr>\n",
       "      <th>49</th>\n",
       "      <td>Rolls-Royce La Rose Noire Droptail</td>\n",
       "    </tr>\n",
       "  </tbody>\n",
       "</table>\n",
       "</div>"
      ],
      "text/plain": [
       "                              CAR_NAME\n",
       "0                  Aston Martin Valour\n",
       "1                         McLaren Elva\n",
       "2                          Czinger 21C\n",
       "3                        Ferrari Monza\n",
       "4                   Gordon Murray T.33\n",
       "5                    Koenigsegg Gemera\n",
       "6                          Zenvo TSR-S\n",
       "7                   Hennessey Venom F5\n",
       "8                      Bentley Bacalar\n",
       "9        Hispano Suiza Carmen Boulogne\n",
       "10              Bentley Mulliner Batur\n",
       "11                        Deus Vayanne\n",
       "12                         SSC Tuatara\n",
       "13                         Lotus Evija\n",
       "14                 Aston Martin Vulcan\n",
       "15                          Delage D12\n",
       "16                 Ferrari Daytona SP3\n",
       "17                   McLaren Speedtail\n",
       "18                        Rimac Nevera\n",
       "19                       Pagani Utopia\n",
       "20                Pininfarina Battista\n",
       "21                  Gordon Murray T.50\n",
       "22                Lamborghini Countach\n",
       "23            Mercedes-AMG Project One\n",
       "24                        Zenvo Aurora\n",
       "25                 Aston Martin Victor\n",
       "26         Hennessey Venom F5 Roadster\n",
       "27                    Koenigsegg Jesko\n",
       "28               Aston Martin Valkyrie\n",
       "29           W Motors Lykan Hypersport\n",
       "30                       McLaren Solus\n",
       "31                    Lamborghini Sian\n",
       "32                    Koenigsegg CC850\n",
       "33     Bugatti Chiron Super Sport 300+\n",
       "34                  Lamborghini Veneno\n",
       "35                      Bugatti Bolide\n",
       "36           Pininfarina B95 Speedster\n",
       "37                     Bugatti Mistral\n",
       "38                 Pagani Huayra Imola\n",
       "39                        Bugatti Divo\n",
       "40                 SP Automotive Chaos\n",
       "41                    Pagani Codalunga\n",
       "42                        777 Hypercar\n",
       "43            Mercedes-Maybach Exelero\n",
       "44                  Bugatti Centodieci\n",
       "45             Bugatti Chiron Profilée\n",
       "46                Rolls-Royce Sweptail\n",
       "47            Bugatti La Voiture Noire\n",
       "48              Rolls-Royce Boat Tail*\n",
       "49  Rolls-Royce La Rose Noire Droptail"
      ]
     },
     "execution_count": 107,
     "metadata": {},
     "output_type": "execute_result"
    }
   ],
   "source": [
    "top50"
   ]
  },
  {
   "cell_type": "code",
   "execution_count": 109,
   "id": "ab157817",
   "metadata": {},
   "outputs": [],
   "source": [
    "driver.close()"
   ]
  },
  {
   "cell_type": "code",
   "execution_count": null,
   "id": "e7f1a143",
   "metadata": {},
   "outputs": [],
   "source": []
  }
 ],
 "metadata": {
  "kernelspec": {
   "display_name": "Python 3 (ipykernel)",
   "language": "python",
   "name": "python3"
  },
  "language_info": {
   "codemirror_mode": {
    "name": "ipython",
    "version": 3
   },
   "file_extension": ".py",
   "mimetype": "text/x-python",
   "name": "python",
   "nbconvert_exporter": "python",
   "pygments_lexer": "ipython3",
   "version": "3.10.9"
  }
 },
 "nbformat": 4,
 "nbformat_minor": 5
}
