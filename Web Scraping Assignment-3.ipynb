{
 "cells": [
  {
   "cell_type": "code",
   "execution_count": 1,
   "id": "49380fe7",
   "metadata": {},
   "outputs": [],
   "source": [
    "import selenium "
   ]
  },
  {
   "cell_type": "code",
   "execution_count": 2,
   "id": "d6975cd0",
   "metadata": {},
   "outputs": [],
   "source": [
    "from selenium import webdriver"
   ]
  },
  {
   "cell_type": "code",
   "execution_count": 3,
   "id": "9d4223ff",
   "metadata": {},
   "outputs": [],
   "source": [
    "from selenium.webdriver.common.by import By"
   ]
  },
  {
   "cell_type": "code",
   "execution_count": 4,
   "id": "dbdbf198",
   "metadata": {},
   "outputs": [],
   "source": [
    "import time"
   ]
  },
  {
   "cell_type": "code",
   "execution_count": 5,
   "id": "3a6142b6",
   "metadata": {},
   "outputs": [],
   "source": [
    "from selenium.webdriver.common.keys  import Keys"
   ]
  },
  {
   "cell_type": "code",
   "execution_count": 111,
   "id": "1af023c9",
   "metadata": {},
   "outputs": [],
   "source": [
    "from selenium.common.exceptions import NoSuchElementException"
   ]
  },
  {
   "cell_type": "code",
   "execution_count": 7,
   "id": "89a50e23",
   "metadata": {},
   "outputs": [],
   "source": [
    "import re\n",
    "import requests"
   ]
  },
  {
   "cell_type": "code",
   "execution_count": 8,
   "id": "2e6d777d",
   "metadata": {},
   "outputs": [],
   "source": [
    "from selenium.webdriver.common.keys import Keys"
   ]
  },
  {
   "cell_type": "markdown",
   "id": "1ecea257",
   "metadata": {},
   "source": [
    "#### 1. Write a python program which searches all the product under a particular product from www.amazon.in. The\n",
    "#### product to be searched will be taken as input from user. For e.g. If user input is ‘guitar’. Then search for\n",
    "#### guitars. "
   ]
  },
  {
   "cell_type": "code",
   "execution_count": 79,
   "id": "b1b1331e",
   "metadata": {},
   "outputs": [],
   "source": [
    "driver=webdriver.Edge()"
   ]
  },
  {
   "cell_type": "code",
   "execution_count": 80,
   "id": "d89fbc7b",
   "metadata": {},
   "outputs": [],
   "source": [
    "driver.get('https://www.amazon.in/')"
   ]
  },
  {
   "cell_type": "code",
   "execution_count": 77,
   "id": "8c6183e1",
   "metadata": {},
   "outputs": [
    {
     "name": "stdout",
     "output_type": "stream",
     "text": [
      "serch any product:fans\n"
     ]
    }
   ],
   "source": [
    "serch_product=input('serch any product:')\n",
    "time.sleep(2)\n",
    "s_wpg=driver.find_element(By.XPATH,'/html/body/div[1]/header/div/div[1]/div[2]/div/form/div[2]/div[1]/input')\n",
    "s_wpg.send_keys(serch_product,Keys.ENTER)"
   ]
  },
  {
   "cell_type": "code",
   "execution_count": 176,
   "id": "d7aaeb28",
   "metadata": {},
   "outputs": [],
   "source": [
    "import requests"
   ]
  },
  {
   "cell_type": "markdown",
   "id": "6e250918",
   "metadata": {},
   "source": [
    "#### 2. In the above question, now scrape the following details of each product listed in first 3 pages of your search\n",
    "#### results and save it in a data frame and csv. In case if any product has less than 3 pages in search results then\n",
    "#### scrape all the products available under that product name. Details to be scraped are: \"Brand\n",
    "#### Name\", \"Name of the Product\", \"Price\", \"Return/Exchange\", \"Expected Delivery\", \"Availability\" and\n",
    "#### “Product URL”. In case, if any of the details are missing for any of the product then replace it by “-“. "
   ]
  },
  {
   "cell_type": "code",
   "execution_count": 12,
   "id": "08eef15a",
   "metadata": {},
   "outputs": [],
   "source": [
    "product_urls=[]"
   ]
  },
  {
   "cell_type": "code",
   "execution_count": 13,
   "id": "706a9333",
   "metadata": {},
   "outputs": [],
   "source": [
    "for i in range(0,3):\n",
    "    p_url=driver.find_elements(By.XPATH,'//a[@class=\"a-link-normal s-underline-text s-underline-link-text s-link-style a-text-normal\"]')\n",
    "    for i in p_url:\n",
    "        product_urls.append(i.get_attribute(\"href\"))\n",
    "        next_b=driver.find_element(By.XPATH,'//a[@class=\"s-pagination-item s-pagination-next s-pagination-button s-pagination-separator\"]')"
   ]
  },
  {
   "cell_type": "code",
   "execution_count": null,
   "id": "4b755f70",
   "metadata": {},
   "outputs": [],
   "source": []
  },
  {
   "cell_type": "code",
   "execution_count": null,
   "id": "203eb3bc",
   "metadata": {},
   "outputs": [],
   "source": []
  },
  {
   "cell_type": "code",
   "execution_count": 27,
   "id": "55fcedf0",
   "metadata": {},
   "outputs": [],
   "source": [
    "brand_name = []\n",
    "for i in product_urls:\n",
    "    driver.get(i)\n",
    "    time.sleep(4) \n",
    "    try:\n",
    "        brand = driver.find_element (By.XPATH,'/html/body/div[2]/div/div[5]/div[3]/div[4]/div[43]/div[1]/div[1]/div/table/tbody/tr[1]/td[2]/span')\n",
    "        brand_name.append(brand.text)\n",
    "    except NoSuchElementException:\n",
    "        brand_name.append('--')\n",
    "    "
   ]
  },
  {
   "cell_type": "code",
   "execution_count": 52,
   "id": "ce3ea634",
   "metadata": {},
   "outputs": [],
   "source": [
    "\n",
    "prices = []\n",
    "\n",
    "for i in product_urls:\n",
    "    driver.get(i)\n",
    "    time.sleep(4)\n",
    "    try:\n",
    "        star = driver.find_element(By.XPATH,'/html/body/div[2]/div/div[5]/div[3]/div[1]/div[3]/div/div[1]/div/div/div/form/div/div/div/div/div[3]/div[1]/div/span[1]/span[2]/span[2]')\n",
    "        prices.append(star.text)\n",
    "    except NoSuchElementException:\n",
    "        prices.append('--')\n",
    "    "
   ]
  },
  {
   "cell_type": "code",
   "execution_count": 48,
   "id": "1ab1e781",
   "metadata": {},
   "outputs": [],
   "source": [
    "product_name = []\n",
    "for i in product_urls:\n",
    "    driver.get(i)\n",
    "    time.sleep(4)\n",
    "    try:\n",
    "        name=driver.find_element(By.XPATH,'/html/body/div[2]/div/div[5]/div[3]/div[4]/div[1]/div/h1/span')\n",
    "        product_name.append(name.text)\n",
    "    except NoSuchElementException:\n",
    "        product_name.append('--')\n",
    "                    "
   ]
  },
  {
   "cell_type": "code",
   "execution_count": null,
   "id": "04f5e5f2",
   "metadata": {},
   "outputs": [],
   "source": []
  },
  {
   "cell_type": "code",
   "execution_count": 59,
   "id": "08807f17",
   "metadata": {},
   "outputs": [],
   "source": [
    "ReturnorExchange = []\n",
    "for i in product_urls:\n",
    "    driver.get(i)\n",
    "    time.sleep(4)\n",
    "    try:\n",
    "        eorr = driver.find_element(By.XPATH,'/html/body/div[2]/div/div[5]/div[3]/div[4]/div[22]/div[2]/div/div/div/div[2]/span/div[2]/span')\n",
    "        ReturnorExchange.append(eorr.text)\n",
    "    except NoSuchElementException:\n",
    "        ReturnorExchange.append('not refundeble')"
   ]
  },
  {
   "cell_type": "code",
   "execution_count": 81,
   "id": "06c2b5d5",
   "metadata": {},
   "outputs": [],
   "source": [
    "exp_delivery = []\n",
    "for i in product_urls:\n",
    "    driver.get(i)\n",
    "    time.sleep(4)\n",
    "    try:\n",
    "        exp_d = driver.find_element(By.XPATH,'/html/body/div[2]/div/div[5]/div[3]/div[1]/div[3]/div/div[1]/div/div/div/form/div/div/div/div/div[4]/div/div[3]/div[9]/div[1]/div/div/div[1]/span/span')\n",
    "        exp_delivery.append(exp_d.text)\n",
    "    except NoSuchElementException:\n",
    "        exp_delivery.append('--')"
   ]
  },
  {
   "cell_type": "code",
   "execution_count": 83,
   "id": "712557cb",
   "metadata": {},
   "outputs": [],
   "source": [
    "availability = []\n",
    "for i in product_urls:\n",
    "    driver.get(i)\n",
    "    time.sleep(4)\n",
    "    try:\n",
    "        avail = driver.find_element(By.XPATH,'/html/body/div[2]/div/div[5]/div[3]/div[1]/div[3]/div/div[1]/div/div/div/form/div/div/div/div/div[4]/div/div[5]/div/div[1]/span')\n",
    "        availability.append(avail.text)\n",
    "    except NoSuchElementException:\n",
    "        availability.append('--')"
   ]
  },
  {
   "cell_type": "code",
   "execution_count": 54,
   "id": "c8066c67",
   "metadata": {},
   "outputs": [],
   "source": [
    "import pandas as pd"
   ]
  },
  {
   "cell_type": "code",
   "execution_count": 89,
   "id": "3ae72505",
   "metadata": {},
   "outputs": [
    {
     "data": {
      "text/plain": [
       "(87, 87, 87, 87, 87, 87, 87)"
      ]
     },
     "execution_count": 89,
     "metadata": {},
     "output_type": "execute_result"
    }
   ],
   "source": [
    "len(availability),len(exp_delivery),len(ReturnorExchange),len(product_name),len(prices),len(brand_name),len(product_urls)"
   ]
  },
  {
   "cell_type": "code",
   "execution_count": 93,
   "id": "312d3aef",
   "metadata": {},
   "outputs": [],
   "source": [
    "amazon_serch_df= pd.DataFrame({'brand_name':brand_name,'product_name':product_name,'prices':prices,'availability':availability,'exp_delivery':exp_delivery,'ReturnorExchange':ReturnorExchange,'product_urls':product_urls})"
   ]
  },
  {
   "cell_type": "code",
   "execution_count": 95,
   "id": "98e071eb",
   "metadata": {},
   "outputs": [],
   "source": [
    "amazon_serch_df.to_csv(\"AMZ_fan_detail.csv\")"
   ]
  },
  {
   "cell_type": "code",
   "execution_count": 96,
   "id": "77bf873e",
   "metadata": {},
   "outputs": [],
   "source": [
    "driver.close()"
   ]
  },
  {
   "cell_type": "code",
   "execution_count": 94,
   "id": "ac63c3bf",
   "metadata": {},
   "outputs": [
    {
     "data": {
      "text/html": [
       "<div>\n",
       "<style scoped>\n",
       "    .dataframe tbody tr th:only-of-type {\n",
       "        vertical-align: middle;\n",
       "    }\n",
       "\n",
       "    .dataframe tbody tr th {\n",
       "        vertical-align: top;\n",
       "    }\n",
       "\n",
       "    .dataframe thead th {\n",
       "        text-align: right;\n",
       "    }\n",
       "</style>\n",
       "<table border=\"1\" class=\"dataframe\">\n",
       "  <thead>\n",
       "    <tr style=\"text-align: right;\">\n",
       "      <th></th>\n",
       "      <th>brand_name</th>\n",
       "      <th>product_name</th>\n",
       "      <th>prices</th>\n",
       "      <th>availability</th>\n",
       "      <th>exp_delivery</th>\n",
       "      <th>ReturnorExchange</th>\n",
       "      <th>product_urls</th>\n",
       "    </tr>\n",
       "  </thead>\n",
       "  <tbody>\n",
       "    <tr>\n",
       "      <th>0</th>\n",
       "      <td>Bajaj</td>\n",
       "      <td>Bajaj Frore 1200 mm (48\") Star Rated Ceiling F...</td>\n",
       "      <td>1,399</td>\n",
       "      <td>In stock</td>\n",
       "      <td>Monday, 2 October</td>\n",
       "      <td>10 days Replacement</td>\n",
       "      <td>https://www.amazon.in/sspa/click?ie=UTF8&amp;spc=M...</td>\n",
       "    </tr>\n",
       "    <tr>\n",
       "      <th>1</th>\n",
       "      <td>Crompton</td>\n",
       "      <td>Crompton Energion Hyperjet 1200mm BLDC Ceiling...</td>\n",
       "      <td>2,650</td>\n",
       "      <td>In stock</td>\n",
       "      <td>Monday, 2 October</td>\n",
       "      <td>10 days Replacement</td>\n",
       "      <td>https://www.amazon.in/sspa/click?ie=UTF8&amp;spc=M...</td>\n",
       "    </tr>\n",
       "    <tr>\n",
       "      <th>2</th>\n",
       "      <td>atomberg</td>\n",
       "      <td>atomberg Renesa 1200mm BLDC Motor 5 Star Rated...</td>\n",
       "      <td>3,680</td>\n",
       "      <td>In stock</td>\n",
       "      <td>Monday, 2 October</td>\n",
       "      <td>10 days Replacement</td>\n",
       "      <td>https://www.amazon.in/Gorilla-Renesa-Energy-Ce...</td>\n",
       "    </tr>\n",
       "    <tr>\n",
       "      <th>3</th>\n",
       "      <td>Crompton</td>\n",
       "      <td>Crompton SUREBREEZE SEA SAPPHIRA 1200 mm (48 i...</td>\n",
       "      <td>1,399</td>\n",
       "      <td>In stock</td>\n",
       "      <td>Monday, 2 October</td>\n",
       "      <td>10 days Replacement</td>\n",
       "      <td>https://www.amazon.in/CROMPTON-SUREBREEZE-Sapp...</td>\n",
       "    </tr>\n",
       "    <tr>\n",
       "      <th>4</th>\n",
       "      <td>Havells</td>\n",
       "      <td>Havells 1200mm Ambrose Energy Saving Ceiling F...</td>\n",
       "      <td>2,199</td>\n",
       "      <td>In stock</td>\n",
       "      <td>Monday, 2 October</td>\n",
       "      <td>10 days Replacement</td>\n",
       "      <td>https://www.amazon.in/Havells-1200mm-Ambrose-E...</td>\n",
       "    </tr>\n",
       "    <tr>\n",
       "      <th>...</th>\n",
       "      <td>...</td>\n",
       "      <td>...</td>\n",
       "      <td>...</td>\n",
       "      <td>...</td>\n",
       "      <td>...</td>\n",
       "      <td>...</td>\n",
       "      <td>...</td>\n",
       "    </tr>\n",
       "    <tr>\n",
       "      <th>82</th>\n",
       "      <td>Polycab</td>\n",
       "      <td>Polycab Aereo plus 1200 mm High Speed 1 Star R...</td>\n",
       "      <td>2,499</td>\n",
       "      <td>In stock</td>\n",
       "      <td>Wednesday, 4 October</td>\n",
       "      <td>10 days Replacement</td>\n",
       "      <td>https://www.amazon.in/Polycab-Aereo-Rust-Proof...</td>\n",
       "    </tr>\n",
       "    <tr>\n",
       "      <th>83</th>\n",
       "      <td>Crompton</td>\n",
       "      <td>Crompton Silent Pro Enso 1225 mm (48 inch) Act...</td>\n",
       "      <td>--</td>\n",
       "      <td>--</td>\n",
       "      <td>--</td>\n",
       "      <td>10 days Replacement</td>\n",
       "      <td>https://www.amazon.in/Crompton-Silent-Activ-Ce...</td>\n",
       "    </tr>\n",
       "    <tr>\n",
       "      <th>84</th>\n",
       "      <td>Bajaj</td>\n",
       "      <td>Bajaj Maxima 600 mm Ceiling Fan (Brown)</td>\n",
       "      <td>1,499</td>\n",
       "      <td>In stock</td>\n",
       "      <td>Monday, 2 October</td>\n",
       "      <td>10 days Replacement</td>\n",
       "      <td>https://www.amazon.in/sspa/click?ie=UTF8&amp;spc=M...</td>\n",
       "    </tr>\n",
       "    <tr>\n",
       "      <th>85</th>\n",
       "      <td>NNEX</td>\n",
       "      <td>NNEX Nex Glyde A40 1200Mm Ceiling Fan For Home...</td>\n",
       "      <td>3,599</td>\n",
       "      <td>In stock</td>\n",
       "      <td>Monday, 2 October</td>\n",
       "      <td>10 days Replacement</td>\n",
       "      <td>https://www.amazon.in/sspa/click?ie=UTF8&amp;spc=M...</td>\n",
       "    </tr>\n",
       "    <tr>\n",
       "      <th>86</th>\n",
       "      <td>Candes</td>\n",
       "      <td>Candes Florence 1200mm/48 inch High Speed Anti...</td>\n",
       "      <td>1,529</td>\n",
       "      <td>In stock</td>\n",
       "      <td>Wednesday, 4 October</td>\n",
       "      <td>10 days Replacement</td>\n",
       "      <td>https://aax-eu.amazon.in/x/c/ROkAGWf09hO7UaRnT...</td>\n",
       "    </tr>\n",
       "  </tbody>\n",
       "</table>\n",
       "<p>87 rows × 7 columns</p>\n",
       "</div>"
      ],
      "text/plain": [
       "   brand_name                                       product_name prices  \\\n",
       "0       Bajaj  Bajaj Frore 1200 mm (48\") Star Rated Ceiling F...  1,399   \n",
       "1    Crompton  Crompton Energion Hyperjet 1200mm BLDC Ceiling...  2,650   \n",
       "2    atomberg  atomberg Renesa 1200mm BLDC Motor 5 Star Rated...  3,680   \n",
       "3    Crompton  Crompton SUREBREEZE SEA SAPPHIRA 1200 mm (48 i...  1,399   \n",
       "4     Havells  Havells 1200mm Ambrose Energy Saving Ceiling F...  2,199   \n",
       "..        ...                                                ...    ...   \n",
       "82    Polycab  Polycab Aereo plus 1200 mm High Speed 1 Star R...  2,499   \n",
       "83   Crompton  Crompton Silent Pro Enso 1225 mm (48 inch) Act...     --   \n",
       "84      Bajaj            Bajaj Maxima 600 mm Ceiling Fan (Brown)  1,499   \n",
       "85       NNEX  NNEX Nex Glyde A40 1200Mm Ceiling Fan For Home...  3,599   \n",
       "86     Candes  Candes Florence 1200mm/48 inch High Speed Anti...  1,529   \n",
       "\n",
       "   availability          exp_delivery     ReturnorExchange  \\\n",
       "0      In stock     Monday, 2 October  10 days Replacement   \n",
       "1      In stock     Monday, 2 October  10 days Replacement   \n",
       "2      In stock     Monday, 2 October  10 days Replacement   \n",
       "3      In stock     Monday, 2 October  10 days Replacement   \n",
       "4      In stock     Monday, 2 October  10 days Replacement   \n",
       "..          ...                   ...                  ...   \n",
       "82     In stock  Wednesday, 4 October  10 days Replacement   \n",
       "83           --                    --  10 days Replacement   \n",
       "84     In stock     Monday, 2 October  10 days Replacement   \n",
       "85     In stock     Monday, 2 October  10 days Replacement   \n",
       "86     In stock  Wednesday, 4 October  10 days Replacement   \n",
       "\n",
       "                                         product_urls  \n",
       "0   https://www.amazon.in/sspa/click?ie=UTF8&spc=M...  \n",
       "1   https://www.amazon.in/sspa/click?ie=UTF8&spc=M...  \n",
       "2   https://www.amazon.in/Gorilla-Renesa-Energy-Ce...  \n",
       "3   https://www.amazon.in/CROMPTON-SUREBREEZE-Sapp...  \n",
       "4   https://www.amazon.in/Havells-1200mm-Ambrose-E...  \n",
       "..                                                ...  \n",
       "82  https://www.amazon.in/Polycab-Aereo-Rust-Proof...  \n",
       "83  https://www.amazon.in/Crompton-Silent-Activ-Ce...  \n",
       "84  https://www.amazon.in/sspa/click?ie=UTF8&spc=M...  \n",
       "85  https://www.amazon.in/sspa/click?ie=UTF8&spc=M...  \n",
       "86  https://aax-eu.amazon.in/x/c/ROkAGWf09hO7UaRnT...  \n",
       "\n",
       "[87 rows x 7 columns]"
      ]
     },
     "execution_count": 94,
     "metadata": {},
     "output_type": "execute_result"
    }
   ],
   "source": [
    "amazon_serch_df"
   ]
  },
  {
   "cell_type": "code",
   "execution_count": null,
   "id": "abdc9c2f",
   "metadata": {},
   "outputs": [],
   "source": []
  },
  {
   "cell_type": "markdown",
   "id": "cb73db18",
   "metadata": {},
   "source": [
    "#### 3. Write a python program to access the search bar and search button on images.google.com and scrape 10 \n",
    "#### images each for keywords ‘fruits’, ‘cars’ and ‘Machine Learning’, ‘Guitar’, ‘Cakes’. "
   ]
  },
  {
   "cell_type": "code",
   "execution_count": 270,
   "id": "50242556",
   "metadata": {},
   "outputs": [],
   "source": [
    "driver=webdriver.Edge()"
   ]
  },
  {
   "cell_type": "code",
   "execution_count": 271,
   "id": "3eb7e675",
   "metadata": {},
   "outputs": [],
   "source": [
    "driver.get('https://images.google.com/')"
   ]
  },
  {
   "cell_type": "code",
   "execution_count": 273,
   "id": "c1a21fd9",
   "metadata": {},
   "outputs": [],
   "source": [
    "e_serch = driver.find_element(By.XPATH,'/html/body/div[1]/div[3]/form/div[1]/div[1]/div[1]/div/div[2]/textarea')\n",
    "e_serch.send_keys('fruits')"
   ]
  },
  {
   "cell_type": "code",
   "execution_count": 274,
   "id": "f353871c",
   "metadata": {},
   "outputs": [],
   "source": [
    "enter=driver.find_element(By.XPATH,'/html/body/div[1]/div[3]/form/div[1]/div[1]/div[1]/button/div/span')\n",
    "enter.click()"
   ]
  },
  {
   "cell_type": "code",
   "execution_count": 275,
   "id": "8a12f773",
   "metadata": {},
   "outputs": [],
   "source": [
    "imej = driver.find_elements (By.XPATH,'//img[@class=\"rg_i Q4LuWd\"]')"
   ]
  },
  {
   "cell_type": "code",
   "execution_count": 276,
   "id": "441b6e0e",
   "metadata": {},
   "outputs": [],
   "source": [
    "fruits_img=[]    "
   ]
  },
  {
   "cell_type": "code",
   "execution_count": 277,
   "id": "96bc8988",
   "metadata": {},
   "outputs": [],
   "source": [
    "for i in imej[0:10]:\n",
    "    fruits_img.append(i.get_attribute('src'))\n"
   ]
  },
  {
   "cell_type": "code",
   "execution_count": null,
   "id": "8be84ac5",
   "metadata": {},
   "outputs": [],
   "source": [
    "len(fruits_img)"
   ]
  },
  {
   "cell_type": "code",
   "execution_count": 200,
   "id": "5d26806d",
   "metadata": {},
   "outputs": [],
   "source": [
    "car_serch=driver.find_element(By.XPATH,'/html/body/c-wiz/c-wiz/div/div[3]/div[2]/div/div[1]/form/div[1]/div[2]/div/div[2]/input')\n",
    "car_serch.send_keys('car')"
   ]
  },
  {
   "cell_type": "code",
   "execution_count": 205,
   "id": "e9ff3a5e",
   "metadata": {},
   "outputs": [],
   "source": [
    "ar_serch=driver.find_element(By.XPATH,'/html/body/c-wiz/c-wiz/div/div[3]/div[2]/div/div[1]/form/div[1]/div[2]/div/div[2]/input')\n",
    "ar_serch.send_keys(Keys.ENTER)"
   ]
  },
  {
   "cell_type": "code",
   "execution_count": 206,
   "id": "73c89b57",
   "metadata": {},
   "outputs": [],
   "source": [
    "cars=[]"
   ]
  },
  {
   "cell_type": "code",
   "execution_count": 207,
   "id": "ae2044f5",
   "metadata": {},
   "outputs": [],
   "source": [
    "car_link=driver.find_elements(By.XPATH,'//img[@data-deferred=\"1\"]')"
   ]
  },
  {
   "cell_type": "code",
   "execution_count": 208,
   "id": "798fa71a",
   "metadata": {},
   "outputs": [],
   "source": [
    "for i in car_link[0:10]:\n",
    "    cars.append(i.get_attribute('src'))"
   ]
  },
  {
   "cell_type": "code",
   "execution_count": 210,
   "id": "5d778374",
   "metadata": {},
   "outputs": [
    {
     "data": {
      "text/plain": [
       "10"
      ]
     },
     "execution_count": 210,
     "metadata": {},
     "output_type": "execute_result"
    }
   ],
   "source": [
    "len(cars)"
   ]
  },
  {
   "cell_type": "code",
   "execution_count": 241,
   "id": "a0af09db",
   "metadata": {},
   "outputs": [],
   "source": [
    "Machine_Learning=[]"
   ]
  },
  {
   "cell_type": "code",
   "execution_count": 228,
   "id": "a48ec80f",
   "metadata": {},
   "outputs": [],
   "source": [
    "ml_serch=driver.find_element(By.XPATH,'/html/body/c-wiz/c-wiz/div/div[3]/div[2]/div/div[1]/form/div[1]/div[2]/div/div[2]/input')\n",
    "ml_serch.send_keys('Machine Learning')"
   ]
  },
  {
   "cell_type": "code",
   "execution_count": 229,
   "id": "bbe1f403",
   "metadata": {},
   "outputs": [],
   "source": [
    "ar_serch=driver.find_element(By.XPATH,'/html/body/c-wiz/c-wiz/div/div[3]/div[2]/div/div[1]/form/div[1]/div[2]/div/div[2]/input')\n",
    "ar_serch.send_keys(Keys.ENTER)"
   ]
  },
  {
   "cell_type": "code",
   "execution_count": null,
   "id": "26d6f3c2",
   "metadata": {},
   "outputs": [],
   "source": []
  },
  {
   "cell_type": "code",
   "execution_count": 242,
   "id": "1b481744",
   "metadata": {},
   "outputs": [],
   "source": [
    "ml=driver.find_elements(By.XPATH,'//img[@class=\"rg_i Q4LuWd\"]')"
   ]
  },
  {
   "cell_type": "code",
   "execution_count": 243,
   "id": "d701fb1e",
   "metadata": {},
   "outputs": [],
   "source": [
    "for i in ml[0:10]:\n",
    "    Machine_Learning.append(i.get_attribute('src'))"
   ]
  },
  {
   "cell_type": "code",
   "execution_count": 246,
   "id": "d1b8c2a5",
   "metadata": {},
   "outputs": [
    {
     "data": {
      "text/plain": [
       "10"
      ]
     },
     "execution_count": 246,
     "metadata": {},
     "output_type": "execute_result"
    }
   ],
   "source": [
    "len(Machine_Learning)"
   ]
  },
  {
   "cell_type": "code",
   "execution_count": null,
   "id": "efaecda5",
   "metadata": {},
   "outputs": [],
   "source": []
  },
  {
   "cell_type": "code",
   "execution_count": 247,
   "id": "0aa577a6",
   "metadata": {},
   "outputs": [],
   "source": [
    "giutar_serch=driver.find_element(By.XPATH,'/html/body/c-wiz/c-wiz/div/div[3]/div[2]/div/div[1]/form/div[1]/div[2]/div/div[2]/input')\n",
    "giutar_serch.send_keys('giutar')"
   ]
  },
  {
   "cell_type": "code",
   "execution_count": 248,
   "id": "79eba985",
   "metadata": {},
   "outputs": [],
   "source": [
    "ar_serch=driver.find_element(By.XPATH,'/html/body/c-wiz/c-wiz/div/div[3]/div[2]/div/div[1]/form/div[1]/div[2]/div/div[2]/input')\n",
    "ar_serch.send_keys(Keys.ENTER)"
   ]
  },
  {
   "cell_type": "code",
   "execution_count": 249,
   "id": "910a4b6b",
   "metadata": {},
   "outputs": [],
   "source": [
    "giutar=[]"
   ]
  },
  {
   "cell_type": "code",
   "execution_count": 254,
   "id": "c91dd22f",
   "metadata": {},
   "outputs": [],
   "source": [
    "Gitar=driver.find_elements(By.XPATH,'//img[@class=\"rg_i Q4LuWd\"]')"
   ]
  },
  {
   "cell_type": "code",
   "execution_count": 255,
   "id": "021286de",
   "metadata": {},
   "outputs": [],
   "source": [
    "for i in Gitar[0:10]:\n",
    "    giutar.append(i.get_attribute('src'))"
   ]
  },
  {
   "cell_type": "code",
   "execution_count": 258,
   "id": "3f3020bf",
   "metadata": {},
   "outputs": [
    {
     "data": {
      "text/plain": [
       "10"
      ]
     },
     "execution_count": 258,
     "metadata": {},
     "output_type": "execute_result"
    }
   ],
   "source": [
    "len(giutar)"
   ]
  },
  {
   "cell_type": "code",
   "execution_count": null,
   "id": "03ff3ebd",
   "metadata": {},
   "outputs": [],
   "source": []
  },
  {
   "cell_type": "code",
   "execution_count": 259,
   "id": "067d841f",
   "metadata": {},
   "outputs": [],
   "source": [
    "ckake_serch=driver.find_element(By.XPATH,'/html/body/c-wiz/c-wiz/div/div[3]/div[2]/div/div[1]/form/div[1]/div[2]/div/div[2]/input')\n",
    "ckake_serch.send_keys('cakes')"
   ]
  },
  {
   "cell_type": "code",
   "execution_count": 260,
   "id": "8194f282",
   "metadata": {},
   "outputs": [],
   "source": [
    "ar_serch=driver.find_element(By.XPATH,'/html/body/c-wiz/c-wiz/div/div[3]/div[2]/div/div[1]/form/div[1]/div[2]/div/div[2]/input')\n",
    "ar_serch.send_keys(Keys.ENTER)"
   ]
  },
  {
   "cell_type": "code",
   "execution_count": 261,
   "id": "c4b3a553",
   "metadata": {},
   "outputs": [],
   "source": [
    "cakes=[]"
   ]
  },
  {
   "cell_type": "code",
   "execution_count": 265,
   "id": "58e03a3f",
   "metadata": {},
   "outputs": [],
   "source": [
    "c_kes=driver.find_elements(By.XPATH,'//img[@class=\"rg_i Q4LuWd\"]')"
   ]
  },
  {
   "cell_type": "code",
   "execution_count": 266,
   "id": "6345b3c0",
   "metadata": {},
   "outputs": [],
   "source": [
    "for i in c_kes[0:10]:\n",
    "    cakes.append(i.get_attribute('src'))"
   ]
  },
  {
   "cell_type": "code",
   "execution_count": 268,
   "id": "ee86ea2b",
   "metadata": {},
   "outputs": [
    {
     "data": {
      "text/plain": [
       "10"
      ]
     },
     "execution_count": 268,
     "metadata": {},
     "output_type": "execute_result"
    }
   ],
   "source": [
    "len(cakes)"
   ]
  },
  {
   "cell_type": "code",
   "execution_count": null,
   "id": "6c5fcf73",
   "metadata": {},
   "outputs": [],
   "source": []
  },
  {
   "cell_type": "code",
   "execution_count": null,
   "id": "c56992cd",
   "metadata": {},
   "outputs": [],
   "source": []
  },
  {
   "cell_type": "markdown",
   "id": "df9acdea",
   "metadata": {},
   "source": [
    "#### 4. Write a python program to search for a smartphone(e.g.: Oneplus Nord, pixel 4A, etc.) on www.flipkart.com\n",
    "#### and scrape following details for all the search results displayed on 1st page. Details to be scraped: “Brand \n",
    "#### Name”, “Smartphone name”, “Colour”, “RAM”, “Storage(ROM)”, “Primary Camera”, \n",
    "#### “Secondary Camera”, “Display Size”, “Battery Capacity”, “Price”, “Product URL”. Incase if any of the \n",
    "#### details is missing then replace it by “- “. Save your results in a dataframe and CSV."
   ]
  },
  {
   "cell_type": "code",
   "execution_count": 9,
   "id": "1eff1c1c",
   "metadata": {},
   "outputs": [],
   "source": [
    "driver=webdriver.Edge()"
   ]
  },
  {
   "cell_type": "code",
   "execution_count": 10,
   "id": "2c95bc1a",
   "metadata": {},
   "outputs": [],
   "source": [
    "driver.get('https://www.flipkart.com/')"
   ]
  },
  {
   "cell_type": "code",
   "execution_count": 11,
   "id": "d1d606b4",
   "metadata": {},
   "outputs": [],
   "source": [
    "serch_bar=driver.find_element(By.XPATH,'/html/body/div[1]/div/div[1]/div/div/div/div/div[1]/div/div[1]/div/div[1]/header/div[1]/div[2]/form/div/div/input')\n",
    "serch_bar.send_keys('Oneplus Nord')"
   ]
  },
  {
   "cell_type": "code",
   "execution_count": 12,
   "id": "b59af02d",
   "metadata": {},
   "outputs": [],
   "source": [
    "s_click=driver.find_element(By.XPATH,'/html/body/div[1]/div/div[1]/div/div/div/div/div[1]/div/div[1]/div/div[1]/header/div[1]/div[2]/form/div/button')\n",
    "s_click.click()"
   ]
  },
  {
   "cell_type": "code",
   "execution_count": null,
   "id": "d2b51b30",
   "metadata": {},
   "outputs": [],
   "source": []
  },
  {
   "cell_type": "code",
   "execution_count": 15,
   "id": "d8cd5407",
   "metadata": {},
   "outputs": [],
   "source": [
    "fone_url=[]"
   ]
  },
  {
   "cell_type": "code",
   "execution_count": 16,
   "id": "38b71574",
   "metadata": {},
   "outputs": [],
   "source": [
    "url_f = driver.find_elements(By.XPATH,'//a[@class=\"_1fQZEK\"]')"
   ]
  },
  {
   "cell_type": "code",
   "execution_count": 17,
   "id": "38673454",
   "metadata": {},
   "outputs": [],
   "source": [
    "for i in url_f:\n",
    "    fone_url.append(i.get_attribute('href'))"
   ]
  },
  {
   "cell_type": "code",
   "execution_count": null,
   "id": "0e9b4986",
   "metadata": {},
   "outputs": [],
   "source": []
  },
  {
   "cell_type": "code",
   "execution_count": 20,
   "id": "069c68d6",
   "metadata": {},
   "outputs": [],
   "source": [
    "fonename=[]\n",
    "for i in fone_url:\n",
    "    driver.get(i)\n",
    "    time.sleep(4)\n",
    "    try:\n",
    "        fn = driver.find_element(By.XPATH,'/html/body/div[1]/div/div[3]/div[1]/div[2]/div[2]/div/div[1]/h1/span')\n",
    "        fonename.append(fn.text)\n",
    "    except NoSuchElementException:\n",
    "        fonename.append('--')\n",
    "    "
   ]
  },
  {
   "cell_type": "code",
   "execution_count": null,
   "id": "b1dee101",
   "metadata": {},
   "outputs": [],
   "source": []
  },
  {
   "cell_type": "code",
   "execution_count": 23,
   "id": "d5f7fe12",
   "metadata": {},
   "outputs": [],
   "source": [
    "color=[]\n",
    "for i in fone_url:\n",
    "    driver.get(i)\n",
    "    time.sleep(4)\n",
    "    try:\n",
    "        cl=driver.find_element(By.XPATH,'/html/body/div[1]/div/div[3]/div[1]/div[2]/div[8]/div[4]/div/div[2]/div/div[1]/table/tbody/tr[4]/td[2]/ul/li')\n",
    "        color.append(cl.text)\n",
    "    except NoSuchElementException:\n",
    "        color.append('--')"
   ]
  },
  {
   "cell_type": "code",
   "execution_count": null,
   "id": "fc4f21eb",
   "metadata": {},
   "outputs": [],
   "source": []
  },
  {
   "cell_type": "code",
   "execution_count": 26,
   "id": "d01b61ee",
   "metadata": {},
   "outputs": [],
   "source": [
    "Ram_Rom=[]\n",
    "for i in fone_url:\n",
    "    driver.get(i)\n",
    "    time.sleep(4)\n",
    "    try:\n",
    "        rr=driver.find_element(By.XPATH,'/html/body/div[1]/div/div[3]/div[1]/div[2]/div[7]/div[1]/div/div[2]/ul/li[1]')\n",
    "        Ram_Rom.append(rr.text)\n",
    "    except NoSuchElementException:\n",
    "        Ram_Rom.append('--')"
   ]
  },
  {
   "cell_type": "code",
   "execution_count": null,
   "id": "fa849c06",
   "metadata": {},
   "outputs": [],
   "source": []
  },
  {
   "cell_type": "code",
   "execution_count": 32,
   "id": "d5a7bbb0",
   "metadata": {},
   "outputs": [],
   "source": [
    "cammra=[]\n",
    "for i in fone_url:\n",
    "    driver.get(i)\n",
    "    time.sleep(4)\n",
    "    try:\n",
    "        cam=driver.find_element(By.XPATH,'/html/body/div[1]/div/div[3]/div[1]/div[2]/div[7]/div[1]/div/div[2]/ul/li[3]')\n",
    "        cammra.append(cam.text)\n",
    "    except NoSuchElementException:\n",
    "        cammra.append('--')"
   ]
  },
  {
   "cell_type": "code",
   "execution_count": null,
   "id": "e7a1d1b5",
   "metadata": {},
   "outputs": [],
   "source": []
  },
  {
   "cell_type": "code",
   "execution_count": 35,
   "id": "264ccd75",
   "metadata": {},
   "outputs": [],
   "source": [
    "displysize=[]\n",
    "for i in fone_url:\n",
    "    driver.get(i)\n",
    "    time.sleep(4)\n",
    "    try:\n",
    "        dis=driver.find_element(By.XPATH,'/html/body/div[1]/div/div[3]/div[1]/div[2]/div[7]/div[1]/div/div[2]/ul/li[2]')\n",
    "        displysize.append(dis.text)\n",
    "    except NoSuchElementException:\n",
    "        displysize.append('--')"
   ]
  },
  {
   "cell_type": "code",
   "execution_count": 38,
   "id": "a730594d",
   "metadata": {},
   "outputs": [],
   "source": [
    "bettry=[]\n",
    "for i in fone_url:\n",
    "    driver.get(i)\n",
    "    time.sleep(4)\n",
    "    try:\n",
    "        amh=driver.find_element(By.XPATH,'/html/body/div[1]/div/div[3]/div[1]/div[2]/div[7]/div[1]/div/div[2]/ul/li[4]')\n",
    "        bettry.append(amh.text)\n",
    "    except NoSuchElementException:\n",
    "        bettry.append('--')"
   ]
  },
  {
   "cell_type": "code",
   "execution_count": 39,
   "id": "0357ce51",
   "metadata": {},
   "outputs": [],
   "source": [
    "priceofmobail=[]\n",
    "for i in fone_url:\n",
    "    driver.get(i)\n",
    "    time.sleep(4)\n",
    "    try:\n",
    "        amt=driver.find_element(By.XPATH,'/html/body/div[1]/div/div[3]/div[1]/div[2]/div[2]/div/div[3]/div[1]/div/div[1]')\n",
    "        priceofmobail.append(amt.text)\n",
    "    except NoSuchElementException:\n",
    "        priceofmobail.append('--')"
   ]
  },
  {
   "cell_type": "code",
   "execution_count": 43,
   "id": "7692160a",
   "metadata": {},
   "outputs": [
    {
     "data": {
      "text/plain": [
       "(24, 24, 24, 24, 24, 24, 24, 24)"
      ]
     },
     "execution_count": 43,
     "metadata": {},
     "output_type": "execute_result"
    }
   ],
   "source": [
    "len(fone_url),len(fonename),len(color),len(Ram_Rom),len(cammra),len(displysize),len(bettry),len(priceofmobail)"
   ]
  },
  {
   "cell_type": "code",
   "execution_count": 65,
   "id": "0aed4df9",
   "metadata": {},
   "outputs": [],
   "source": [
    "nord_fone= pd.DataFrame({'fonename':fonename,'priceofmobail':priceofmobail,'bettry':bettry,'displysize':displysize,'cammra':cammra,'Ram_Rom':Ram_Rom,'color':color,'fone_url':fone_url})"
   ]
  },
  {
   "cell_type": "code",
   "execution_count": 67,
   "id": "aa83a63f",
   "metadata": {},
   "outputs": [],
   "source": [
    "nord_fone.to_csv(\"flipkart_serch_result.csv\")"
   ]
  },
  {
   "cell_type": "code",
   "execution_count": 68,
   "id": "8de34aa5",
   "metadata": {},
   "outputs": [
    {
     "data": {
      "text/html": [
       "<div>\n",
       "<style scoped>\n",
       "    .dataframe tbody tr th:only-of-type {\n",
       "        vertical-align: middle;\n",
       "    }\n",
       "\n",
       "    .dataframe tbody tr th {\n",
       "        vertical-align: top;\n",
       "    }\n",
       "\n",
       "    .dataframe thead th {\n",
       "        text-align: right;\n",
       "    }\n",
       "</style>\n",
       "<table border=\"1\" class=\"dataframe\">\n",
       "  <thead>\n",
       "    <tr style=\"text-align: right;\">\n",
       "      <th></th>\n",
       "      <th>fonename</th>\n",
       "      <th>priceofmobail</th>\n",
       "      <th>bettry</th>\n",
       "      <th>displysize</th>\n",
       "      <th>cammra</th>\n",
       "      <th>Ram_Rom</th>\n",
       "      <th>color</th>\n",
       "      <th>fone_url</th>\n",
       "    </tr>\n",
       "  </thead>\n",
       "  <tbody>\n",
       "    <tr>\n",
       "      <th>0</th>\n",
       "      <td>OnePlus Nord CE 2 Lite 5G (Blue Tide, 128 GB) ...</td>\n",
       "      <td>--</td>\n",
       "      <td>5000 mAh Battery</td>\n",
       "      <td>16.74 cm (6.59 inch) Display</td>\n",
       "      <td>64MP Rear Camera | 16MP Front Camera</td>\n",
       "      <td>6 GB RAM | 128 GB ROM</td>\n",
       "      <td>Blue Tide</td>\n",
       "      <td>https://www.flipkart.com/oneplus-nord-ce-2-lit...</td>\n",
       "    </tr>\n",
       "    <tr>\n",
       "      <th>1</th>\n",
       "      <td>OnePlus Nord CE 3 Lite 5G (Chromatic Gray, 256...</td>\n",
       "      <td>₹21,999</td>\n",
       "      <td>5000 mAh Battery</td>\n",
       "      <td>17.07 cm (6.72 inch) Display</td>\n",
       "      <td>108MP Rear Camera</td>\n",
       "      <td>8 GB RAM | 256 GB ROM</td>\n",
       "      <td>Chromatic Gray</td>\n",
       "      <td>https://www.flipkart.com/oneplus-nord-ce-3-lit...</td>\n",
       "    </tr>\n",
       "    <tr>\n",
       "      <th>2</th>\n",
       "      <td>OnePlus Nord CE 3 Lite 5G (Pastel Lime, 256 GB...</td>\n",
       "      <td>₹21,998</td>\n",
       "      <td>--</td>\n",
       "      <td>17.07 cm (6.72 inch) Display</td>\n",
       "      <td>108MP Rear Camera</td>\n",
       "      <td>8 GB RAM | 256 GB ROM</td>\n",
       "      <td>Pastel Lime</td>\n",
       "      <td>https://www.flipkart.com/oneplus-nord-ce-3-lit...</td>\n",
       "    </tr>\n",
       "    <tr>\n",
       "      <th>3</th>\n",
       "      <td>OnePlus Nord CE 2 Lite 5G (Black Dusk, 128 GB)...</td>\n",
       "      <td>--</td>\n",
       "      <td>5000 mAh Battery</td>\n",
       "      <td>16.74 cm (6.59 inch) Display</td>\n",
       "      <td>64MP Rear Camera | 16MP Front Camera</td>\n",
       "      <td>6 GB RAM | 128 GB ROM</td>\n",
       "      <td>--</td>\n",
       "      <td>https://www.flipkart.com/oneplus-nord-ce-2-lit...</td>\n",
       "    </tr>\n",
       "    <tr>\n",
       "      <th>4</th>\n",
       "      <td>OnePlus Nord CE3 5G (Grey Shimmer, 128 GB)  (8...</td>\n",
       "      <td>--</td>\n",
       "      <td>5000 mAh Battery</td>\n",
       "      <td>17.02 cm (6.7 inch) Display</td>\n",
       "      <td>50MP Rear Camera</td>\n",
       "      <td>8 GB RAM | 128 GB ROM</td>\n",
       "      <td>Grey Shimmer</td>\n",
       "      <td>https://www.flipkart.com/oneplus-nord-ce3-5g-g...</td>\n",
       "    </tr>\n",
       "    <tr>\n",
       "      <th>5</th>\n",
       "      <td>OnePlus Nord CE3 5G (Aqua Surge, 128 GB)  (8 G...</td>\n",
       "      <td>--</td>\n",
       "      <td>5000 mAh Battery</td>\n",
       "      <td>17.02 cm (6.7 inch) Display</td>\n",
       "      <td>50MP Rear Camera</td>\n",
       "      <td>8 GB RAM | 128 GB ROM</td>\n",
       "      <td>Aqua Surge</td>\n",
       "      <td>https://www.flipkart.com/oneplus-nord-ce3-5g-a...</td>\n",
       "    </tr>\n",
       "    <tr>\n",
       "      <th>6</th>\n",
       "      <td>OnePlus Nord CE3 5G (Grey Shimmer, 256 GB)  (1...</td>\n",
       "      <td>₹28,749</td>\n",
       "      <td>5000 mAh Battery</td>\n",
       "      <td>17.02 cm (6.7 inch) Display</td>\n",
       "      <td>50MP Rear Camera</td>\n",
       "      <td>12 GB RAM | 256 GB ROM</td>\n",
       "      <td>Grey Shimmer</td>\n",
       "      <td>https://www.flipkart.com/oneplus-nord-ce3-5g-g...</td>\n",
       "    </tr>\n",
       "    <tr>\n",
       "      <th>7</th>\n",
       "      <td>OnePlus Nord 3 5G (Tempest Gray, 128 GB)  (8 G...</td>\n",
       "      <td>--</td>\n",
       "      <td>5000 mAh Battery</td>\n",
       "      <td>17.12 cm (6.74 inch) Display</td>\n",
       "      <td>50MP Rear Camera</td>\n",
       "      <td>8 GB RAM | 128 GB ROM</td>\n",
       "      <td>Tempest Gray</td>\n",
       "      <td>https://www.flipkart.com/oneplus-nord-3-5g-tem...</td>\n",
       "    </tr>\n",
       "    <tr>\n",
       "      <th>8</th>\n",
       "      <td>OnePlus Nord 3 5G (Misty Green, 256 GB)  (16 G...</td>\n",
       "      <td>--</td>\n",
       "      <td>5000 mAh Battery</td>\n",
       "      <td>17.12 cm (6.74 inch) Display</td>\n",
       "      <td>50MP Rear Camera</td>\n",
       "      <td>16 GB RAM | 256 GB ROM</td>\n",
       "      <td>Misty Green</td>\n",
       "      <td>https://www.flipkart.com/oneplus-nord-3-5g-mis...</td>\n",
       "    </tr>\n",
       "    <tr>\n",
       "      <th>9</th>\n",
       "      <td>OnePlus Nord 3 5G (Misty Green, 128 GB)  (8 GB...</td>\n",
       "      <td>--</td>\n",
       "      <td>5000 mAh Battery</td>\n",
       "      <td>17.12 cm (6.74 inch) Display</td>\n",
       "      <td>50MP Rear Camera</td>\n",
       "      <td>8 GB RAM | 128 GB ROM</td>\n",
       "      <td>Misty Green</td>\n",
       "      <td>https://www.flipkart.com/oneplus-nord-3-5g-mis...</td>\n",
       "    </tr>\n",
       "    <tr>\n",
       "      <th>10</th>\n",
       "      <td>OnePlus Nord 2T 5G (Gray Shadow, 128 GB)  (8 G...</td>\n",
       "      <td>₹28,999</td>\n",
       "      <td>--</td>\n",
       "      <td>--</td>\n",
       "      <td>--</td>\n",
       "      <td>--</td>\n",
       "      <td>--</td>\n",
       "      <td>https://www.flipkart.com/oneplus-nord-2t-5g-gr...</td>\n",
       "    </tr>\n",
       "    <tr>\n",
       "      <th>11</th>\n",
       "      <td>OnePlus Nord 3 5G (Tempest Gray, 256 GB)  (16 ...</td>\n",
       "      <td>₹36,999</td>\n",
       "      <td>5000 mAh Battery</td>\n",
       "      <td>17.12 cm (6.74 inch) Display</td>\n",
       "      <td>50MP Rear Camera</td>\n",
       "      <td>16 GB RAM | 256 GB ROM</td>\n",
       "      <td>Tempest Gray</td>\n",
       "      <td>https://www.flipkart.com/oneplus-nord-3-5g-tem...</td>\n",
       "    </tr>\n",
       "    <tr>\n",
       "      <th>12</th>\n",
       "      <td>OnePlus Nord CE3 5G (Aqua Surge, 256 GB)  (12 ...</td>\n",
       "      <td>₹28,969</td>\n",
       "      <td>5000 mAh Battery</td>\n",
       "      <td>17.02 cm (6.7 inch) Display</td>\n",
       "      <td>50MP Rear Camera</td>\n",
       "      <td>12 GB RAM | 256 GB ROM</td>\n",
       "      <td>Aqua Surge</td>\n",
       "      <td>https://www.flipkart.com/oneplus-nord-ce3-5g-a...</td>\n",
       "    </tr>\n",
       "    <tr>\n",
       "      <th>13</th>\n",
       "      <td>OnePlus Nord 2T 5G (Jade Fog, 256 GB)  (12 GB ...</td>\n",
       "      <td>₹33,899</td>\n",
       "      <td>4500 mAh Battery</td>\n",
       "      <td>17.02 cm (6.7 inch) Display</td>\n",
       "      <td>50MP Rear Camera</td>\n",
       "      <td>12 GB RAM | 256 GB ROM</td>\n",
       "      <td>--</td>\n",
       "      <td>https://www.flipkart.com/oneplus-nord-2t-5g-ja...</td>\n",
       "    </tr>\n",
       "    <tr>\n",
       "      <th>14</th>\n",
       "      <td>OnePlus Nord CE 5G (Silver Ray, 256 GB)  (12 G...</td>\n",
       "      <td>₹27,990</td>\n",
       "      <td>4500 mAh Battery</td>\n",
       "      <td>16.33 cm (6.43 inch) Display</td>\n",
       "      <td>64MP Rear Camera | 32MP Front Camera</td>\n",
       "      <td>12 GB RAM | 256 GB ROM</td>\n",
       "      <td>--</td>\n",
       "      <td>https://www.flipkart.com/oneplus-nord-ce-5g-si...</td>\n",
       "    </tr>\n",
       "    <tr>\n",
       "      <th>15</th>\n",
       "      <td>OnePlus Nord CE 2 5G (Gray Mirror, 128 GB)  (8...</td>\n",
       "      <td>₹24,999</td>\n",
       "      <td>--</td>\n",
       "      <td>--</td>\n",
       "      <td>--</td>\n",
       "      <td>--</td>\n",
       "      <td>--</td>\n",
       "      <td>https://www.flipkart.com/oneplus-nord-ce-2-5g-...</td>\n",
       "    </tr>\n",
       "    <tr>\n",
       "      <th>16</th>\n",
       "      <td>OnePlus Nord CE 5G (Charcoal Ink, 128 GB)  (8 ...</td>\n",
       "      <td>₹24,990</td>\n",
       "      <td>4500 mAh Battery</td>\n",
       "      <td>16.33 cm (6.43 inch) Display</td>\n",
       "      <td>--</td>\n",
       "      <td>8 GB RAM | 128 GB ROM</td>\n",
       "      <td>--</td>\n",
       "      <td>https://www.flipkart.com/oneplus-nord-ce-5g-ch...</td>\n",
       "    </tr>\n",
       "    <tr>\n",
       "      <th>17</th>\n",
       "      <td>OnePlus Nord 2 5G (Blue Haze, 128 GB)  (8 GB RAM)</td>\n",
       "      <td>₹30,599</td>\n",
       "      <td>4500 mAh Battery</td>\n",
       "      <td>16.33 cm (6.43 inch) Display</td>\n",
       "      <td>50MP Rear Camera</td>\n",
       "      <td>8 GB RAM | 128 GB ROM</td>\n",
       "      <td>Blue Haze</td>\n",
       "      <td>https://www.flipkart.com/oneplus-nord-2-5g-blu...</td>\n",
       "    </tr>\n",
       "    <tr>\n",
       "      <th>18</th>\n",
       "      <td>OnePlus Nord 2 5G (Gray Sierra, 128 GB)  (8 GB...</td>\n",
       "      <td>₹30,599</td>\n",
       "      <td>4500 mAh Battery</td>\n",
       "      <td>16.33 cm (6.43 inch) Display</td>\n",
       "      <td>50MP Rear Camera</td>\n",
       "      <td>8 GB RAM | 128 GB ROM</td>\n",
       "      <td>Gray Sierra</td>\n",
       "      <td>https://www.flipkart.com/oneplus-nord-2-5g-gra...</td>\n",
       "    </tr>\n",
       "    <tr>\n",
       "      <th>19</th>\n",
       "      <td>OnePlus Nord 2 5G (PAC-MAN, 256 GB)  (12 GB RAM)</td>\n",
       "      <td>₹37,999</td>\n",
       "      <td>4500 mAh Battery</td>\n",
       "      <td>16.33 cm (6.43 inch) Display</td>\n",
       "      <td>50MP Rear Camera</td>\n",
       "      <td>12 GB RAM | 256 GB ROM</td>\n",
       "      <td>PAC-MAN</td>\n",
       "      <td>https://www.flipkart.com/oneplus-nord-2-5g-pac...</td>\n",
       "    </tr>\n",
       "    <tr>\n",
       "      <th>20</th>\n",
       "      <td>OnePlus Nord 2 5G (Blue Haze, 128 GB)  (8 GB RAM)</td>\n",
       "      <td>₹29,990</td>\n",
       "      <td>--</td>\n",
       "      <td>--</td>\n",
       "      <td>--</td>\n",
       "      <td>--</td>\n",
       "      <td>--</td>\n",
       "      <td>https://www.flipkart.com/oneplus-nord-2-5g-blu...</td>\n",
       "    </tr>\n",
       "    <tr>\n",
       "      <th>21</th>\n",
       "      <td>OnePlus Nord 2 5G (Gray Sierra, 256 GB)  (12 G...</td>\n",
       "      <td>₹33,990</td>\n",
       "      <td>--</td>\n",
       "      <td>--</td>\n",
       "      <td>--</td>\n",
       "      <td>--</td>\n",
       "      <td>--</td>\n",
       "      <td>https://www.flipkart.com/oneplus-nord-2-5g-gra...</td>\n",
       "    </tr>\n",
       "    <tr>\n",
       "      <th>22</th>\n",
       "      <td>OnePlus Nord CE 3 Lite 5G (Chromatic Gray, 128...</td>\n",
       "      <td>₹19,989</td>\n",
       "      <td>5000 mAh Battery</td>\n",
       "      <td>17.07 cm (6.72 inch) Display</td>\n",
       "      <td>108MP Rear Camera</td>\n",
       "      <td>8 GB RAM | 128 GB ROM</td>\n",
       "      <td>--</td>\n",
       "      <td>https://www.flipkart.com/oneplus-nord-ce-3-lit...</td>\n",
       "    </tr>\n",
       "    <tr>\n",
       "      <th>23</th>\n",
       "      <td>OnePlus Nord CE 3 Lite 5G (Pastel Lime, 128 GB...</td>\n",
       "      <td>₹18,999</td>\n",
       "      <td>5000 mAh Battery</td>\n",
       "      <td>17.07 cm (6.72 inch) Display</td>\n",
       "      <td>108MP Rear Camera</td>\n",
       "      <td>8 GB RAM | 128 GB ROM</td>\n",
       "      <td>--</td>\n",
       "      <td>https://www.flipkart.com/oneplus-nord-ce-3-lit...</td>\n",
       "    </tr>\n",
       "  </tbody>\n",
       "</table>\n",
       "</div>"
      ],
      "text/plain": [
       "                                             fonename priceofmobail  \\\n",
       "0   OnePlus Nord CE 2 Lite 5G (Blue Tide, 128 GB) ...            --   \n",
       "1   OnePlus Nord CE 3 Lite 5G (Chromatic Gray, 256...       ₹21,999   \n",
       "2   OnePlus Nord CE 3 Lite 5G (Pastel Lime, 256 GB...       ₹21,998   \n",
       "3   OnePlus Nord CE 2 Lite 5G (Black Dusk, 128 GB)...            --   \n",
       "4   OnePlus Nord CE3 5G (Grey Shimmer, 128 GB)  (8...            --   \n",
       "5   OnePlus Nord CE3 5G (Aqua Surge, 128 GB)  (8 G...            --   \n",
       "6   OnePlus Nord CE3 5G (Grey Shimmer, 256 GB)  (1...       ₹28,749   \n",
       "7   OnePlus Nord 3 5G (Tempest Gray, 128 GB)  (8 G...            --   \n",
       "8   OnePlus Nord 3 5G (Misty Green, 256 GB)  (16 G...            --   \n",
       "9   OnePlus Nord 3 5G (Misty Green, 128 GB)  (8 GB...            --   \n",
       "10  OnePlus Nord 2T 5G (Gray Shadow, 128 GB)  (8 G...       ₹28,999   \n",
       "11  OnePlus Nord 3 5G (Tempest Gray, 256 GB)  (16 ...       ₹36,999   \n",
       "12  OnePlus Nord CE3 5G (Aqua Surge, 256 GB)  (12 ...       ₹28,969   \n",
       "13  OnePlus Nord 2T 5G (Jade Fog, 256 GB)  (12 GB ...       ₹33,899   \n",
       "14  OnePlus Nord CE 5G (Silver Ray, 256 GB)  (12 G...       ₹27,990   \n",
       "15  OnePlus Nord CE 2 5G (Gray Mirror, 128 GB)  (8...       ₹24,999   \n",
       "16  OnePlus Nord CE 5G (Charcoal Ink, 128 GB)  (8 ...       ₹24,990   \n",
       "17  OnePlus Nord 2 5G (Blue Haze, 128 GB)  (8 GB RAM)       ₹30,599   \n",
       "18  OnePlus Nord 2 5G (Gray Sierra, 128 GB)  (8 GB...       ₹30,599   \n",
       "19   OnePlus Nord 2 5G (PAC-MAN, 256 GB)  (12 GB RAM)       ₹37,999   \n",
       "20  OnePlus Nord 2 5G (Blue Haze, 128 GB)  (8 GB RAM)       ₹29,990   \n",
       "21  OnePlus Nord 2 5G (Gray Sierra, 256 GB)  (12 G...       ₹33,990   \n",
       "22  OnePlus Nord CE 3 Lite 5G (Chromatic Gray, 128...       ₹19,989   \n",
       "23  OnePlus Nord CE 3 Lite 5G (Pastel Lime, 128 GB...       ₹18,999   \n",
       "\n",
       "              bettry                    displysize  \\\n",
       "0   5000 mAh Battery  16.74 cm (6.59 inch) Display   \n",
       "1   5000 mAh Battery  17.07 cm (6.72 inch) Display   \n",
       "2                 --  17.07 cm (6.72 inch) Display   \n",
       "3   5000 mAh Battery  16.74 cm (6.59 inch) Display   \n",
       "4   5000 mAh Battery   17.02 cm (6.7 inch) Display   \n",
       "5   5000 mAh Battery   17.02 cm (6.7 inch) Display   \n",
       "6   5000 mAh Battery   17.02 cm (6.7 inch) Display   \n",
       "7   5000 mAh Battery  17.12 cm (6.74 inch) Display   \n",
       "8   5000 mAh Battery  17.12 cm (6.74 inch) Display   \n",
       "9   5000 mAh Battery  17.12 cm (6.74 inch) Display   \n",
       "10                --                            --   \n",
       "11  5000 mAh Battery  17.12 cm (6.74 inch) Display   \n",
       "12  5000 mAh Battery   17.02 cm (6.7 inch) Display   \n",
       "13  4500 mAh Battery   17.02 cm (6.7 inch) Display   \n",
       "14  4500 mAh Battery  16.33 cm (6.43 inch) Display   \n",
       "15                --                            --   \n",
       "16  4500 mAh Battery  16.33 cm (6.43 inch) Display   \n",
       "17  4500 mAh Battery  16.33 cm (6.43 inch) Display   \n",
       "18  4500 mAh Battery  16.33 cm (6.43 inch) Display   \n",
       "19  4500 mAh Battery  16.33 cm (6.43 inch) Display   \n",
       "20                --                            --   \n",
       "21                --                            --   \n",
       "22  5000 mAh Battery  17.07 cm (6.72 inch) Display   \n",
       "23  5000 mAh Battery  17.07 cm (6.72 inch) Display   \n",
       "\n",
       "                                  cammra                 Ram_Rom  \\\n",
       "0   64MP Rear Camera | 16MP Front Camera   6 GB RAM | 128 GB ROM   \n",
       "1                      108MP Rear Camera   8 GB RAM | 256 GB ROM   \n",
       "2                      108MP Rear Camera   8 GB RAM | 256 GB ROM   \n",
       "3   64MP Rear Camera | 16MP Front Camera   6 GB RAM | 128 GB ROM   \n",
       "4                       50MP Rear Camera   8 GB RAM | 128 GB ROM   \n",
       "5                       50MP Rear Camera   8 GB RAM | 128 GB ROM   \n",
       "6                       50MP Rear Camera  12 GB RAM | 256 GB ROM   \n",
       "7                       50MP Rear Camera   8 GB RAM | 128 GB ROM   \n",
       "8                       50MP Rear Camera  16 GB RAM | 256 GB ROM   \n",
       "9                       50MP Rear Camera   8 GB RAM | 128 GB ROM   \n",
       "10                                    --                      --   \n",
       "11                      50MP Rear Camera  16 GB RAM | 256 GB ROM   \n",
       "12                      50MP Rear Camera  12 GB RAM | 256 GB ROM   \n",
       "13                      50MP Rear Camera  12 GB RAM | 256 GB ROM   \n",
       "14  64MP Rear Camera | 32MP Front Camera  12 GB RAM | 256 GB ROM   \n",
       "15                                    --                      --   \n",
       "16                                    --   8 GB RAM | 128 GB ROM   \n",
       "17                      50MP Rear Camera   8 GB RAM | 128 GB ROM   \n",
       "18                      50MP Rear Camera   8 GB RAM | 128 GB ROM   \n",
       "19                      50MP Rear Camera  12 GB RAM | 256 GB ROM   \n",
       "20                                    --                      --   \n",
       "21                                    --                      --   \n",
       "22                     108MP Rear Camera   8 GB RAM | 128 GB ROM   \n",
       "23                     108MP Rear Camera   8 GB RAM | 128 GB ROM   \n",
       "\n",
       "             color                                           fone_url  \n",
       "0        Blue Tide  https://www.flipkart.com/oneplus-nord-ce-2-lit...  \n",
       "1   Chromatic Gray  https://www.flipkart.com/oneplus-nord-ce-3-lit...  \n",
       "2      Pastel Lime  https://www.flipkart.com/oneplus-nord-ce-3-lit...  \n",
       "3               --  https://www.flipkart.com/oneplus-nord-ce-2-lit...  \n",
       "4     Grey Shimmer  https://www.flipkart.com/oneplus-nord-ce3-5g-g...  \n",
       "5       Aqua Surge  https://www.flipkart.com/oneplus-nord-ce3-5g-a...  \n",
       "6     Grey Shimmer  https://www.flipkart.com/oneplus-nord-ce3-5g-g...  \n",
       "7     Tempest Gray  https://www.flipkart.com/oneplus-nord-3-5g-tem...  \n",
       "8      Misty Green  https://www.flipkart.com/oneplus-nord-3-5g-mis...  \n",
       "9      Misty Green  https://www.flipkart.com/oneplus-nord-3-5g-mis...  \n",
       "10              --  https://www.flipkart.com/oneplus-nord-2t-5g-gr...  \n",
       "11    Tempest Gray  https://www.flipkart.com/oneplus-nord-3-5g-tem...  \n",
       "12      Aqua Surge  https://www.flipkart.com/oneplus-nord-ce3-5g-a...  \n",
       "13              --  https://www.flipkart.com/oneplus-nord-2t-5g-ja...  \n",
       "14              --  https://www.flipkart.com/oneplus-nord-ce-5g-si...  \n",
       "15              --  https://www.flipkart.com/oneplus-nord-ce-2-5g-...  \n",
       "16              --  https://www.flipkart.com/oneplus-nord-ce-5g-ch...  \n",
       "17       Blue Haze  https://www.flipkart.com/oneplus-nord-2-5g-blu...  \n",
       "18     Gray Sierra  https://www.flipkart.com/oneplus-nord-2-5g-gra...  \n",
       "19         PAC-MAN  https://www.flipkart.com/oneplus-nord-2-5g-pac...  \n",
       "20              --  https://www.flipkart.com/oneplus-nord-2-5g-blu...  \n",
       "21              --  https://www.flipkart.com/oneplus-nord-2-5g-gra...  \n",
       "22              --  https://www.flipkart.com/oneplus-nord-ce-3-lit...  \n",
       "23              --  https://www.flipkart.com/oneplus-nord-ce-3-lit...  "
      ]
     },
     "execution_count": 68,
     "metadata": {},
     "output_type": "execute_result"
    }
   ],
   "source": [
    "nord_fone"
   ]
  },
  {
   "cell_type": "code",
   "execution_count": null,
   "id": "1175671a",
   "metadata": {},
   "outputs": [],
   "source": []
  },
  {
   "cell_type": "markdown",
   "id": "f67b0ebc",
   "metadata": {},
   "source": [
    "## 5. Write a program to scrap geospatial coordinates (latitude, longitude) of a city searched on google maps. "
   ]
  },
  {
   "cell_type": "code",
   "execution_count": 85,
   "id": "38efa455",
   "metadata": {},
   "outputs": [
    {
     "name": "stdout",
     "output_type": "stream",
     "text": [
      "Collecting geopy\n",
      "  Downloading geopy-2.4.0-py3-none-any.whl (125 kB)\n",
      "Collecting geographiclib<3,>=1.52\n",
      "  Downloading geographiclib-2.0-py3-none-any.whl (40 kB)\n",
      "Installing collected packages: geographiclib, geopy\n",
      "Successfully installed geographiclib-2.0 geopy-2.4.0\n"
     ]
    }
   ],
   "source": [
    "!PIP install geopy"
   ]
  },
  {
   "cell_type": "code",
   "execution_count": 86,
   "id": "64137143",
   "metadata": {},
   "outputs": [],
   "source": [
    "from geopy.geocoders import ArcGIS"
   ]
  },
  {
   "cell_type": "code",
   "execution_count": 87,
   "id": "21dd2afc",
   "metadata": {},
   "outputs": [],
   "source": [
    "nom=ArcGIS()"
   ]
  },
  {
   "cell_type": "code",
   "execution_count": 88,
   "id": "f9203f07",
   "metadata": {},
   "outputs": [
    {
     "data": {
      "text/plain": [
       "Location(Pune, Maharashtra, (18.50419, 73.85286, 0.0))"
      ]
     },
     "execution_count": 88,
     "metadata": {},
     "output_type": "execute_result"
    }
   ],
   "source": [
    "nom.geocode('pune')"
   ]
  },
  {
   "cell_type": "code",
   "execution_count": 89,
   "id": "7064d07e",
   "metadata": {},
   "outputs": [
    {
     "data": {
      "text/plain": [
       "Location(Mumbai, Maharashtra, (18.94018, 72.83484, 0.0))"
      ]
     },
     "execution_count": 89,
     "metadata": {},
     "output_type": "execute_result"
    }
   ],
   "source": [
    "nom.geocode('mumbai')"
   ]
  },
  {
   "cell_type": "code",
   "execution_count": null,
   "id": "20557b77",
   "metadata": {},
   "outputs": [],
   "source": [
    "nom.geocode('')"
   ]
  },
  {
   "cell_type": "code",
   "execution_count": null,
   "id": "07e0d729",
   "metadata": {},
   "outputs": [],
   "source": []
  },
  {
   "cell_type": "markdown",
   "id": "10549711",
   "metadata": {},
   "source": [
    "## 6. Write a program to scrap all the available details of best gaming laptops from digit.in. \n"
   ]
  },
  {
   "cell_type": "code",
   "execution_count": 134,
   "id": "343067a2",
   "metadata": {},
   "outputs": [],
   "source": [
    "driver=webdriver.Edge()"
   ]
  },
  {
   "cell_type": "code",
   "execution_count": 135,
   "id": "98d90855",
   "metadata": {},
   "outputs": [],
   "source": [
    "driver.get('https://www.digit.in/top-products/best-amd-gaming-laptops-with-nvidia-geforce-rtx-3050-4073.html')"
   ]
  },
  {
   "cell_type": "code",
   "execution_count": 136,
   "id": "44df9e46",
   "metadata": {},
   "outputs": [],
   "source": [
    "leptop_name=[]"
   ]
  },
  {
   "cell_type": "code",
   "execution_count": 137,
   "id": "7558a38b",
   "metadata": {},
   "outputs": [],
   "source": [
    "leptop=driver.find_elements(By.XPATH,'//h3[@class=\"font130 mt0 mb10 mobilesblockdisplay \"]')"
   ]
  },
  {
   "cell_type": "code",
   "execution_count": 138,
   "id": "d857f971",
   "metadata": {},
   "outputs": [],
   "source": [
    "for i in leptop:\n",
    "    leptop_name.append(i.text)"
   ]
  },
  {
   "cell_type": "code",
   "execution_count": 139,
   "id": "14d51a47",
   "metadata": {},
   "outputs": [
    {
     "data": {
      "text/plain": [
       "['Lenovo IdeaPad Gaming 3 82K200X3IN Ryzen 7-5800H (2022)',\n",
       " 'Dell New G15-5515 D560805WIN9W Ryzen 5-5600H (2022)',\n",
       " 'HP Pavilion Gaming 15-ec2145AX Ryzen 5-5600H (2022)',\n",
       " 'Lenovo IdeaPad Gaming 3 15ACH6 Ryzen 5-5600H (2021)']"
      ]
     },
     "execution_count": 139,
     "metadata": {},
     "output_type": "execute_result"
    }
   ],
   "source": [
    "leptop_name"
   ]
  },
  {
   "cell_type": "code",
   "execution_count": 142,
   "id": "7b3d1c63",
   "metadata": {},
   "outputs": [],
   "source": [
    "top_gaming_leptop=pd.DataFrame({'leptop_name':leptop_name})"
   ]
  },
  {
   "cell_type": "code",
   "execution_count": 143,
   "id": "e29e2491",
   "metadata": {},
   "outputs": [
    {
     "data": {
      "text/html": [
       "<div>\n",
       "<style scoped>\n",
       "    .dataframe tbody tr th:only-of-type {\n",
       "        vertical-align: middle;\n",
       "    }\n",
       "\n",
       "    .dataframe tbody tr th {\n",
       "        vertical-align: top;\n",
       "    }\n",
       "\n",
       "    .dataframe thead th {\n",
       "        text-align: right;\n",
       "    }\n",
       "</style>\n",
       "<table border=\"1\" class=\"dataframe\">\n",
       "  <thead>\n",
       "    <tr style=\"text-align: right;\">\n",
       "      <th></th>\n",
       "      <th>leptop_name</th>\n",
       "    </tr>\n",
       "  </thead>\n",
       "  <tbody>\n",
       "    <tr>\n",
       "      <th>0</th>\n",
       "      <td>Lenovo IdeaPad Gaming 3 82K200X3IN Ryzen 7-580...</td>\n",
       "    </tr>\n",
       "    <tr>\n",
       "      <th>1</th>\n",
       "      <td>Dell New G15-5515 D560805WIN9W Ryzen 5-5600H (...</td>\n",
       "    </tr>\n",
       "    <tr>\n",
       "      <th>2</th>\n",
       "      <td>HP Pavilion Gaming 15-ec2145AX Ryzen 5-5600H (...</td>\n",
       "    </tr>\n",
       "    <tr>\n",
       "      <th>3</th>\n",
       "      <td>Lenovo IdeaPad Gaming 3 15ACH6 Ryzen 5-5600H (...</td>\n",
       "    </tr>\n",
       "  </tbody>\n",
       "</table>\n",
       "</div>"
      ],
      "text/plain": [
       "                                         leptop_name\n",
       "0  Lenovo IdeaPad Gaming 3 82K200X3IN Ryzen 7-580...\n",
       "1  Dell New G15-5515 D560805WIN9W Ryzen 5-5600H (...\n",
       "2  HP Pavilion Gaming 15-ec2145AX Ryzen 5-5600H (...\n",
       "3  Lenovo IdeaPad Gaming 3 15ACH6 Ryzen 5-5600H (..."
      ]
     },
     "execution_count": 143,
     "metadata": {},
     "output_type": "execute_result"
    }
   ],
   "source": [
    "top_gaming_leptop"
   ]
  },
  {
   "cell_type": "code",
   "execution_count": 144,
   "id": "cebcedf6",
   "metadata": {},
   "outputs": [],
   "source": [
    "driver.close()"
   ]
  },
  {
   "cell_type": "code",
   "execution_count": null,
   "id": "99a43ad4",
   "metadata": {},
   "outputs": [],
   "source": []
  },
  {
   "cell_type": "markdown",
   "id": "1985e526",
   "metadata": {},
   "source": [
    "### 7. Write a python program to scrape the details for all billionaires from www.forbes.com. Details to be scrapped: \n",
    "### “Rank”, “Name”, “Net worth”, “Age”, “Citizenship”, “Source”, “Industry”"
   ]
  },
  {
   "cell_type": "code",
   "execution_count": 157,
   "id": "719b1cd6",
   "metadata": {},
   "outputs": [],
   "source": [
    "driver=webdriver.Edge()"
   ]
  },
  {
   "cell_type": "code",
   "execution_count": 166,
   "id": "d7ecf537",
   "metadata": {},
   "outputs": [],
   "source": [
    "driver.get('https://www.forbes.com/?sh=369dc7452254')"
   ]
  },
  {
   "cell_type": "code",
   "execution_count": null,
   "id": "e014c764",
   "metadata": {},
   "outputs": [],
   "source": [
    "menue = driver.find_element(By.XPATH,'/html/body/div[1]/div/div[1]/header/div[1]/div[1]/div/svg')\n",
    "menue.click()"
   ]
  },
  {
   "cell_type": "code",
   "execution_count": 160,
   "id": "24b430a3",
   "metadata": {},
   "outputs": [],
   "source": [
    "bill=driver.find_element(By.XPATH,'/html/body/div[1]/header/nav/div[1]/div[1]/div/div[2]/ul/li[2]/div[1]')\n",
    "bill.click()"
   ]
  },
  {
   "cell_type": "code",
   "execution_count": null,
   "id": "11444238",
   "metadata": {},
   "outputs": [],
   "source": [
    "bill_click=driver.find_element(By.XPATH,'/html/body/div[1]/header/nav/div[1]/div[1]/div/div[2]/ul/li[2]/div[2]/div[2]/a')\n",
    "bill_click.click()"
   ]
  },
  {
   "cell_type": "code",
   "execution_count": 172,
   "id": "4c10c0f2",
   "metadata": {},
   "outputs": [],
   "source": [
    "bill_name=[]"
   ]
  },
  {
   "cell_type": "code",
   "execution_count": 173,
   "id": "6949150e",
   "metadata": {},
   "outputs": [],
   "source": [
    "name_b=driver.find_elements(By.XPATH,'//div[@class=\"TableRow_row__L-0Km\"]/div[2]')"
   ]
  },
  {
   "cell_type": "code",
   "execution_count": 174,
   "id": "4dd6b90a",
   "metadata": {},
   "outputs": [],
   "source": [
    "for i in name_b:\n",
    "    bill_name.append(i.text)"
   ]
  },
  {
   "cell_type": "code",
   "execution_count": 188,
   "id": "16ffd8e8",
   "metadata": {},
   "outputs": [
    {
     "data": {
      "text/plain": [
       "200"
      ]
     },
     "execution_count": 188,
     "metadata": {},
     "output_type": "execute_result"
    }
   ],
   "source": [
    "len(bill_name)"
   ]
  },
  {
   "cell_type": "code",
   "execution_count": 179,
   "id": "5afa257d",
   "metadata": {},
   "outputs": [],
   "source": [
    "Rank=[]"
   ]
  },
  {
   "cell_type": "code",
   "execution_count": 180,
   "id": "d17f3e62",
   "metadata": {},
   "outputs": [],
   "source": [
    "rank_b=driver.find_elements(By.XPATH,'//div[@class=\"Table_rank___YBhk Table_dataCell__2QCve\"]')"
   ]
  },
  {
   "cell_type": "code",
   "execution_count": 182,
   "id": "78e63044",
   "metadata": {},
   "outputs": [],
   "source": [
    "for i in rank_b:\n",
    "    Rank.append(i.text)"
   ]
  },
  {
   "cell_type": "code",
   "execution_count": 184,
   "id": "50fa85ea",
   "metadata": {},
   "outputs": [
    {
     "data": {
      "text/plain": [
       "200"
      ]
     },
     "execution_count": 184,
     "metadata": {},
     "output_type": "execute_result"
    }
   ],
   "source": [
    "len(Rank)"
   ]
  },
  {
   "cell_type": "code",
   "execution_count": 189,
   "id": "137a07e0",
   "metadata": {},
   "outputs": [],
   "source": [
    "Net_worth=[]"
   ]
  },
  {
   "cell_type": "code",
   "execution_count": 190,
   "id": "70e7a41c",
   "metadata": {},
   "outputs": [],
   "source": [
    "mony=driver.find_elements(By.XPATH,'//div[@class=\"Table_netWorth___L4R5 Table_dataCell__2QCve\"]')"
   ]
  },
  {
   "cell_type": "code",
   "execution_count": 191,
   "id": "0bc1a396",
   "metadata": {},
   "outputs": [],
   "source": [
    "for i in mony:\n",
    "    Net_worth.append(i.text)"
   ]
  },
  {
   "cell_type": "code",
   "execution_count": 193,
   "id": "ebaf04a7",
   "metadata": {},
   "outputs": [
    {
     "data": {
      "text/plain": [
       "200"
      ]
     },
     "execution_count": 193,
     "metadata": {},
     "output_type": "execute_result"
    }
   ],
   "source": [
    "len(Net_worth)"
   ]
  },
  {
   "cell_type": "code",
   "execution_count": 194,
   "id": "fda58c58",
   "metadata": {},
   "outputs": [],
   "source": [
    "Age=[]"
   ]
  },
  {
   "cell_type": "code",
   "execution_count": 195,
   "id": "ae59ba79",
   "metadata": {},
   "outputs": [],
   "source": [
    "age_b=driver.find_elements(By.XPATH,'//div[@class=\"TableRow_row__L-0Km\"]/div[4]')"
   ]
  },
  {
   "cell_type": "code",
   "execution_count": 196,
   "id": "7f82e5cc",
   "metadata": {},
   "outputs": [],
   "source": [
    "for i in age_b:\n",
    "    Age.append(i.text)"
   ]
  },
  {
   "cell_type": "code",
   "execution_count": 198,
   "id": "498565ae",
   "metadata": {},
   "outputs": [
    {
     "data": {
      "text/plain": [
       "200"
      ]
     },
     "execution_count": 198,
     "metadata": {},
     "output_type": "execute_result"
    }
   ],
   "source": [
    "len(Age)"
   ]
  },
  {
   "cell_type": "code",
   "execution_count": 199,
   "id": "69367060",
   "metadata": {},
   "outputs": [],
   "source": [
    "Citizenship=[]"
   ]
  },
  {
   "cell_type": "code",
   "execution_count": 200,
   "id": "3b6d2545",
   "metadata": {},
   "outputs": [],
   "source": [
    "country=driver.find_elements(By.XPATH,'//div[@class=\"TableRow_row__L-0Km\"]/div[5]')"
   ]
  },
  {
   "cell_type": "code",
   "execution_count": 201,
   "id": "ed78ad6c",
   "metadata": {},
   "outputs": [],
   "source": [
    "for i in country:\n",
    "    Citizenship.append(i.text)"
   ]
  },
  {
   "cell_type": "code",
   "execution_count": 203,
   "id": "6d29dbfb",
   "metadata": {},
   "outputs": [
    {
     "data": {
      "text/plain": [
       "200"
      ]
     },
     "execution_count": 203,
     "metadata": {},
     "output_type": "execute_result"
    }
   ],
   "source": [
    "len(Citizenship)"
   ]
  },
  {
   "cell_type": "code",
   "execution_count": 204,
   "id": "f18d657f",
   "metadata": {},
   "outputs": [],
   "source": [
    "Source=[]"
   ]
  },
  {
   "cell_type": "code",
   "execution_count": 205,
   "id": "fdfb7657",
   "metadata": {},
   "outputs": [],
   "source": [
    "Source_b=driver.find_elements(By.XPATH,'//div[@class=\"TableRow_row__L-0Km\"]/div[6]')"
   ]
  },
  {
   "cell_type": "code",
   "execution_count": 206,
   "id": "078dbc94",
   "metadata": {},
   "outputs": [],
   "source": [
    "for i in Source_b:\n",
    "    Source.append(i.text)"
   ]
  },
  {
   "cell_type": "code",
   "execution_count": 211,
   "id": "94835207",
   "metadata": {},
   "outputs": [
    {
     "data": {
      "text/plain": [
       "200"
      ]
     },
     "execution_count": 211,
     "metadata": {},
     "output_type": "execute_result"
    }
   ],
   "source": [
    "len(Source)"
   ]
  },
  {
   "cell_type": "code",
   "execution_count": 212,
   "id": "4155a2a3",
   "metadata": {},
   "outputs": [],
   "source": [
    "Industry=[]"
   ]
  },
  {
   "cell_type": "code",
   "execution_count": 214,
   "id": "3a5fa958",
   "metadata": {},
   "outputs": [],
   "source": [
    "ind=driver.find_elements(By.XPATH,'//div[@class=\"TableRow_row__L-0Km\"]/div[7]')"
   ]
  },
  {
   "cell_type": "code",
   "execution_count": 215,
   "id": "c02bdebf",
   "metadata": {},
   "outputs": [],
   "source": [
    "for i in ind:\n",
    "    Industry.append(i.text)"
   ]
  },
  {
   "cell_type": "code",
   "execution_count": 217,
   "id": "b20bd0fa",
   "metadata": {},
   "outputs": [
    {
     "data": {
      "text/plain": [
       "200"
      ]
     },
     "execution_count": 217,
     "metadata": {},
     "output_type": "execute_result"
    }
   ],
   "source": [
    "len(Industry)"
   ]
  },
  {
   "cell_type": "code",
   "execution_count": 218,
   "id": "a9b400b4",
   "metadata": {},
   "outputs": [],
   "source": [
    "world_top_billionaires=pd.DataFrame({'Rank':Rank,'bill_name':bill_name,'Net_worth':Net_worth,'Age':Age,'Citizenship':Citizenship,'Source':Source,'Industry':Industry})"
   ]
  },
  {
   "cell_type": "code",
   "execution_count": 219,
   "id": "7c113b0f",
   "metadata": {},
   "outputs": [
    {
     "data": {
      "text/html": [
       "<div>\n",
       "<style scoped>\n",
       "    .dataframe tbody tr th:only-of-type {\n",
       "        vertical-align: middle;\n",
       "    }\n",
       "\n",
       "    .dataframe tbody tr th {\n",
       "        vertical-align: top;\n",
       "    }\n",
       "\n",
       "    .dataframe thead th {\n",
       "        text-align: right;\n",
       "    }\n",
       "</style>\n",
       "<table border=\"1\" class=\"dataframe\">\n",
       "  <thead>\n",
       "    <tr style=\"text-align: right;\">\n",
       "      <th></th>\n",
       "      <th>Rank</th>\n",
       "      <th>bill_name</th>\n",
       "      <th>Net_worth</th>\n",
       "      <th>Age</th>\n",
       "      <th>Citizenship</th>\n",
       "      <th>Source</th>\n",
       "      <th>Industry</th>\n",
       "    </tr>\n",
       "  </thead>\n",
       "  <tbody>\n",
       "    <tr>\n",
       "      <th>0</th>\n",
       "      <td>1</td>\n",
       "      <td>Elon Musk</td>\n",
       "      <td>$211 B</td>\n",
       "      <td>74</td>\n",
       "      <td>France</td>\n",
       "      <td>Tesla, SpaceX</td>\n",
       "      <td>fashion &amp; retail</td>\n",
       "    </tr>\n",
       "    <tr>\n",
       "      <th>1</th>\n",
       "      <td>2</td>\n",
       "      <td>Jeff Bezos</td>\n",
       "      <td>$180 B</td>\n",
       "      <td>51</td>\n",
       "      <td>United States</td>\n",
       "      <td>Amazon</td>\n",
       "      <td>Automotive</td>\n",
       "    </tr>\n",
       "    <tr>\n",
       "      <th>2</th>\n",
       "      <td>3</td>\n",
       "      <td>Larry Ellison</td>\n",
       "      <td>$114 B</td>\n",
       "      <td>59</td>\n",
       "      <td>United States</td>\n",
       "      <td>Oracle</td>\n",
       "      <td>Technology</td>\n",
       "    </tr>\n",
       "    <tr>\n",
       "      <th>3</th>\n",
       "      <td>4</td>\n",
       "      <td>Warren Buffett</td>\n",
       "      <td>$107 B</td>\n",
       "      <td>78</td>\n",
       "      <td>United States</td>\n",
       "      <td>Berkshire Hathaway</td>\n",
       "      <td>Technology</td>\n",
       "    </tr>\n",
       "    <tr>\n",
       "      <th>4</th>\n",
       "      <td>5</td>\n",
       "      <td>Bill Gates</td>\n",
       "      <td>$106 B</td>\n",
       "      <td>92</td>\n",
       "      <td>United States</td>\n",
       "      <td>Microsoft</td>\n",
       "      <td>Finance &amp; Investments</td>\n",
       "    </tr>\n",
       "    <tr>\n",
       "      <th>...</th>\n",
       "      <td>...</td>\n",
       "      <td>...</td>\n",
       "      <td>...</td>\n",
       "      <td>...</td>\n",
       "      <td>...</td>\n",
       "      <td>...</td>\n",
       "      <td>...</td>\n",
       "    </tr>\n",
       "    <tr>\n",
       "      <th>195</th>\n",
       "      <td>195</td>\n",
       "      <td>Luo Liguo &amp; family</td>\n",
       "      <td>$9.6 B</td>\n",
       "      <td>70</td>\n",
       "      <td>China</td>\n",
       "      <td>Chemicals</td>\n",
       "      <td>Energy</td>\n",
       "    </tr>\n",
       "    <tr>\n",
       "      <th>196</th>\n",
       "      <td>195</td>\n",
       "      <td>Marijke Mars</td>\n",
       "      <td>$9.6 B</td>\n",
       "      <td>67</td>\n",
       "      <td>China</td>\n",
       "      <td>Candy, pet food</td>\n",
       "      <td>Manufacturing</td>\n",
       "    </tr>\n",
       "    <tr>\n",
       "      <th>197</th>\n",
       "      <td>195</td>\n",
       "      <td>Pamela Mars</td>\n",
       "      <td>$9.6 B</td>\n",
       "      <td>58</td>\n",
       "      <td>United States</td>\n",
       "      <td>Candy, pet food</td>\n",
       "      <td>Food &amp; Beverage</td>\n",
       "    </tr>\n",
       "    <tr>\n",
       "      <th>198</th>\n",
       "      <td>195</td>\n",
       "      <td>Valerie Mars</td>\n",
       "      <td>$9.6 B</td>\n",
       "      <td>62</td>\n",
       "      <td>United States</td>\n",
       "      <td>Candy, pet food</td>\n",
       "      <td>Food &amp; Beverage</td>\n",
       "    </tr>\n",
       "    <tr>\n",
       "      <th>199</th>\n",
       "      <td>195</td>\n",
       "      <td>bernard arnault &amp; family</td>\n",
       "      <td>$9.6 B</td>\n",
       "      <td>64</td>\n",
       "      <td>United States</td>\n",
       "      <td>LVMH</td>\n",
       "      <td>Food &amp; Beverage</td>\n",
       "    </tr>\n",
       "  </tbody>\n",
       "</table>\n",
       "<p>200 rows × 7 columns</p>\n",
       "</div>"
      ],
      "text/plain": [
       "    Rank                 bill_name Net_worth Age    Citizenship  \\\n",
       "0      1                 Elon Musk    $211 B  74         France   \n",
       "1      2                Jeff Bezos    $180 B  51  United States   \n",
       "2      3             Larry Ellison    $114 B  59  United States   \n",
       "3      4            Warren Buffett    $107 B  78  United States   \n",
       "4      5                Bill Gates    $106 B  92  United States   \n",
       "..   ...                       ...       ...  ..            ...   \n",
       "195  195        Luo Liguo & family    $9.6 B  70          China   \n",
       "196  195              Marijke Mars    $9.6 B  67          China   \n",
       "197  195               Pamela Mars    $9.6 B  58  United States   \n",
       "198  195              Valerie Mars    $9.6 B  62  United States   \n",
       "199  195  bernard arnault & family    $9.6 B  64  United States   \n",
       "\n",
       "                 Source               Industry  \n",
       "0         Tesla, SpaceX       fashion & retail  \n",
       "1                Amazon             Automotive  \n",
       "2                Oracle             Technology  \n",
       "3    Berkshire Hathaway             Technology  \n",
       "4             Microsoft  Finance & Investments  \n",
       "..                  ...                    ...  \n",
       "195           Chemicals                 Energy  \n",
       "196     Candy, pet food          Manufacturing  \n",
       "197     Candy, pet food        Food & Beverage  \n",
       "198     Candy, pet food        Food & Beverage  \n",
       "199                LVMH        Food & Beverage  \n",
       "\n",
       "[200 rows x 7 columns]"
      ]
     },
     "execution_count": 219,
     "metadata": {},
     "output_type": "execute_result"
    }
   ],
   "source": [
    "world_top_billionaires"
   ]
  },
  {
   "cell_type": "code",
   "execution_count": 220,
   "id": "77ba3e21",
   "metadata": {},
   "outputs": [],
   "source": [
    "driver.close()"
   ]
  },
  {
   "cell_type": "markdown",
   "id": "1785c970",
   "metadata": {},
   "source": [
    "### 8. Write a program to extract at least 500 Comments, Comment upvote and time when comment was posted \n",
    "### from any YouTube Video. "
   ]
  },
  {
   "cell_type": "code",
   "execution_count": 10,
   "id": "16751025",
   "metadata": {},
   "outputs": [],
   "source": [
    "driver= webdriver.Edge()"
   ]
  },
  {
   "cell_type": "code",
   "execution_count": 11,
   "id": "f41d72f1",
   "metadata": {},
   "outputs": [],
   "source": [
    "driver.get('https://www.youtube.com/watch?v=UewdJNMcuP4')"
   ]
  },
  {
   "cell_type": "code",
   "execution_count": 35,
   "id": "12d99bd3",
   "metadata": {},
   "outputs": [],
   "source": [
    "all_comment=[]"
   ]
  },
  {
   "cell_type": "code",
   "execution_count": 36,
   "id": "33ac198b",
   "metadata": {},
   "outputs": [],
   "source": [
    "comment=driver.find_elements(By.XPATH,'//yt-formatted-string[@class=\"style-scope ytd-comment-renderer\"]')"
   ]
  },
  {
   "cell_type": "code",
   "execution_count": 37,
   "id": "bea0a264",
   "metadata": {},
   "outputs": [],
   "source": [
    "for i in comment[0:500]:\n",
    "    try:\n",
    "        comment=driver.find_elements(By.XPATH,'//yt-formatted-string[@class=\"style-scope ytd-comment-renderer\"]')\n",
    "        all_comment.append(i.text)\n",
    "    except NoSuchElementException:\n",
    "        all_comment.append('--')\n",
    "    "
   ]
  },
  {
   "cell_type": "code",
   "execution_count": 38,
   "id": "eafe1144",
   "metadata": {},
   "outputs": [
    {
     "data": {
      "text/plain": [
       "450"
      ]
     },
     "execution_count": 38,
     "metadata": {},
     "output_type": "execute_result"
    }
   ],
   "source": [
    "len(all_comment)"
   ]
  },
  {
   "cell_type": "code",
   "execution_count": 32,
   "id": "add35acc",
   "metadata": {},
   "outputs": [],
   "source": [
    "all_time=[]\n",
    "comm_time=driver.find_elements(By.XPATH,'//yt-formatted-string[@class=\"published-time-text style-scope ytd-comment-renderer\"]/a')"
   ]
  },
  {
   "cell_type": "code",
   "execution_count": 33,
   "id": "114cc246",
   "metadata": {},
   "outputs": [],
   "source": [
    "for i in comm_time[0:500]:\n",
    "    try:\n",
    "        comm_time=driver.find_elements(By.XPATH,'//yt-formatted-string[@class=\"published-time-text style-scope ytd-comment-renderer\"]/a')\n",
    "        all_time.append(i.text)\n",
    "    except NoSuchElementException:\n",
    "        all_time.append('--')\n",
    "    "
   ]
  },
  {
   "cell_type": "code",
   "execution_count": 34,
   "id": "c4451d06",
   "metadata": {},
   "outputs": [
    {
     "data": {
      "text/plain": [
       "450"
      ]
     },
     "execution_count": 34,
     "metadata": {},
     "output_type": "execute_result"
    }
   ],
   "source": [
    "len(all_time)"
   ]
  },
  {
   "cell_type": "code",
   "execution_count": 48,
   "id": "d3e4ef14",
   "metadata": {},
   "outputs": [],
   "source": [
    "upvote=driver.find_elements(By.XPATH,'//div[@class=\"style-scope ytd-comment-action-buttons-renderer\"]/span[1]')\n",
    "upvotes=[]"
   ]
  },
  {
   "cell_type": "code",
   "execution_count": 49,
   "id": "b28093af",
   "metadata": {},
   "outputs": [],
   "source": [
    "for i in upvote[0:500]:\n",
    "    try:\n",
    "        upvote=driver.find_elements(By.XPATH,'//div[@class=\"style-scope ytd-comment-action-buttons-renderer\"]/span[1]')\n",
    "        upvotes.append(i.text)\n",
    "    except NoSuchElementExceptin:\n",
    "        upvotes.append('--')"
   ]
  },
  {
   "cell_type": "code",
   "execution_count": 50,
   "id": "359d3ae4",
   "metadata": {},
   "outputs": [
    {
     "data": {
      "text/plain": [
       "450"
      ]
     },
     "execution_count": 50,
     "metadata": {},
     "output_type": "execute_result"
    }
   ],
   "source": [
    "len(upvotes)"
   ]
  },
  {
   "cell_type": "code",
   "execution_count": 55,
   "id": "436646ae",
   "metadata": {},
   "outputs": [],
   "source": [
    "yt_comment=pd.DataFrame({'all_comment':all_comment,'upvotes':upvotes,'all_time':all_time})"
   ]
  },
  {
   "cell_type": "code",
   "execution_count": 57,
   "id": "f1e944f1",
   "metadata": {},
   "outputs": [
    {
     "data": {
      "text/html": [
       "<div>\n",
       "<style scoped>\n",
       "    .dataframe tbody tr th:only-of-type {\n",
       "        vertical-align: middle;\n",
       "    }\n",
       "\n",
       "    .dataframe tbody tr th {\n",
       "        vertical-align: top;\n",
       "    }\n",
       "\n",
       "    .dataframe thead th {\n",
       "        text-align: right;\n",
       "    }\n",
       "</style>\n",
       "<table border=\"1\" class=\"dataframe\">\n",
       "  <thead>\n",
       "    <tr style=\"text-align: right;\">\n",
       "      <th></th>\n",
       "      <th>all_comment</th>\n",
       "      <th>upvotes</th>\n",
       "      <th>all_time</th>\n",
       "    </tr>\n",
       "  </thead>\n",
       "  <tbody>\n",
       "    <tr>\n",
       "      <th>0</th>\n",
       "      <td>Soul  : Name   Brand  Emotions  Heros  Champions</td>\n",
       "      <td></td>\n",
       "      <td>1 hour ago</td>\n",
       "    </tr>\n",
       "    <tr>\n",
       "      <th>1</th>\n",
       "      <td>no matter what the lineup is, no matter what t...</td>\n",
       "      <td></td>\n",
       "      <td>1 hour ago</td>\n",
       "    </tr>\n",
       "    <tr>\n",
       "      <th>2</th>\n",
       "      <td>Again Soul needs igling of highest level from ...</td>\n",
       "      <td></td>\n",
       "      <td>2 hours ago</td>\n",
       "    </tr>\n",
       "    <tr>\n",
       "      <th>3</th>\n",
       "      <td>The way he prioritized his team mates first !!...</td>\n",
       "      <td></td>\n",
       "      <td>58 minutes ago</td>\n",
       "    </tr>\n",
       "    <tr>\n",
       "      <th>4</th>\n",
       "      <td>Kya hi moment hoga, SouL lifting BGIS trophy. ...</td>\n",
       "      <td></td>\n",
       "      <td>57 minutes ago</td>\n",
       "    </tr>\n",
       "    <tr>\n",
       "      <th>...</th>\n",
       "      <td>...</td>\n",
       "      <td>...</td>\n",
       "      <td>...</td>\n",
       "    </tr>\n",
       "    <tr>\n",
       "      <th>445</th>\n",
       "      <td>4</td>\n",
       "      <td></td>\n",
       "      <td>34 minutes ago</td>\n",
       "    </tr>\n",
       "    <tr>\n",
       "      <th>446</th>\n",
       "      <td>Bus bhai hagana mat,plz</td>\n",
       "      <td></td>\n",
       "      <td>37 minutes ago</td>\n",
       "    </tr>\n",
       "    <tr>\n",
       "      <th>447</th>\n",
       "      <td>Lan kab hai</td>\n",
       "      <td></td>\n",
       "      <td>4 minutes ago</td>\n",
       "    </tr>\n",
       "    <tr>\n",
       "      <th>448</th>\n",
       "      <td>Kabse start hoo Raha bgis bhai koi bata doo</td>\n",
       "      <td></td>\n",
       "      <td>46 minutes ago</td>\n",
       "    </tr>\n",
       "    <tr>\n",
       "      <th>449</th>\n",
       "      <td>5</td>\n",
       "      <td></td>\n",
       "      <td>45 minutes ago</td>\n",
       "    </tr>\n",
       "  </tbody>\n",
       "</table>\n",
       "<p>450 rows × 3 columns</p>\n",
       "</div>"
      ],
      "text/plain": [
       "                                           all_comment upvotes        all_time\n",
       "0    Soul  : Name   Brand  Emotions  Heros  Champions               1 hour ago\n",
       "1    no matter what the lineup is, no matter what t...              1 hour ago\n",
       "2    Again Soul needs igling of highest level from ...             2 hours ago\n",
       "3    The way he prioritized his team mates first !!...          58 minutes ago\n",
       "4    Kya hi moment hoga, SouL lifting BGIS trophy. ...          57 minutes ago\n",
       "..                                                 ...     ...             ...\n",
       "445                                                  4          34 minutes ago\n",
       "446                            Bus bhai hagana mat,plz          37 minutes ago\n",
       "447                                        Lan kab hai           4 minutes ago\n",
       "448        Kabse start hoo Raha bgis bhai koi bata doo          46 minutes ago\n",
       "449                                                  5          45 minutes ago\n",
       "\n",
       "[450 rows x 3 columns]"
      ]
     },
     "execution_count": 57,
     "metadata": {},
     "output_type": "execute_result"
    }
   ],
   "source": [
    "yt_comment    #only got 450 comment on that video"
   ]
  },
  {
   "cell_type": "code",
   "execution_count": 58,
   "id": "e072011f",
   "metadata": {},
   "outputs": [],
   "source": [
    "driver.close()"
   ]
  },
  {
   "cell_type": "code",
   "execution_count": null,
   "id": "2b51cc95",
   "metadata": {},
   "outputs": [],
   "source": []
  },
  {
   "cell_type": "markdown",
   "id": "7318ddb4",
   "metadata": {},
   "source": [
    "### 9. Write a python program to scrape a data for all available Hostels from https://www.hostelworld.com/ in \n",
    "### “London” location. You have to scrape hostel name, distance from city centre, ratings, total reviews, overall \n",
    "### reviews, privates from price, dorms from price, facilities and property description."
   ]
  },
  {
   "cell_type": "code",
   "execution_count": 80,
   "id": "0fcbc53a",
   "metadata": {},
   "outputs": [],
   "source": [
    "driver=webdriver.Edge()"
   ]
  },
  {
   "cell_type": "code",
   "execution_count": 81,
   "id": "7a514b8f",
   "metadata": {},
   "outputs": [],
   "source": [
    "driver.get('https://www.hostelworld.com/st/redirect?path=%20in')"
   ]
  },
  {
   "cell_type": "code",
   "execution_count": 82,
   "id": "f65d7d67",
   "metadata": {},
   "outputs": [],
   "source": [
    "find=driver.find_element(By.XPATH,'/html/body/div[3]/div/div/div[3]/div/main/div/div[2]/button/span')\n",
    "find.click()"
   ]
  },
  {
   "cell_type": "code",
   "execution_count": 93,
   "id": "1580412d",
   "metadata": {},
   "outputs": [],
   "source": [
    "gps=driver.find_element(By.XPATH,'/html/body/div[3]/div/div/div[2]/div[2]/div[2]/div/div/div/div[1]/div[1]/div/div[2]/input')\n",
    "gps.send_keys('London')"
   ]
  },
  {
   "cell_type": "code",
   "execution_count": 94,
   "id": "f5a1ea3b",
   "metadata": {},
   "outputs": [],
   "source": [
    "gpa_c=driver.find_element(By.XPATH,'/html/body/div[3]/div/div/div[2]/div[2]/div[2]/div/div/div/div[1]/div[2]/div/ul/li[4]/button')\n",
    "gpa_c.click()"
   ]
  },
  {
   "cell_type": "code",
   "execution_count": 97,
   "id": "22cd5077",
   "metadata": {},
   "outputs": [],
   "source": [
    "gpa_click=driver.find_element(By.XPATH,'/html/body/div[3]/div/div/div[2]/div[2]/div[2]/div/div/div/div[5]/button[1]')\n",
    "gpa_click.click()"
   ]
  },
  {
   "cell_type": "code",
   "execution_count": null,
   "id": "3f5fd633",
   "metadata": {},
   "outputs": [],
   "source": []
  },
  {
   "cell_type": "code",
   "execution_count": 72,
   "id": "8812e63e",
   "metadata": {},
   "outputs": [],
   "source": [
    "hot_url=[]\n",
    "for i in range(0,2):\n",
    "    url=driver.find_elements(By.XPATH,'//a[@class=\"nuxt-link\"]')\n",
    "    for i in url:\n",
    "        hot_url.append(i.get_attribute('href'))\n",
    "        next_b=driver.find_element(By.XPATH,'/html/body/div[3]/div/div/div[2]/div/div[2]/div[1]/div/div/div/div/div[6]/div/button[2]')"
   ]
  },
  {
   "cell_type": "code",
   "execution_count": 74,
   "id": "2c7d174f",
   "metadata": {},
   "outputs": [
    {
     "data": {
      "text/plain": [
       "64"
      ]
     },
     "execution_count": 74,
     "metadata": {},
     "output_type": "execute_result"
    }
   ],
   "source": [
    "len(hot_url)"
   ]
  },
  {
   "cell_type": "code",
   "execution_count": 76,
   "id": "ff29cc6c",
   "metadata": {},
   "outputs": [],
   "source": [
    "property_description=[]\n",
    "for i in hot_url:\n",
    "    driver.get(i)\n",
    "    time.sleep(4)\n",
    "    try:\n",
    "        diss=driver.find_element(By.XPATH,'/html/body/div[3]/div/div/div[2]/section/div[9]/div/div[2]/div[4]/div/div[2]')\n",
    "        property_description.append(diss.text)\n",
    "    except NoSuchElementException:\n",
    "        property_description.append('------')"
   ]
  },
  {
   "cell_type": "code",
   "execution_count": 78,
   "id": "15e68bb5",
   "metadata": {},
   "outputs": [
    {
     "data": {
      "text/plain": [
       "64"
      ]
     },
     "execution_count": 78,
     "metadata": {},
     "output_type": "execute_result"
    }
   ],
   "source": [
    "len(property_description)"
   ]
  },
  {
   "cell_type": "code",
   "execution_count": 90,
   "id": "d3cd7823",
   "metadata": {},
   "outputs": [],
   "source": [
    "facilities=[]\n",
    "for i in hot_url:\n",
    "    driver.get(i)\n",
    "    time.sleep(4)\n",
    "    try:\n",
    "        fac=driver.find_element(By.XPATH,'/html/body/div[3]/div/div/div[2]/section/div[13]/div/ul/li[1]/ul')\n",
    "        facilities.append(fac.text)\n",
    "    except NoSuchElementException:\n",
    "        facilities.append('------')"
   ]
  },
  {
   "cell_type": "code",
   "execution_count": 92,
   "id": "a9177096",
   "metadata": {},
   "outputs": [
    {
     "data": {
      "text/plain": [
       "64"
      ]
     },
     "execution_count": 92,
     "metadata": {},
     "output_type": "execute_result"
    }
   ],
   "source": [
    "len(facilities)"
   ]
  },
  {
   "cell_type": "code",
   "execution_count": 98,
   "id": "563f9f9d",
   "metadata": {},
   "outputs": [],
   "source": [
    "hotel_name=[]\n",
    "ratingss=[]\n",
    "total_reviews=[]\n",
    "overall_reviews=[]\n"
   ]
  },
  {
   "cell_type": "code",
   "execution_count": 130,
   "id": "c24419bb",
   "metadata": {},
   "outputs": [],
   "source": [
    "for i in hot_url:\n",
    "    driver.get(i)\n",
    "    time.sleep(4)\n",
    "    try:\n",
    "        hot_name=driver.find_element(By.XPATH,'/html/body/div[3]/div/div/div[2]/section/div[4]/div/div[1]/h1/div')\n",
    "        hotel_name.append(hot_name.text)\n",
    "    except NoSuchElementException:\n",
    "        hotel_name.append('------')"
   ]
  },
  {
   "cell_type": "code",
   "execution_count": 129,
   "id": "8d4998e2",
   "metadata": {},
   "outputs": [
    {
     "data": {
      "text/plain": [
       "[]"
      ]
     },
     "execution_count": 129,
     "metadata": {},
     "output_type": "execute_result"
    }
   ],
   "source": [
    "hotel_name"
   ]
  },
  {
   "cell_type": "code",
   "execution_count": 99,
   "id": "f3271a5d",
   "metadata": {},
   "outputs": [],
   "source": [
    "for i in hot_url:\n",
    "    driver.get(i)\n",
    "    time.sleep(4)\n",
    "    try:\n",
    "        star=driver.find_element(By.XPATH,'/html/body/div[3]/div/div/div[2]/section/div[9]/div/div[1]/div[1]/div[1]')\n",
    "        ratingss.append(star.text)\n",
    "    except NoSuchElementException:\n",
    "        ratingss.append('--------')"
   ]
  },
  {
   "cell_type": "code",
   "execution_count": 101,
   "id": "26d859ff",
   "metadata": {},
   "outputs": [
    {
     "data": {
      "text/plain": [
       "64"
      ]
     },
     "execution_count": 101,
     "metadata": {},
     "output_type": "execute_result"
    }
   ],
   "source": [
    "len(ratingss)"
   ]
  },
  {
   "cell_type": "code",
   "execution_count": 115,
   "id": "80663011",
   "metadata": {},
   "outputs": [],
   "source": [
    "for i in hot_url:\n",
    "    driver.get(i)\n",
    "    time.sleep(4)\n",
    "    try:\n",
    "        tr=driver.find_element(By.XPATH,'/html/body/div[3]/div/div/div[2]/section/div[9]/div/div[1]/div[1]/div[2]/div[2]')\n",
    "        total_reviews.append(tr.text)\n",
    "    except NoSuchElementException:\n",
    "        total_reviews.append('-----')"
   ]
  },
  {
   "cell_type": "code",
   "execution_count": 117,
   "id": "3670375c",
   "metadata": {},
   "outputs": [
    {
     "data": {
      "text/plain": [
       "64"
      ]
     },
     "execution_count": 117,
     "metadata": {},
     "output_type": "execute_result"
    }
   ],
   "source": [
    "len(total_reviews)"
   ]
  },
  {
   "cell_type": "code",
   "execution_count": null,
   "id": "08f367b3",
   "metadata": {},
   "outputs": [],
   "source": []
  },
  {
   "cell_type": "code",
   "execution_count": 116,
   "id": "f1f0b07f",
   "metadata": {},
   "outputs": [],
   "source": [
    "privates_price=[]\n",
    "for i in hot_url:\n",
    "    driver.get(i)\n",
    "    time.sleep(4)\n",
    "    try:\n",
    "        pp=driver.find_element(By.XPATH,'/html/body/div[3]/div/div/div[2]/section/div[11]/div/div/section/div/div[1]/div/div[1]/div[2]/div/div[2]/div[1]/div/div[1]/div[1]/div')\n",
    "        privates_price.append(pp.text)\n",
    "    except NoSuchElementException:\n",
    "        privates_price.append('------')"
   ]
  },
  {
   "cell_type": "code",
   "execution_count": 119,
   "id": "d27df1ec",
   "metadata": {},
   "outputs": [
    {
     "data": {
      "text/plain": [
       "64"
      ]
     },
     "execution_count": 119,
     "metadata": {},
     "output_type": "execute_result"
    }
   ],
   "source": [
    "len(privates_price)"
   ]
  },
  {
   "cell_type": "code",
   "execution_count": null,
   "id": "450ec16c",
   "metadata": {},
   "outputs": [],
   "source": []
  },
  {
   "cell_type": "code",
   "execution_count": 120,
   "id": "6459c182",
   "metadata": {},
   "outputs": [],
   "source": [
    "overall_reviews=[]\n",
    "for i in hot_url:\n",
    "    driver.get(i)\n",
    "    time.sleep(4)\n",
    "    try:\n",
    "        orr=driver.find_element(By.XPATH,'/html/body/div[3]/div/div/div[2]/section/div[9]/div/div[1]/div[1]/div[2]/div[1]/span')\n",
    "        overall_reviews.append(orr.text)\n",
    "    except NoSuchElementException:\n",
    "        overall_reviews.append('-------')"
   ]
  },
  {
   "cell_type": "code",
   "execution_count": 122,
   "id": "367a45dd",
   "metadata": {},
   "outputs": [
    {
     "data": {
      "text/plain": [
       "64"
      ]
     },
     "execution_count": 122,
     "metadata": {},
     "output_type": "execute_result"
    }
   ],
   "source": [
    "len(overall_reviews)"
   ]
  },
  {
   "cell_type": "code",
   "execution_count": 124,
   "id": "b7fba644",
   "metadata": {},
   "outputs": [],
   "source": [
    "dorms_price=[]\n",
    "for i in hot_url:\n",
    "    driver.get(i)\n",
    "    time.sleep(4)\n",
    "    try:\n",
    "        dp=driver.find_element(By.XPATH,'/html/body/div[3]/div/div/div[2]/section/div[11]/div/div/section/div/div[1]/div/div[2]/div[2]/div[1]/div[2]/div[1]/div/div[1]/div[1]/div')\n",
    "        dorms_price.append(dp.text)\n",
    "    except NoSuchElementException:\n",
    "        dorms_price.append('------')"
   ]
  },
  {
   "cell_type": "code",
   "execution_count": 126,
   "id": "ba6653c4",
   "metadata": {},
   "outputs": [
    {
     "data": {
      "text/plain": [
       "64"
      ]
     },
     "execution_count": 126,
     "metadata": {},
     "output_type": "execute_result"
    }
   ],
   "source": [
    "len(dorms_price)"
   ]
  },
  {
   "cell_type": "code",
   "execution_count": 132,
   "id": "e6cceaf9",
   "metadata": {},
   "outputs": [
    {
     "data": {
      "text/plain": [
       "(64, 64, 64, 64, 64, 64, 64, 64, 64)"
      ]
     },
     "execution_count": 132,
     "metadata": {},
     "output_type": "execute_result"
    }
   ],
   "source": [
    "len(hotel_name),len(property_description),len(facilities),len(ratingss),len(total_reviews),len(overall_reviews),len(privates_price),len(dorms_price),len(hot_url)"
   ]
  },
  {
   "cell_type": "code",
   "execution_count": 133,
   "id": "8a79a5cd",
   "metadata": {},
   "outputs": [],
   "source": [
    "avilabale_hotels=pd.DataFrame({'hotel_name':hotel_name,'property_description':property_description,'facilities':facilities,'ratingss':ratingss\n",
    "                              ,'total_reviews':total_reviews,'overall_reviews':overall_reviews,'privates_price':privates_price,'dorms_price':dorms_price,'hot_url':hot_url})"
   ]
  },
  {
   "cell_type": "code",
   "execution_count": 134,
   "id": "4adfc69f",
   "metadata": {},
   "outputs": [
    {
     "data": {
      "text/html": [
       "<div>\n",
       "<style scoped>\n",
       "    .dataframe tbody tr th:only-of-type {\n",
       "        vertical-align: middle;\n",
       "    }\n",
       "\n",
       "    .dataframe tbody tr th {\n",
       "        vertical-align: top;\n",
       "    }\n",
       "\n",
       "    .dataframe thead th {\n",
       "        text-align: right;\n",
       "    }\n",
       "</style>\n",
       "<table border=\"1\" class=\"dataframe\">\n",
       "  <thead>\n",
       "    <tr style=\"text-align: right;\">\n",
       "      <th></th>\n",
       "      <th>hotel_name</th>\n",
       "      <th>property_description</th>\n",
       "      <th>facilities</th>\n",
       "      <th>ratingss</th>\n",
       "      <th>total_reviews</th>\n",
       "      <th>overall_reviews</th>\n",
       "      <th>privates_price</th>\n",
       "      <th>dorms_price</th>\n",
       "      <th>hot_url</th>\n",
       "    </tr>\n",
       "  </thead>\n",
       "  <tbody>\n",
       "    <tr>\n",
       "      <th>0</th>\n",
       "      <td>St Christopher's Village</td>\n",
       "      <td>------</td>\n",
       "      <td>Linen Included Free WiFi Free Internet Access</td>\n",
       "      <td>8.2</td>\n",
       "      <td>12478 Total Reviews</td>\n",
       "      <td>Fabulous</td>\n",
       "      <td>-10%</td>\n",
       "      <td>------</td>\n",
       "      <td>https://www.hostelworld.com/pwa/hosteldetails....</td>\n",
       "    </tr>\n",
       "    <tr>\n",
       "      <th>1</th>\n",
       "      <td>Palmers Lodge - Swiss Cottage</td>\n",
       "      <td>------</td>\n",
       "      <td>------</td>\n",
       "      <td>9.0</td>\n",
       "      <td>15714 Total Reviews</td>\n",
       "      <td>Superb</td>\n",
       "      <td>------</td>\n",
       "      <td>------</td>\n",
       "      <td>https://www.hostelworld.com/pwa/hosteldetails....</td>\n",
       "    </tr>\n",
       "    <tr>\n",
       "      <th>2</th>\n",
       "      <td>Safestay London Elephant &amp; Castle</td>\n",
       "      <td>------</td>\n",
       "      <td>Linen Included Free WiFi</td>\n",
       "      <td>7.0</td>\n",
       "      <td>5132 Total Reviews</td>\n",
       "      <td>Very Good</td>\n",
       "      <td>Rs13420.55</td>\n",
       "      <td>Rs1892.84</td>\n",
       "      <td>https://www.hostelworld.com/pwa/hosteldetails....</td>\n",
       "    </tr>\n",
       "    <tr>\n",
       "      <th>3</th>\n",
       "      <td>Generator London</td>\n",
       "      <td>------</td>\n",
       "      <td>Linen Included Free City Maps Free WiFi Free I...</td>\n",
       "      <td>7.6</td>\n",
       "      <td>7798 Total Reviews</td>\n",
       "      <td>Very Good</td>\n",
       "      <td>Rs11582.58</td>\n",
       "      <td>Rs2811.31</td>\n",
       "      <td>https://www.hostelworld.com/pwa/hosteldetails....</td>\n",
       "    </tr>\n",
       "    <tr>\n",
       "      <th>4</th>\n",
       "      <td>PubLove @ The Green Man, Paddington</td>\n",
       "      <td>------</td>\n",
       "      <td>Linen Included Free City Maps Free WiFi</td>\n",
       "      <td>5.5</td>\n",
       "      <td>452 Total Reviews</td>\n",
       "      <td>Rating</td>\n",
       "      <td>Rs3048.05</td>\n",
       "      <td>------</td>\n",
       "      <td>https://www.hostelworld.com/pwa/hosteldetails....</td>\n",
       "    </tr>\n",
       "    <tr>\n",
       "      <th>...</th>\n",
       "      <td>...</td>\n",
       "      <td>...</td>\n",
       "      <td>...</td>\n",
       "      <td>...</td>\n",
       "      <td>...</td>\n",
       "      <td>...</td>\n",
       "      <td>...</td>\n",
       "      <td>...</td>\n",
       "      <td>...</td>\n",
       "    </tr>\n",
       "    <tr>\n",
       "      <th>59</th>\n",
       "      <td>Palmers Lodge - Swiss Cottage</td>\n",
       "      <td>------</td>\n",
       "      <td>------</td>\n",
       "      <td>9.0</td>\n",
       "      <td>15714 Total Reviews</td>\n",
       "      <td>Superb</td>\n",
       "      <td>------</td>\n",
       "      <td>------</td>\n",
       "      <td>https://www.hostelworld.com/pwa/hosteldetails....</td>\n",
       "    </tr>\n",
       "    <tr>\n",
       "      <th>60</th>\n",
       "      <td>Destinations Hostels @ The Gallery</td>\n",
       "      <td>------</td>\n",
       "      <td>------</td>\n",
       "      <td>--------</td>\n",
       "      <td>-----</td>\n",
       "      <td>-------</td>\n",
       "      <td>------</td>\n",
       "      <td>------</td>\n",
       "      <td>https://www.hostelworld.com/pwa/hosteldetails....</td>\n",
       "    </tr>\n",
       "    <tr>\n",
       "      <th>61</th>\n",
       "      <td>PubLove @ The White Ferry, Victoria</td>\n",
       "      <td>------</td>\n",
       "      <td>Linen Included Free City Maps Free WiFi</td>\n",
       "      <td>6.9</td>\n",
       "      <td>379 Total Reviews</td>\n",
       "      <td>Good</td>\n",
       "      <td>Rs4064.06</td>\n",
       "      <td>------</td>\n",
       "      <td>https://www.hostelworld.com/pwa/hosteldetails....</td>\n",
       "    </tr>\n",
       "    <tr>\n",
       "      <th>62</th>\n",
       "      <td>The Backpackshack</td>\n",
       "      <td>Our hostel is located inside a traditional Eng...</td>\n",
       "      <td>Linen Included Free Parking Towels Included Fr...</td>\n",
       "      <td>8.3</td>\n",
       "      <td>780 Total Reviews</td>\n",
       "      <td>Fabulous</td>\n",
       "      <td>Rs5080.08</td>\n",
       "      <td>------</td>\n",
       "      <td>https://www.hostelworld.com/pwa/hosteldetails....</td>\n",
       "    </tr>\n",
       "    <tr>\n",
       "      <th>63</th>\n",
       "      <td>St Christopher's Hammersmith</td>\n",
       "      <td>------</td>\n",
       "      <td>Linen Included Free City Maps Free WiFi Free I...</td>\n",
       "      <td>7.5</td>\n",
       "      <td>4306 Total Reviews</td>\n",
       "      <td>Very Good</td>\n",
       "      <td>------</td>\n",
       "      <td>------</td>\n",
       "      <td>https://www.hostelworld.com/pwa/hosteldetails....</td>\n",
       "    </tr>\n",
       "  </tbody>\n",
       "</table>\n",
       "<p>64 rows × 9 columns</p>\n",
       "</div>"
      ],
      "text/plain": [
       "                             hotel_name  \\\n",
       "0              St Christopher's Village   \n",
       "1         Palmers Lodge - Swiss Cottage   \n",
       "2     Safestay London Elephant & Castle   \n",
       "3                      Generator London   \n",
       "4   PubLove @ The Green Man, Paddington   \n",
       "..                                  ...   \n",
       "59        Palmers Lodge - Swiss Cottage   \n",
       "60   Destinations Hostels @ The Gallery   \n",
       "61  PubLove @ The White Ferry, Victoria   \n",
       "62                    The Backpackshack   \n",
       "63         St Christopher's Hammersmith   \n",
       "\n",
       "                                 property_description  \\\n",
       "0                                              ------   \n",
       "1                                              ------   \n",
       "2                                              ------   \n",
       "3                                              ------   \n",
       "4                                              ------   \n",
       "..                                                ...   \n",
       "59                                             ------   \n",
       "60                                             ------   \n",
       "61                                             ------   \n",
       "62  Our hostel is located inside a traditional Eng...   \n",
       "63                                             ------   \n",
       "\n",
       "                                           facilities  ratingss  \\\n",
       "0       Linen Included Free WiFi Free Internet Access       8.2   \n",
       "1                                              ------       9.0   \n",
       "2                            Linen Included Free WiFi       7.0   \n",
       "3   Linen Included Free City Maps Free WiFi Free I...       7.6   \n",
       "4             Linen Included Free City Maps Free WiFi       5.5   \n",
       "..                                                ...       ...   \n",
       "59                                             ------       9.0   \n",
       "60                                             ------  --------   \n",
       "61            Linen Included Free City Maps Free WiFi       6.9   \n",
       "62  Linen Included Free Parking Towels Included Fr...       8.3   \n",
       "63  Linen Included Free City Maps Free WiFi Free I...       7.5   \n",
       "\n",
       "          total_reviews overall_reviews privates_price dorms_price  \\\n",
       "0   12478 Total Reviews        Fabulous           -10%      ------   \n",
       "1   15714 Total Reviews          Superb         ------      ------   \n",
       "2    5132 Total Reviews       Very Good     Rs13420.55   Rs1892.84   \n",
       "3    7798 Total Reviews       Very Good     Rs11582.58   Rs2811.31   \n",
       "4     452 Total Reviews          Rating      Rs3048.05      ------   \n",
       "..                  ...             ...            ...         ...   \n",
       "59  15714 Total Reviews          Superb         ------      ------   \n",
       "60                -----         -------         ------      ------   \n",
       "61    379 Total Reviews            Good      Rs4064.06      ------   \n",
       "62    780 Total Reviews        Fabulous      Rs5080.08      ------   \n",
       "63   4306 Total Reviews       Very Good         ------      ------   \n",
       "\n",
       "                                              hot_url  \n",
       "0   https://www.hostelworld.com/pwa/hosteldetails....  \n",
       "1   https://www.hostelworld.com/pwa/hosteldetails....  \n",
       "2   https://www.hostelworld.com/pwa/hosteldetails....  \n",
       "3   https://www.hostelworld.com/pwa/hosteldetails....  \n",
       "4   https://www.hostelworld.com/pwa/hosteldetails....  \n",
       "..                                                ...  \n",
       "59  https://www.hostelworld.com/pwa/hosteldetails....  \n",
       "60  https://www.hostelworld.com/pwa/hosteldetails....  \n",
       "61  https://www.hostelworld.com/pwa/hosteldetails....  \n",
       "62  https://www.hostelworld.com/pwa/hosteldetails....  \n",
       "63  https://www.hostelworld.com/pwa/hosteldetails....  \n",
       "\n",
       "[64 rows x 9 columns]"
      ]
     },
     "execution_count": 134,
     "metadata": {},
     "output_type": "execute_result"
    }
   ],
   "source": [
    "avilabale_hotels"
   ]
  },
  {
   "cell_type": "code",
   "execution_count": 135,
   "id": "17fd21ac",
   "metadata": {},
   "outputs": [],
   "source": [
    "driver.close()"
   ]
  },
  {
   "cell_type": "code",
   "execution_count": null,
   "id": "0d0dbc00",
   "metadata": {},
   "outputs": [],
   "source": []
  }
 ],
 "metadata": {
  "kernelspec": {
   "display_name": "Python 3 (ipykernel)",
   "language": "python",
   "name": "python3"
  },
  "language_info": {
   "codemirror_mode": {
    "name": "ipython",
    "version": 3
   },
   "file_extension": ".py",
   "mimetype": "text/x-python",
   "name": "python",
   "nbconvert_exporter": "python",
   "pygments_lexer": "ipython3",
   "version": "3.9.12"
  }
 },
 "nbformat": 4,
 "nbformat_minor": 5
}
