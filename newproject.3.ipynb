{
 "cells": [
  {
   "cell_type": "markdown",
   "id": "3d4689c7",
   "metadata": {},
   "source": [
    "#                          Regular Expressions"
   ]
  },
  {
   "cell_type": "raw",
   "id": "4175cec7",
   "metadata": {},
   "source": []
  },
  {
   "cell_type": "code",
   "execution_count": 3,
   "id": "d71b81ae",
   "metadata": {},
   "outputs": [],
   "source": [
    "import regex as re \n",
    "import numpy as np\n",
    "import pandas as pd"
   ]
  },
  {
   "cell_type": "markdown",
   "id": "f2c76ede",
   "metadata": {},
   "source": [
    "#### Question 1- Write a Python program to replace all occurrences of a space, comma, or dot with a colon.\n",
    "#### Sample Text- 'Python Exercises, PHP exercises.'\n",
    "#### Expected Output: Python:Exercises::PHP:exercises:\n"
   ]
  },
  {
   "cell_type": "code",
   "execution_count": 3,
   "id": "610dbdb8",
   "metadata": {},
   "outputs": [
    {
     "name": "stdout",
     "output_type": "stream",
     "text": [
      "Python:Exercises::PHP:exercises:\n"
     ]
    }
   ],
   "source": [
    "a= 'Python Exercises, PHP exercises.'\n",
    "output= (re.sub(\"[ ,.,]\",\":\", a))\n",
    "print (output)"
   ]
  },
  {
   "cell_type": "markdown",
   "id": "74ee5d60",
   "metadata": {},
   "source": [
    "#### Question 2-  Write a Python program to find all words starting with 'a' or 'e' in a given string.\n"
   ]
  },
  {
   "cell_type": "code",
   "execution_count": 7,
   "id": "758245a9",
   "metadata": {},
   "outputs": [],
   "source": [
    "a= 'Python Exercises, PHP exercises.'\n",
    "ANS= re.findall(\"[ae]\\w+\",a)"
   ]
  },
  {
   "cell_type": "code",
   "execution_count": 8,
   "id": "e9a7aa41",
   "metadata": {},
   "outputs": [
    {
     "name": "stdout",
     "output_type": "stream",
     "text": [
      "['ercises', 'exercises']\n"
     ]
    }
   ],
   "source": [
    "print(ANS)"
   ]
  },
  {
   "cell_type": "code",
   "execution_count": 7,
   "id": "73b81d23",
   "metadata": {},
   "outputs": [],
   "source": []
  },
  {
   "cell_type": "markdown",
   "id": "fd85c0ba",
   "metadata": {},
   "source": [
    "#### Question 3- Create a function in python to find all words that are at least 4 characters long in a string. The use of the re.compile() method is mandatory.\n"
   ]
  },
  {
   "cell_type": "code",
   "execution_count": 69,
   "id": "a7ba07b5",
   "metadata": {},
   "outputs": [
    {
     "name": "stdout",
     "output_type": "stream",
     "text": [
      "[]\n"
     ]
    }
   ],
   "source": [
    "a= 'Python Exercises,PHP exercises.'\n",
    "word = re.compile((r\"\\b\\w{4}\\b\"))\n",
    "ans=word.findall(a)                \n",
    "print(ans)"
   ]
  },
  {
   "cell_type": "code",
   "execution_count": null,
   "id": "9770ae57",
   "metadata": {},
   "outputs": [],
   "source": []
  },
  {
   "cell_type": "markdown",
   "id": "d6f9e765",
   "metadata": {},
   "source": [
    "#### Question 4- Create a function in python to find all three, four, and five character words in a string. The use of the re.compile() method is mandatory.\n"
   ]
  },
  {
   "cell_type": "code",
   "execution_count": 82,
   "id": "aba745b8",
   "metadata": {},
   "outputs": [],
   "source": [
    "a= 'Python Exercises PHP  exercises.'\n",
    "word = re.compile((r\"\\b\\w{3,5}\\b\"))\n"
   ]
  },
  {
   "cell_type": "code",
   "execution_count": 83,
   "id": "e9165362",
   "metadata": {},
   "outputs": [
    {
     "name": "stdout",
     "output_type": "stream",
     "text": [
      "['PHP']\n"
     ]
    }
   ],
   "source": [
    "ans=word.findall(a)                \n",
    "print(ans)"
   ]
  },
  {
   "cell_type": "code",
   "execution_count": null,
   "id": "f496b0ca",
   "metadata": {},
   "outputs": [],
   "source": []
  },
  {
   "cell_type": "markdown",
   "id": "e3193790",
   "metadata": {},
   "source": [
    "#### Question 5- Create a function in Python to remove the parenthesis in a list of strings. The use of the re.compile() method is mandatory.\n"
   ]
  },
  {
   "cell_type": "code",
   "execution_count": 48,
   "id": "9e65047f",
   "metadata": {},
   "outputs": [
    {
     "name": "stdout",
     "output_type": "stream",
     "text": [
      "example (.com)\", \"hr@fliprobo (.com)\", \"github (.com)\", \"Hello (Data Science World)\", \"Data (Scientist)\n"
     ]
    }
   ],
   "source": [
    "x='''example (.com)\", \"hr@fliprobo (.com)\", \"github (.com)\", \"Hello (Data Science World)\", \"Data (Scientist)'''\n",
    "print(x)"
   ]
  },
  {
   "cell_type": "code",
   "execution_count": 49,
   "id": "49ed6698",
   "metadata": {
    "scrolled": true
   },
   "outputs": [],
   "source": [
    "run=re.sub(r\"[()]\",\"\",x)"
   ]
  },
  {
   "cell_type": "code",
   "execution_count": 50,
   "id": "f9c55944",
   "metadata": {
    "scrolled": true
   },
   "outputs": [
    {
     "name": "stdout",
     "output_type": "stream",
     "text": [
      "example .com\", \"hr@fliprobo .com\", \"github .com\", \"Hello Data Science World\", \"Data Scientist\n"
     ]
    }
   ],
   "source": [
    "print(run)\n"
   ]
  },
  {
   "cell_type": "code",
   "execution_count": null,
   "id": "5c5b9c81",
   "metadata": {},
   "outputs": [],
   "source": []
  },
  {
   "cell_type": "markdown",
   "id": "c6dd8318",
   "metadata": {},
   "source": [
    "#### Question 6- Write a python program to remove the parenthesis area from the text stored in the text file using Regular Expression.\n",
    "#### Sample Text: [\"example (.com)\", \"hr@fliprobo (.com)\", \"github (.com)\", \"Hello (Data Science World)\", \"Data (Scientist)\"]\n",
    "#### Expected Output: [\"example\", \"hr@fliprobo\", \"github\", \"Hello\", \"Data\"]\n",
    "#### Note- Store given sample text in the text file and then to remove the parenthesis area from the text.\n",
    "\n"
   ]
  },
  {
   "cell_type": "code",
   "execution_count": 60,
   "id": "15f5c2cd",
   "metadata": {},
   "outputs": [],
   "source": []
  },
  {
   "cell_type": "code",
   "execution_count": 72,
   "id": "6a077ec9",
   "metadata": {},
   "outputs": [
    {
     "name": "stdout",
     "output_type": "stream",
     "text": [
      "\"example\", \"hr@fliprobo\", \"github\", \"Hello\", \"Data\"\n",
      "\n",
      "Expected Output:\"example\", \"hr@fliprobo\", \"github\", \"Hello\", \"Data\"\n"
     ]
    }
   ],
   "source": [
    "with open(r'C:\\Users\\garbi\\OneDrive\\Documents\\Python Scripts\\sample_text.txt')as file:\n",
    "    for line in file:\n",
    "        zzz=re.sub(r\" ?\\([^)]+\\)\", \"\",line)\n",
    "        print(zzz)"
   ]
  },
  {
   "cell_type": "code",
   "execution_count": null,
   "id": "12f62d0c",
   "metadata": {},
   "outputs": [],
   "source": []
  },
  {
   "cell_type": "markdown",
   "id": "b75b9b34",
   "metadata": {},
   "source": [
    "#### Question 7- Write a regular expression in Python to split a string into uppercase letters.\n",
    "#### Sample text: “ImportanceOfRegularExpressionsInPython”\n",
    "#### Expected Output: [‘Importance’, ‘Of’, ‘Regular’, ‘Expression’, ‘In’, ‘Python’]\n"
   ]
  },
  {
   "cell_type": "code",
   "execution_count": 92,
   "id": "c167ba07",
   "metadata": {},
   "outputs": [],
   "source": [
    "t= '''ImportanceOfRegularExpressionsInPython'''"
   ]
  },
  {
   "cell_type": "code",
   "execution_count": 102,
   "id": "ff974e57",
   "metadata": {
    "scrolled": false
   },
   "outputs": [],
   "source": [
    "expt=re.split(r'(?=[A-Z]+)',t)"
   ]
  },
  {
   "cell_type": "code",
   "execution_count": 103,
   "id": "59bc1d41",
   "metadata": {},
   "outputs": [
    {
     "name": "stdout",
     "output_type": "stream",
     "text": [
      "['', 'Importance', 'Of', 'Regular', 'Expressions', 'In', 'Python']\n"
     ]
    }
   ],
   "source": [
    "print(expt)"
   ]
  },
  {
   "cell_type": "code",
   "execution_count": null,
   "id": "e607ceae",
   "metadata": {},
   "outputs": [],
   "source": []
  },
  {
   "cell_type": "markdown",
   "id": "1e7e37b4",
   "metadata": {},
   "source": [
    "#### Question 8- Create a function in python to insert spaces between words starting with numbers.\n",
    "#### Sample Text: “RegularExpression1IsAn2ImportantTopic3InPython\"\n",
    "#### Expected Output: RegularExpression 1IsAn 2ImportantTopic 3InPython\n"
   ]
  },
  {
   "cell_type": "code",
   "execution_count": 137,
   "id": "6b796538",
   "metadata": {},
   "outputs": [],
   "source": [
    "i=re.compile(r'(\\d+).(\\w+)')"
   ]
  },
  {
   "cell_type": "code",
   "execution_count": 104,
   "id": "37d814ed",
   "metadata": {},
   "outputs": [],
   "source": [
    "xx= '''RegularExpression1IsAn2ImportantTopic3InPython'''"
   ]
  },
  {
   "cell_type": "code",
   "execution_count": 149,
   "id": "11c90496",
   "metadata": {},
   "outputs": [
    {
     "name": "stdout",
     "output_type": "stream",
     "text": [
      "['RegularExpression', '1', 'IsAn', '2', 'ImportantTopic', '3', 'InPython']\n"
     ]
    }
   ],
   "source": [
    "exptr=re.split(r'(\\d+)',xx)\n",
    "print(exptr)"
   ]
  },
  {
   "cell_type": "code",
   "execution_count": null,
   "id": "beae0828",
   "metadata": {},
   "outputs": [],
   "source": []
  },
  {
   "cell_type": "markdown",
   "id": "242a0766",
   "metadata": {},
   "source": [
    "#### Question 9- Create a function in python to insert spaces between words starting with capital letters or with numbers.\n",
    "#### Sample Text: “RegularExpression1IsAn2ImportantTopic3InPython\"\n",
    "#### Expected Output:  RegularExpression 1 IsAn 2 ImportantTopic 3 InPython\n"
   ]
  },
  {
   "cell_type": "code",
   "execution_count": null,
   "id": "b48c1d8a",
   "metadata": {},
   "outputs": [],
   "source": []
  },
  {
   "cell_type": "code",
   "execution_count": 150,
   "id": "948aafa7",
   "metadata": {},
   "outputs": [],
   "source": [
    "samplx='''RegularExpression1IsAn2ImportantTopic3InPython'''"
   ]
  },
  {
   "cell_type": "code",
   "execution_count": 158,
   "id": "f71b6b9a",
   "metadata": {},
   "outputs": [],
   "source": [
    "gg=re.split(r'(A-Z)|(\\d)',samplx)"
   ]
  },
  {
   "cell_type": "code",
   "execution_count": 159,
   "id": "fb1787e0",
   "metadata": {},
   "outputs": [
    {
     "name": "stdout",
     "output_type": "stream",
     "text": [
      "['RegularExpression', None, '1', 'IsAn', None, '2', 'ImportantTopic', None, '3', 'InPython']\n"
     ]
    }
   ],
   "source": [
    "print(gg)"
   ]
  },
  {
   "cell_type": "code",
   "execution_count": null,
   "id": "2c1febf1",
   "metadata": {},
   "outputs": [],
   "source": []
  },
  {
   "cell_type": "markdown",
   "id": "849a3d33",
   "metadata": {},
   "source": [
    "#### Question 10- Write a python program to extract email address from the text stored in the text file using Regular Expression.\n",
    "#### Sample Text- Hello my name is Data Science and my email address is xyz@domain.com and alternate email address is xyz.abc@sdomain.domain.com. \n",
    "#### Please contact us at hr@fliprobo.com for further information. \n",
    "#### Expected Output: \n",
    "#### ['xyz@domain.com', 'xyz.abc@sdomain.domain.com']\n",
    "#### ['hr@fliprobo.com']\n"
   ]
  },
  {
   "cell_type": "code",
   "execution_count": null,
   "id": "ef7a4167",
   "metadata": {},
   "outputs": [],
   "source": []
  },
  {
   "cell_type": "code",
   "execution_count": 184,
   "id": "57b71433",
   "metadata": {},
   "outputs": [],
   "source": [
    "aaa='''Hello my name is Data Science and my email address is xyz@domain.com and alternate email address is xyz.abc@sdomain.domain.com.\n",
    "Please contact us at hr@fliprobo.com for further information.\n",
    "'''"
   ]
  },
  {
   "cell_type": "code",
   "execution_count": 185,
   "id": "d9de4069",
   "metadata": {},
   "outputs": [],
   "source": [
    "Aaa=re.findall('\\S+@\\S+',aaa)"
   ]
  },
  {
   "cell_type": "code",
   "execution_count": 197,
   "id": "aec4594d",
   "metadata": {},
   "outputs": [
    {
     "name": "stdout",
     "output_type": "stream",
     "text": [
      "['xyz@domain.com', 'xyz.abc@sdomain.domain.com.', 'hr@fliprobo.com']\n"
     ]
    }
   ],
   "source": [
    "print(Aaa)"
   ]
  },
  {
   "cell_type": "code",
   "execution_count": null,
   "id": "daf1dcb4",
   "metadata": {},
   "outputs": [],
   "source": []
  },
  {
   "cell_type": "markdown",
   "id": "86cc68ea",
   "metadata": {},
   "source": [
    "#### Question 11- Write a Python program to match a string that contains only upper and lowercase letters,\n",
    "#### numbers, and underscores\n",
    "      "
   ]
  },
  {
   "cell_type": "markdown",
   "id": "88b15983",
   "metadata": {},
   "source": []
  },
  {
   "cell_type": "code",
   "execution_count": 207,
   "id": "500443d7",
   "metadata": {},
   "outputs": [],
   "source": [
    "stri=''''xyz@domain.com', 'xyz.abc@sdomain.domain.com.',_ 'hr@fliprobo.com_'''"
   ]
  },
  {
   "cell_type": "code",
   "execution_count": 208,
   "id": "1a654603",
   "metadata": {},
   "outputs": [
    {
     "name": "stdout",
     "output_type": "stream",
     "text": [
      "['x', 'y', 'z', 'd', 'o', 'm', 'a', 'i', 'n', 'c', 'o', 'm', 'x', 'y', 'z', 'a', 'b', 'c', 's', 'd', 'o', 'm', 'a', 'i', 'n', 'd', 'o', 'm', 'a', 'i', 'n', 'c', 'o', 'm', '_', 'h', 'r', 'f', 'l', 'i', 'p', 'r', 'o', 'b', 'o', 'c', 'o', 'm', '_']\n"
     ]
    }
   ],
   "source": [
    "stria=re.findall(r'[\\w+{A-Za-z}\\b+_]',stri)\n",
    "print(stria)"
   ]
  },
  {
   "cell_type": "code",
   "execution_count": null,
   "id": "08126fcc",
   "metadata": {},
   "outputs": [],
   "source": []
  },
  {
   "cell_type": "markdown",
   "id": "5bb280dc",
   "metadata": {},
   "source": [
    "#### Question 12- Write a Python program where a string will start with a specific number. "
   ]
  },
  {
   "cell_type": "code",
   "execution_count": null,
   "id": "e9711b47",
   "metadata": {},
   "outputs": [],
   "source": []
  },
  {
   "cell_type": "code",
   "execution_count": 209,
   "id": "c1d37362",
   "metadata": {},
   "outputs": [],
   "source": [
    "que='''11- Write a Python program to match a string that contains only upper and lowercase letters'''"
   ]
  },
  {
   "cell_type": "code",
   "execution_count": 213,
   "id": "ac1b4aad",
   "metadata": {},
   "outputs": [],
   "source": [
    "quea=re.search(r'\\A\\d',que)"
   ]
  },
  {
   "cell_type": "code",
   "execution_count": 214,
   "id": "60f1c3c8",
   "metadata": {},
   "outputs": [
    {
     "name": "stdout",
     "output_type": "stream",
     "text": [
      "<re.Match object; span=(0, 1), match='1'>\n"
     ]
    }
   ],
   "source": [
    "print(quea)"
   ]
  },
  {
   "cell_type": "code",
   "execution_count": null,
   "id": "1e804e91",
   "metadata": {},
   "outputs": [],
   "source": []
  },
  {
   "cell_type": "markdown",
   "id": "53b543e3",
   "metadata": {},
   "source": [
    "#### Question 13- Write a Python program to remove leading zeros from an IP address\n"
   ]
  },
  {
   "cell_type": "code",
   "execution_count": 234,
   "id": "fa1ab564",
   "metadata": {},
   "outputs": [],
   "source": [
    "lll=''' 002 is Data Scienceo and omy email oaddress  is'''"
   ]
  },
  {
   "cell_type": "code",
   "execution_count": 265,
   "id": "a0f2565b",
   "metadata": {},
   "outputs": [],
   "source": [
    "llla=re.sub(r'[0]','',lll)"
   ]
  },
  {
   "cell_type": "code",
   "execution_count": 266,
   "id": "4e1cce5c",
   "metadata": {},
   "outputs": [
    {
     "name": "stdout",
     "output_type": "stream",
     "text": [
      " 2 is Data Scienceo and omy email oaddress  is\n"
     ]
    }
   ],
   "source": [
    "print(llla)"
   ]
  },
  {
   "cell_type": "code",
   "execution_count": null,
   "id": "f2233500",
   "metadata": {},
   "outputs": [],
   "source": []
  },
  {
   "cell_type": "markdown",
   "id": "ce8205d3",
   "metadata": {},
   "source": [
    "#### Question 14- Write a regular expression in python to match a date string in the form of Month name followed by day number and year stored in a text file.\n",
    "#### Sample text :  ' On August 15th 1947 that India was declared independent from British colonialism, and the reins of control were handed over to the leaders of the Country’.\n",
    "#### Expected Output- August 15th 1947\n",
    "#### Note- Store given sample text in the text file and then extract the date string asked format.\n"
   ]
  },
  {
   "cell_type": "code",
   "execution_count": null,
   "id": "cfad8e0b",
   "metadata": {},
   "outputs": [],
   "source": []
  },
  {
   "cell_type": "code",
   "execution_count": 267,
   "id": "26b2e596",
   "metadata": {},
   "outputs": [],
   "source": [
    "j=''' On August 15th 1947 that India was declared independent from British colonialism, and the reins of control were handed over to the leaders of the Country’.¶'''"
   ]
  },
  {
   "cell_type": "code",
   "execution_count": 291,
   "id": "3df834a3",
   "metadata": {},
   "outputs": [],
   "source": [
    "date=re.findall(r'\\d{2}\\w{2} \\d{4}',j)"
   ]
  },
  {
   "cell_type": "code",
   "execution_count": 292,
   "id": "b2ce766e",
   "metadata": {},
   "outputs": [
    {
     "name": "stdout",
     "output_type": "stream",
     "text": [
      "['15th 1947']\n"
     ]
    }
   ],
   "source": [
    "print(date)"
   ]
  },
  {
   "cell_type": "code",
   "execution_count": null,
   "id": "ba102e7f",
   "metadata": {},
   "outputs": [],
   "source": []
  },
  {
   "cell_type": "markdown",
   "id": "12507589",
   "metadata": {},
   "source": [
    "#### Question 15- Write a Python program to search some literals strings in a string. \n",
    "#### Sample text : 'The quick brown fox jumps over the lazy dog.'\n",
    "#### Searched words : 'fox', 'dog', 'horse'\n"
   ]
  },
  {
   "cell_type": "code",
   "execution_count": null,
   "id": "201024f6",
   "metadata": {},
   "outputs": [],
   "source": []
  },
  {
   "cell_type": "code",
   "execution_count": 294,
   "id": "4c4ecd17",
   "metadata": {},
   "outputs": [],
   "source": [
    "ext=''' 'The quick brown fox jumps over the lazy dog.'''"
   ]
  },
  {
   "cell_type": "code",
   "execution_count": 309,
   "id": "40baecae",
   "metadata": {},
   "outputs": [],
   "source": [
    "extans=re.findall(r' .o.' ,ext)"
   ]
  },
  {
   "cell_type": "code",
   "execution_count": 310,
   "id": "2f05e5e5",
   "metadata": {},
   "outputs": [
    {
     "name": "stdout",
     "output_type": "stream",
     "text": [
      "[' fox', ' dog']\n"
     ]
    }
   ],
   "source": [
    "print(extans)"
   ]
  },
  {
   "cell_type": "code",
   "execution_count": null,
   "id": "7249ce6c",
   "metadata": {},
   "outputs": [],
   "source": []
  },
  {
   "cell_type": "markdown",
   "id": "eedc8fc2",
   "metadata": {},
   "source": [
    "#### Question 16- Write a Python program to search a literals string in a string and also find the location within the original string where the pattern occurs\n",
    "#### Sample text : 'The quick brown fox jumps over the lazy dog.'\n",
    "#### Searched words : 'fox'\n"
   ]
  },
  {
   "cell_type": "code",
   "execution_count": null,
   "id": "eea77a8e",
   "metadata": {},
   "outputs": [],
   "source": []
  },
  {
   "cell_type": "code",
   "execution_count": 338,
   "id": "8649e326",
   "metadata": {},
   "outputs": [],
   "source": [
    "ext='''The quick brown fox jumps over the lazy dog.'''"
   ]
  },
  {
   "cell_type": "code",
   "execution_count": 343,
   "id": "ebff79f4",
   "metadata": {},
   "outputs": [],
   "source": [
    "extansas=re.finditer(r' .o.' ,ext)\n",
    "extansa=re.findall(r' .o.' ,ext)"
   ]
  },
  {
   "cell_type": "code",
   "execution_count": 345,
   "id": "3a954a08",
   "metadata": {},
   "outputs": [
    {
     "name": "stdout",
     "output_type": "stream",
     "text": [
      "[' fox', ' dog']\n",
      "<callable_iterator object at 0x000002383EB427A0>\n"
     ]
    }
   ],
   "source": [
    "print(extansa)\n",
    "print(extansas)"
   ]
  },
  {
   "cell_type": "code",
   "execution_count": null,
   "id": "2616f0b8",
   "metadata": {},
   "outputs": [],
   "source": []
  },
  {
   "cell_type": "markdown",
   "id": "3a7ac822",
   "metadata": {},
   "source": [
    "#### Question 17- Write a Python program to find the substrings within a string.\n",
    "#### Sample text : 'Python exercises, PHP exercises, C# exercises'\n",
    "#### Pattern : 'exercises'.\n"
   ]
  },
  {
   "cell_type": "code",
   "execution_count": 346,
   "id": "4bb1fe06",
   "metadata": {},
   "outputs": [],
   "source": [
    "qwe=''' 'Python exercises, PHP exercises, C# exercises'''"
   ]
  },
  {
   "cell_type": "code",
   "execution_count": 364,
   "id": "d534c7a1",
   "metadata": {},
   "outputs": [],
   "source": [
    "qweans=re.findall(r'\\W\\w+',qwe)"
   ]
  },
  {
   "cell_type": "code",
   "execution_count": 365,
   "id": "8c4c4642",
   "metadata": {},
   "outputs": [
    {
     "name": "stdout",
     "output_type": "stream",
     "text": [
      "[\"'Python\", ' exercises', ' PHP', ' exercises', ' C', ' exercises']\n"
     ]
    }
   ],
   "source": [
    "print(qweans)"
   ]
  },
  {
   "cell_type": "code",
   "execution_count": null,
   "id": "1c780a1a",
   "metadata": {},
   "outputs": [],
   "source": []
  },
  {
   "cell_type": "markdown",
   "id": "bdaca37d",
   "metadata": {},
   "source": [
    "#### Question 18- Write a Python program to find the occurrence and position of the substrings within a string.\n"
   ]
  },
  {
   "cell_type": "code",
   "execution_count": null,
   "id": "a0f606a4",
   "metadata": {},
   "outputs": [],
   "source": []
  },
  {
   "cell_type": "code",
   "execution_count": 366,
   "id": "fa804c58",
   "metadata": {},
   "outputs": [],
   "source": [
    "qweans=re.findall(r'\\W\\w+',qwe)\n",
    "qwans=re.finditer(r'\\W\\w+',qwe)"
   ]
  },
  {
   "cell_type": "code",
   "execution_count": 367,
   "id": "2eafaefd",
   "metadata": {},
   "outputs": [
    {
     "name": "stdout",
     "output_type": "stream",
     "text": [
      "[\"'Python\", ' exercises', ' PHP', ' exercises', ' C', ' exercises']\n",
      "<callable_iterator object at 0x000002383CCA8070>\n"
     ]
    }
   ],
   "source": [
    "print(qweans)\n",
    "print(qwans)"
   ]
  },
  {
   "cell_type": "code",
   "execution_count": null,
   "id": "279b4f7a",
   "metadata": {},
   "outputs": [],
   "source": []
  },
  {
   "cell_type": "markdown",
   "id": "629228ae",
   "metadata": {},
   "source": [
    "#### Question 19- Write a Python program to convert a date of yyyy-mm-dd format to dd-mm-yyyy format.\n"
   ]
  },
  {
   "cell_type": "code",
   "execution_count": 369,
   "id": "c84892cb",
   "metadata": {},
   "outputs": [],
   "source": [
    "nm='2003-03-10'"
   ]
  },
  {
   "cell_type": "code",
   "execution_count": 370,
   "id": "af9e30c6",
   "metadata": {},
   "outputs": [],
   "source": [
    "mn= re.sub(r'(\\d{4})-(\\d{1,2})-(\\d{1,2})', '\\\\3-\\\\2-\\\\1',nm)"
   ]
  },
  {
   "cell_type": "code",
   "execution_count": 371,
   "id": "6d9c9bf1",
   "metadata": {},
   "outputs": [
    {
     "name": "stdout",
     "output_type": "stream",
     "text": [
      "10-03-2003\n"
     ]
    }
   ],
   "source": [
    "print(mn)"
   ]
  },
  {
   "cell_type": "code",
   "execution_count": null,
   "id": "09acf3e2",
   "metadata": {},
   "outputs": [],
   "source": []
  },
  {
   "cell_type": "markdown",
   "id": "76105366",
   "metadata": {},
   "source": [
    "#### Question 20- Create a function in python to find all decimal numbers with a precision of 1 or 2 in a string. The use of the re.compile() method is mandatory.\n",
    "#### Sample Text: \"01.12 0132.123 2.31875 145.8 3.01 27.25 0.25\"\n",
    "#### Expected Output: ['01.12', '145.8', '3.01', '27.25', '0.25']"
   ]
  },
  {
   "cell_type": "code",
   "execution_count": 374,
   "id": "7393f992",
   "metadata": {},
   "outputs": [],
   "source": [
    "f= \"01.12 0132.123 2.31875 145.8 3.01 27.25 0.25\""
   ]
  },
  {
   "cell_type": "code",
   "execution_count": 375,
   "id": "f57ff0e2",
   "metadata": {},
   "outputs": [],
   "source": [
    "ff=re.compile(r'\\b\\d+\\.\\d{1,2}\\b')\n"
   ]
  },
  {
   "cell_type": "code",
   "execution_count": 376,
   "id": "8cbd7539",
   "metadata": {},
   "outputs": [],
   "source": [
    "fff=ff.findall(f)"
   ]
  },
  {
   "cell_type": "code",
   "execution_count": 377,
   "id": "980020e7",
   "metadata": {},
   "outputs": [
    {
     "name": "stdout",
     "output_type": "stream",
     "text": [
      "['01.12', '145.8', '3.01', '27.25', '0.25']\n"
     ]
    }
   ],
   "source": [
    "print(fff)"
   ]
  },
  {
   "cell_type": "code",
   "execution_count": null,
   "id": "946718ae",
   "metadata": {},
   "outputs": [],
   "source": []
  },
  {
   "cell_type": "markdown",
   "id": "98f6cba2",
   "metadata": {},
   "source": [
    "#### Question 21- Write a Python program to separate and print the numbers and their position of a given string.\n"
   ]
  },
  {
   "cell_type": "code",
   "execution_count": null,
   "id": "407d6588",
   "metadata": {},
   "outputs": [],
   "source": []
  },
  {
   "cell_type": "code",
   "execution_count": 1,
   "id": "cade51f0",
   "metadata": {},
   "outputs": [],
   "source": [
    "ee='''My marks in each semester are: 947, 896, 926, 524, 734, 950, 642'''"
   ]
  },
  {
   "cell_type": "code",
   "execution_count": 5,
   "id": "f5647130",
   "metadata": {},
   "outputs": [
    {
     "name": "stdout",
     "output_type": "stream",
     "text": [
      "<_regex.Scanner object at 0x000001CA98A12CA0>\n",
      "['9', '4', '7', '8', '9', '6', '9', '2', '6', '5', '2', '4', '7', '3', '4', '9', '5', '0', '6', '4', '2']\n"
     ]
    }
   ],
   "source": [
    "eea=re.finditer(r'\\d',ee)\n",
    "print(eea)\n",
    "eeaa=re.findall(r'\\d',ee)\n",
    "print(eeaa)"
   ]
  },
  {
   "cell_type": "code",
   "execution_count": null,
   "id": "d2cabe1a",
   "metadata": {},
   "outputs": [],
   "source": []
  },
  {
   "cell_type": "markdown",
   "id": "fcd0118b",
   "metadata": {},
   "source": [
    "#### Question 22- Write a regular expression in python program to extract maximum/largest numeric value from a string.\n",
    "#### Sample Text:  'My marks in each semester are: 947, 896, 926, 524, 734, 950, 642'\n",
    "#### Expected Output: 950\n"
   ]
  },
  {
   "cell_type": "code",
   "execution_count": null,
   "id": "69d2a141",
   "metadata": {},
   "outputs": [],
   "source": []
  },
  {
   "cell_type": "code",
   "execution_count": 6,
   "id": "1422b49e",
   "metadata": {},
   "outputs": [],
   "source": [
    "qa='''My marks in each semester are: 947, 896, 926, 524, 734, 950, 642'''"
   ]
  },
  {
   "cell_type": "code",
   "execution_count": 8,
   "id": "04f37bce",
   "metadata": {},
   "outputs": [
    {
     "name": "stdout",
     "output_type": "stream",
     "text": [
      "950\n"
     ]
    }
   ],
   "source": [
    "qaa=re.findall(r'\\d+',qa)\n",
    "qqaa=max(qaa)\n",
    "print(qqaa)"
   ]
  },
  {
   "cell_type": "code",
   "execution_count": null,
   "id": "7c35acce",
   "metadata": {},
   "outputs": [],
   "source": []
  },
  {
   "cell_type": "markdown",
   "id": "cc2b9201",
   "metadata": {},
   "source": [
    "#### Question 23- Create a function in python to insert spaces between words starting with capital letters.\n",
    "#### Sample Text: “RegularExpressionIsAnImportantTopicInPython\"\n",
    "#### Expected Output: Regular Expression Is An Important Topic In Python\n"
   ]
  },
  {
   "cell_type": "code",
   "execution_count": null,
   "id": "2b4e2471",
   "metadata": {},
   "outputs": [],
   "source": []
  },
  {
   "cell_type": "code",
   "execution_count": 10,
   "id": "96a85a59",
   "metadata": {},
   "outputs": [],
   "source": [
    "op='''RegularExpressionIsAnImportantTopicInPython'''"
   ]
  },
  {
   "cell_type": "code",
   "execution_count": 63,
   "id": "d91d37f3",
   "metadata": {},
   "outputs": [
    {
     "name": "stdout",
     "output_type": "stream",
     "text": [
      " Regular Expression Is An Important Topic In Python\n"
     ]
    }
   ],
   "source": [
    "opp=re.sub(r\"([A-Z])+\", r\" \\1\", op)\n",
    "print (opp)"
   ]
  },
  {
   "cell_type": "code",
   "execution_count": null,
   "id": "5bdb8d06",
   "metadata": {},
   "outputs": [],
   "source": []
  },
  {
   "cell_type": "markdown",
   "id": "d72d9212",
   "metadata": {},
   "source": [
    "#### Question 24- Python regex to find sequences of one upper case letter followed by lower case letters\n"
   ]
  },
  {
   "cell_type": "code",
   "execution_count": 85,
   "id": "b70dfd55",
   "metadata": {},
   "outputs": [],
   "source": [
    "\n"
   ]
  },
  {
   "cell_type": "code",
   "execution_count": 126,
   "id": "ece915b4",
   "metadata": {},
   "outputs": [],
   "source": [
    "kl=''' Regular Expression Is An Important Topic In Python'''"
   ]
  },
  {
   "cell_type": "code",
   "execution_count": 135,
   "id": "2fe35748",
   "metadata": {},
   "outputs": [],
   "source": [
    "pattern =re.compile('([A-Z])+([a-z])')"
   ]
  },
  {
   "cell_type": "code",
   "execution_count": 140,
   "id": "9906e5a1",
   "metadata": {},
   "outputs": [],
   "source": [
    "def match (kl):\n",
    "    if kll==pattern.findall(kl):\n",
    "        return 'bigcase!'\n",
    "    else:\n",
    "        return('no!')\n",
    "        \n",
    "        \n",
    "    "
   ]
  },
  {
   "cell_type": "code",
   "execution_count": 143,
   "id": "3b878db5",
   "metadata": {},
   "outputs": [
    {
     "name": "stdout",
     "output_type": "stream",
     "text": [
      "no!\n"
     ]
    }
   ],
   "source": [
    "print(match(kl))\n"
   ]
  },
  {
   "cell_type": "code",
   "execution_count": null,
   "id": "58a85b41",
   "metadata": {},
   "outputs": [],
   "source": []
  },
  {
   "cell_type": "markdown",
   "id": "b68ddfbb",
   "metadata": {},
   "source": [
    "#### Question 25- Write a Python program to remove continuous duplicate words from Sentence using Regular Expression.\n",
    "#### Sample Text: \"Hello hello world world\"\n",
    "#### Expected Output: Hello hello world\n"
   ]
  },
  {
   "cell_type": "code",
   "execution_count": null,
   "id": "b150458c",
   "metadata": {},
   "outputs": [],
   "source": []
  },
  {
   "cell_type": "code",
   "execution_count": 145,
   "id": "a1616949",
   "metadata": {},
   "outputs": [],
   "source": [
    "tt='''Hello hello world world'''"
   ]
  },
  {
   "cell_type": "code",
   "execution_count": 174,
   "id": "5bdb212d",
   "metadata": {},
   "outputs": [],
   "source": [
    "ttt=re.sub(r'\\b(\\w+)(\\s+\\1)+\\b', r'\\1', tt)"
   ]
  },
  {
   "cell_type": "code",
   "execution_count": 175,
   "id": "057632f0",
   "metadata": {},
   "outputs": [
    {
     "name": "stdout",
     "output_type": "stream",
     "text": [
      "Hello hello world\n"
     ]
    }
   ],
   "source": [
    "print(ttt)"
   ]
  },
  {
   "cell_type": "code",
   "execution_count": null,
   "id": "68450e36",
   "metadata": {},
   "outputs": [],
   "source": []
  },
  {
   "cell_type": "markdown",
   "id": "0b6a2ad3",
   "metadata": {},
   "source": [
    "#### Question 26-  Write a python program using RegEx to accept string ending with alphanumeric character"
   ]
  },
  {
   "cell_type": "code",
   "execution_count": null,
   "id": "96d339ea",
   "metadata": {},
   "outputs": [],
   "source": []
  },
  {
   "cell_type": "code",
   "execution_count": 202,
   "id": "f3f3260d",
   "metadata": {},
   "outputs": [],
   "source": [
    "tti=re.findall(r'[\\w]$',tt)"
   ]
  },
  {
   "cell_type": "code",
   "execution_count": 203,
   "id": "031d1bdf",
   "metadata": {},
   "outputs": [
    {
     "name": "stdout",
     "output_type": "stream",
     "text": [
      "['d']\n"
     ]
    }
   ],
   "source": [
    "print(tti)"
   ]
  },
  {
   "cell_type": "code",
   "execution_count": 204,
   "id": "612ff039",
   "metadata": {},
   "outputs": [],
   "source": [
    "def check (tt):\n",
    "    if re.search(r'[a-zA-Z0-9]$', tt):\n",
    "        print(\"accept\")\n",
    "    else:\n",
    "        print(\"seclin\")"
   ]
  },
  {
   "cell_type": "code",
   "execution_count": 207,
   "id": "9d564d21",
   "metadata": {},
   "outputs": [
    {
     "name": "stdout",
     "output_type": "stream",
     "text": [
      "accept\n"
     ]
    }
   ],
   "source": [
    "check(tt)"
   ]
  },
  {
   "cell_type": "code",
   "execution_count": null,
   "id": "da2b80c7",
   "metadata": {},
   "outputs": [],
   "source": []
  },
  {
   "cell_type": "markdown",
   "id": "067afa3a",
   "metadata": {},
   "source": [
    "#### Question 27-Write a python program using RegEx to extract the hashtags.\n",
    "#### Sample Text:  \"\"\"RT @kapil_kausik: #Doltiwal I mean #xyzabc is \"hurt\" by #Demonetization as the same has rendered USELESS #### <ed><U+00A0><U+00BD><ed><U+00B1><U+0089> \"acquired funds\" No wo\"\"\"\n",
    "#### Expected Output: ['#Doltiwal', '#xyzabc', '#Demonetization']\n"
   ]
  },
  {
   "cell_type": "code",
   "execution_count": null,
   "id": "72b25f98",
   "metadata": {},
   "outputs": [],
   "source": []
  },
  {
   "cell_type": "code",
   "execution_count": 208,
   "id": "0885bb6a",
   "metadata": {},
   "outputs": [],
   "source": [
    "textt='''RT @kapil_kausik: #Doltiwal I mean #xyzabc is \"hurt\" by #Demonetization as the same has rendered \n",
    "USELESS #### <U+00A0><U+00BD><U+00B1><U+0089> \"acquired funds\" No wo'''"
   ]
  },
  {
   "cell_type": "code",
   "execution_count": 209,
   "id": "e495f772",
   "metadata": {},
   "outputs": [],
   "source": [
    "ttextt=re.findall(r'#\\w+',textt)"
   ]
  },
  {
   "cell_type": "code",
   "execution_count": 210,
   "id": "2e1b96d9",
   "metadata": {},
   "outputs": [
    {
     "name": "stdout",
     "output_type": "stream",
     "text": [
      "['#Doltiwal', '#xyzabc', '#Demonetization']\n"
     ]
    }
   ],
   "source": [
    "print(ttextt)"
   ]
  },
  {
   "cell_type": "code",
   "execution_count": null,
   "id": "b06437c6",
   "metadata": {},
   "outputs": [],
   "source": []
  },
  {
   "cell_type": "markdown",
   "id": "09496221",
   "metadata": {},
   "source": [
    "#### Question 28- Write a python program using RegEx to remove <U+..> like symbols\n",
    "#### Check the below sample text, there are strange symbols something of the sort <U+..> all over the place. You need to come up with a general Regex expression that will cover all such symbols.\n",
    "#### Sample Text: \"@Jags123456 Bharat band on 28??<ed><U+00A0><U+00BD><ed><U+00B8><U+0082>Those who  are protesting #demonetization  are all different party leaders\"\n",
    "#### Expected Output: @Jags123456 Bharat band on 28??<ed><ed>Those who  are protesting #demonetization  are all different party leaders\n"
   ]
  },
  {
   "cell_type": "code",
   "execution_count": null,
   "id": "37a46bde",
   "metadata": {},
   "outputs": [],
   "source": []
  },
  {
   "cell_type": "code",
   "execution_count": 212,
   "id": "64119918",
   "metadata": {},
   "outputs": [],
   "source": [
    "hh='''@Jags123456 Bharat band on 28??<U+00A0><U+00BD><U+00B8><U+0082>Those \n",
    "who are protesting #demonetization are all different party leaders\"'''"
   ]
  },
  {
   "cell_type": "code",
   "execution_count": 213,
   "id": "22a9e2d6",
   "metadata": {},
   "outputs": [],
   "source": [
    "hha=re.sub(r'<.+....>',\"\",hh)"
   ]
  },
  {
   "cell_type": "code",
   "execution_count": 214,
   "id": "cd910f37",
   "metadata": {},
   "outputs": [
    {
     "name": "stdout",
     "output_type": "stream",
     "text": [
      "@Jags123456 Bharat band on 28??Those \n",
      "who are protesting #demonetization are all different party leaders\"\n"
     ]
    }
   ],
   "source": [
    "print(hha)"
   ]
  },
  {
   "cell_type": "code",
   "execution_count": null,
   "id": "51fb4d45",
   "metadata": {},
   "outputs": [],
   "source": []
  },
  {
   "cell_type": "markdown",
   "id": "8841652a",
   "metadata": {},
   "source": [
    "#### Question 29- Write a python program to extract dates from the text stored in the text file.\n",
    "#### Sample Text: Ron was born on 12-09-1992 and he was admitted to school 15-12-1999.\n",
    "#### Note- Store this sample text in the file and then extract dates.\n"
   ]
  },
  {
   "cell_type": "code",
   "execution_count": null,
   "id": "22adbf92",
   "metadata": {},
   "outputs": [],
   "source": []
  },
  {
   "cell_type": "code",
   "execution_count": 217,
   "id": "475aef48",
   "metadata": {},
   "outputs": [
    {
     "name": "stdout",
     "output_type": "stream",
     "text": [
      "['12-09-1992', '15-12-1999']\n"
     ]
    }
   ],
   "source": [
    "with open(r\"C:\\Users\\garbi\\OneDrive\\Documents\\Custom Office Templates\\Ron was born on 12-09-1992 and he w.txt\")as file:\n",
    "    for line in file:\n",
    "        ffx=re.findall(r\"\\d{2}-\\d{2}-\\d{4}\",line)\n",
    "        print(ffx)"
   ]
  },
  {
   "cell_type": "code",
   "execution_count": null,
   "id": "032c87cc",
   "metadata": {},
   "outputs": [],
   "source": []
  },
  {
   "cell_type": "markdown",
   "id": "462b9911",
   "metadata": {},
   "source": [
    "#### Question 30- Create a function in python to remove all words from a string of length between 2 and 4.\n",
    "#### The use of the re.compile() method is mandatory.\n",
    "#### Sample Text: \"The following example creates an ArrayList with a capacity of 50 elements. 4 elements\n",
    "    #### are then added to the ArrayList and the ArrayList is trimmed accordingly.\"\n",
    "#### Expected Output:  following example creates ArrayList a capacity elements. 4 elements added ArrayList ArrayList \n",
    "    #### trimmed accordingly."
   ]
  },
  {
   "cell_type": "code",
   "execution_count": null,
   "id": "24b2a8f6",
   "metadata": {},
   "outputs": [],
   "source": []
  },
  {
   "cell_type": "code",
   "execution_count": 224,
   "id": "0d4b2eb7",
   "metadata": {},
   "outputs": [],
   "source": [
    "btg='''The following example creates an ArrayList with a capacity of 50 elements. 4 elements\n",
    "are then added to the ArrayList and the ArrayList is trimmed accordingly'''"
   ]
  },
  {
   "cell_type": "code",
   "execution_count": 234,
   "id": "bbdcff1d",
   "metadata": {},
   "outputs": [],
   "source": [
    "char=re.compile(r'\\b\\w{2,4}\\b',)"
   ]
  },
  {
   "cell_type": "code",
   "execution_count": 235,
   "id": "ee7ad1d1",
   "metadata": {},
   "outputs": [],
   "source": [
    "nochar=char.sub(\"\",btg)"
   ]
  },
  {
   "cell_type": "code",
   "execution_count": 236,
   "id": "2166cb88",
   "metadata": {},
   "outputs": [
    {
     "name": "stdout",
     "output_type": "stream",
     "text": [
      " following example creates  ArrayList  a capacity   elements. 4 elements\n",
      "  added   ArrayList   ArrayList  trimmed accordingly\n"
     ]
    }
   ],
   "source": [
    "print(nochar)"
   ]
  },
  {
   "cell_type": "code",
   "execution_count": null,
   "id": "2638f340",
   "metadata": {},
   "outputs": [],
   "source": []
  }
 ],
 "metadata": {
  "kernelspec": {
   "display_name": "Python 3 (ipykernel)",
   "language": "python",
   "name": "python3"
  },
  "language_info": {
   "codemirror_mode": {
    "name": "ipython",
    "version": 3
   },
   "file_extension": ".py",
   "mimetype": "text/x-python",
   "name": "python",
   "nbconvert_exporter": "python",
   "pygments_lexer": "ipython3",
   "version": "3.10.9"
  }
 },
 "nbformat": 4,
 "nbformat_minor": 5
}
